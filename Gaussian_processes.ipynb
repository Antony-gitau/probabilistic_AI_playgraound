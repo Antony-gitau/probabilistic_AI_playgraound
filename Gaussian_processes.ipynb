{
  "nbformat": 4,
  "nbformat_minor": 0,
  "metadata": {
    "colab": {
      "provenance": [],
      "authorship_tag": "ABX9TyMN2KAjCilB7knZ1z6WszD9",
      "include_colab_link": true
    },
    "kernelspec": {
      "name": "python3",
      "display_name": "Python 3"
    },
    "language_info": {
      "name": "python"
    }
  },
  "cells": [
    {
      "cell_type": "markdown",
      "metadata": {
        "id": "view-in-github",
        "colab_type": "text"
      },
      "source": [
        "<a href=\"https://colab.research.google.com/github/Antony-gitau/probabilistic_AI_playgraound/blob/main/Gaussian_processes.ipynb\" target=\"_parent\"><img src=\"https://colab.research.google.com/assets/colab-badge.svg\" alt=\"Open In Colab\"/></a>"
      ]
    },
    {
      "cell_type": "markdown",
      "source": [
        "This notebook contains my notes and code of gaussian processes with pyro.I'm following the documentation on [pyro's docs](https://pyro.ai/examples/gp.html) as well as other resources which I will be adding on the notes as I come accoss them."
      ],
      "metadata": {
        "id": "nJqom-mA7ex8"
      }
    },
    {
      "cell_type": "code",
      "source": [
        "!pip install -q --upgrade pyro-ppl torch\n",
        "import pyro\n",
        "import torch\n",
        "import numpy as np\n",
        "import seaborn as sns"
      ],
      "metadata": {
        "colab": {
          "base_uri": "https://localhost:8080/"
        },
        "id": "XGPZdguw7zeJ",
        "outputId": "dc41dc13-79ef-455b-e498-873e7e0e2e9d"
      },
      "execution_count": 3,
      "outputs": [
        {
          "output_type": "stream",
          "name": "stdout",
          "text": [
            "\u001b[?25l     \u001b[90m━━━━━━━━━━━━━━━━━━━━━━━━━━━━━━━━━━━━━━━━\u001b[0m \u001b[32m0.0/730.7 kB\u001b[0m \u001b[31m?\u001b[0m eta \u001b[36m-:--:--\u001b[0m\r\u001b[2K     \u001b[90m━━━━━━━━━━━━━━━━━━━━━━━━━━━━━━━━━━━━━━\u001b[0m \u001b[32m730.7/730.7 kB\u001b[0m \u001b[31m33.3 MB/s\u001b[0m eta \u001b[36m0:00:00\u001b[0m\n",
            "\u001b[?25h"
          ]
        }
      ]
    },
    {
      "cell_type": "markdown",
      "source": [
        "Lets generate a 20 sample points from:\n",
        "\n",
        "\n",
        "$y = 0.5sin(3x) + ϵ, ϵ ~ 𝓝(0,0.2)$\n",
        "\n"
      ],
      "metadata": {
        "id": "VVjl3dtlAn3K"
      }
    },
    {
      "cell_type": "code",
      "source": [
        "import pyro.contrib.gp as gp\n",
        "import pyro.distributions as dist\n",
        "import matplotlib.pyplot as plt"
      ],
      "metadata": {
        "id": "mCFRpRPGCDl2"
      },
      "execution_count": 5,
      "outputs": []
    },
    {
      "cell_type": "code",
      "source": [
        "#samples = 20\n",
        "N = 20\n",
        "\n",
        "# x distribution, which is unformly sampled from [0,5]\n",
        "X = dist.Uniform(0.0, 5.0).sample(sample_shape=(N, ))\n",
        "\n",
        "#y distribution\n",
        "y = 0.5 * torch.sin(3 * X) + dist.Normal(0.0, 0.2).sample(sample_shape=(N, ))\n",
        "\n"
      ],
      "metadata": {
        "id": "w0wWBJREAl8h"
      },
      "execution_count": 8,
      "outputs": []
    },
    {
      "cell_type": "code",
      "source": [],
      "metadata": {
        "id": "YrBQCMhnD6Yu"
      },
      "execution_count": 9,
      "outputs": []
    }
  ]
}