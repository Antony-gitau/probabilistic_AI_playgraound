{
  "nbformat": 4,
  "nbformat_minor": 0,
  "metadata": {
    "colab": {
      "provenance": [],
      "authorship_tag": "ABX9TyOOpPdaOKhvsHGodv9E7SfC",
      "include_colab_link": true
    },
    "kernelspec": {
      "name": "python3",
      "display_name": "Python 3"
    },
    "language_info": {
      "name": "python"
    }
  },
  "cells": [
    {
      "cell_type": "markdown",
      "metadata": {
        "id": "view-in-github",
        "colab_type": "text"
      },
      "source": [
        "<a href=\"https://colab.research.google.com/github/Antony-gitau/probabilistic_AI_playgraound/blob/main/Introduction_to_Pyro_modelling_language_and_inference_algorithm.ipynb\" target=\"_parent\"><img src=\"https://colab.research.google.com/assets/colab-badge.svg\" alt=\"Open In Colab\"/></a>"
      ]
    },
    {
      "cell_type": "markdown",
      "source": [
        "This notebook is a collection of examples and notes of my pursuit to understand how to model probablistic machine learning algorithmns using a python based language --pyro.\n",
        "\n",
        "terms:\n",
        "- Pyro is a probablistic programming language (PPL) based on python and pytorch. \n",
        "\n",
        "- probabilistic machine learning algorithmms - models that are built in the language of probability.\n",
        "\n",
        "- probability is the mathematics of reasoning under uncertainity. \n",
        "\n",
        "- probabilistic program - a mixture of deterministic computation and randomly sampled values. \n",
        "\n",
        "- A latent variable is one that cannot be directly observed but is estimated based on a series of observed variables. In pyro, these variables are graphically represented as unshaded nodes.\n",
        "\n",
        "- Inference is drawing conclusions about latent variable from the data.\n",
        "\n",
        "- prior probability - it is the probability before evidence is taken into account.\n",
        "\n",
        "- posterior distribution is the result of updating the likelihood infomation (or evidence) to prior probability.\n",
        "\n"
      ],
      "metadata": {
        "id": "FwSnlGGHIvbE"
      }
    },
    {
      "cell_type": "code",
      "source": [
        "%%capture\n",
        "!pip install -q --upgrade pyro-ppl torch\n",
        "import torch\n",
        "import numpy as np\n",
        "import pandas as pd\n",
        "import seaborn as sns\n",
        "import matplotlib.pyplot as plt\n",
        "\n",
        "import pyro"
      ],
      "metadata": {
        "id": "gBxoWlK1J9LW"
      },
      "execution_count": 1,
      "outputs": []
    },
    {
      "cell_type": "markdown",
      "source": [
        "We got this data from the [pyro documenatation page](https://pyro.ai/examples/intro_long.html#)."
      ],
      "metadata": {
        "id": "wtT33GemP-BB"
      }
    },
    {
      "cell_type": "code",
      "source": [
        "DATA_URL = \"https://d2hg8soec8ck9v.cloudfront.net/datasets/rugged_data.csv\"\n",
        "data = pd.read_csv(DATA_URL, encoding=\"ISO-8859-1\")\n",
        "\n",
        "# we only want to investigate the ruggedness index, GPD per capital \n",
        "#of countries in Africa or not\n",
        "df = data[[\"cont_africa\", \"rugged\", \"rgdppc_2000\"]]"
      ],
      "metadata": {
        "id": "ovpsLVZMP3qH"
      },
      "execution_count": 2,
      "outputs": []
    },
    {
      "cell_type": "code",
      "source": [
        "df.head()"
      ],
      "metadata": {
        "colab": {
          "base_uri": "https://localhost:8080/",
          "height": 206
        },
        "id": "4oVBgmNQP6O9",
        "outputId": "685b85c2-d740-4501-dfbf-861fddcb6a88"
      },
      "execution_count": 3,
      "outputs": [
        {
          "output_type": "execute_result",
          "data": {
            "text/plain": [
              "   cont_africa  rugged  rgdppc_2000\n",
              "0            0   0.462          NaN\n",
              "1            0   2.518          NaN\n",
              "2            1   0.858     1794.729\n",
              "3            0   0.013          NaN\n",
              "4            0   3.427     3703.113"
            ],
            "text/html": [
              "\n",
              "  <div id=\"df-7f35b912-1636-4f59-bf85-fe23b9b76db7\">\n",
              "    <div class=\"colab-df-container\">\n",
              "      <div>\n",
              "<style scoped>\n",
              "    .dataframe tbody tr th:only-of-type {\n",
              "        vertical-align: middle;\n",
              "    }\n",
              "\n",
              "    .dataframe tbody tr th {\n",
              "        vertical-align: top;\n",
              "    }\n",
              "\n",
              "    .dataframe thead th {\n",
              "        text-align: right;\n",
              "    }\n",
              "</style>\n",
              "<table border=\"1\" class=\"dataframe\">\n",
              "  <thead>\n",
              "    <tr style=\"text-align: right;\">\n",
              "      <th></th>\n",
              "      <th>cont_africa</th>\n",
              "      <th>rugged</th>\n",
              "      <th>rgdppc_2000</th>\n",
              "    </tr>\n",
              "  </thead>\n",
              "  <tbody>\n",
              "    <tr>\n",
              "      <th>0</th>\n",
              "      <td>0</td>\n",
              "      <td>0.462</td>\n",
              "      <td>NaN</td>\n",
              "    </tr>\n",
              "    <tr>\n",
              "      <th>1</th>\n",
              "      <td>0</td>\n",
              "      <td>2.518</td>\n",
              "      <td>NaN</td>\n",
              "    </tr>\n",
              "    <tr>\n",
              "      <th>2</th>\n",
              "      <td>1</td>\n",
              "      <td>0.858</td>\n",
              "      <td>1794.729</td>\n",
              "    </tr>\n",
              "    <tr>\n",
              "      <th>3</th>\n",
              "      <td>0</td>\n",
              "      <td>0.013</td>\n",
              "      <td>NaN</td>\n",
              "    </tr>\n",
              "    <tr>\n",
              "      <th>4</th>\n",
              "      <td>0</td>\n",
              "      <td>3.427</td>\n",
              "      <td>3703.113</td>\n",
              "    </tr>\n",
              "  </tbody>\n",
              "</table>\n",
              "</div>\n",
              "      <button class=\"colab-df-convert\" onclick=\"convertToInteractive('df-7f35b912-1636-4f59-bf85-fe23b9b76db7')\"\n",
              "              title=\"Convert this dataframe to an interactive table.\"\n",
              "              style=\"display:none;\">\n",
              "        \n",
              "  <svg xmlns=\"http://www.w3.org/2000/svg\" height=\"24px\"viewBox=\"0 0 24 24\"\n",
              "       width=\"24px\">\n",
              "    <path d=\"M0 0h24v24H0V0z\" fill=\"none\"/>\n",
              "    <path d=\"M18.56 5.44l.94 2.06.94-2.06 2.06-.94-2.06-.94-.94-2.06-.94 2.06-2.06.94zm-11 1L8.5 8.5l.94-2.06 2.06-.94-2.06-.94L8.5 2.5l-.94 2.06-2.06.94zm10 10l.94 2.06.94-2.06 2.06-.94-2.06-.94-.94-2.06-.94 2.06-2.06.94z\"/><path d=\"M17.41 7.96l-1.37-1.37c-.4-.4-.92-.59-1.43-.59-.52 0-1.04.2-1.43.59L10.3 9.45l-7.72 7.72c-.78.78-.78 2.05 0 2.83L4 21.41c.39.39.9.59 1.41.59.51 0 1.02-.2 1.41-.59l7.78-7.78 2.81-2.81c.8-.78.8-2.07 0-2.86zM5.41 20L4 18.59l7.72-7.72 1.47 1.35L5.41 20z\"/>\n",
              "  </svg>\n",
              "      </button>\n",
              "      \n",
              "  <style>\n",
              "    .colab-df-container {\n",
              "      display:flex;\n",
              "      flex-wrap:wrap;\n",
              "      gap: 12px;\n",
              "    }\n",
              "\n",
              "    .colab-df-convert {\n",
              "      background-color: #E8F0FE;\n",
              "      border: none;\n",
              "      border-radius: 50%;\n",
              "      cursor: pointer;\n",
              "      display: none;\n",
              "      fill: #1967D2;\n",
              "      height: 32px;\n",
              "      padding: 0 0 0 0;\n",
              "      width: 32px;\n",
              "    }\n",
              "\n",
              "    .colab-df-convert:hover {\n",
              "      background-color: #E2EBFA;\n",
              "      box-shadow: 0px 1px 2px rgba(60, 64, 67, 0.3), 0px 1px 3px 1px rgba(60, 64, 67, 0.15);\n",
              "      fill: #174EA6;\n",
              "    }\n",
              "\n",
              "    [theme=dark] .colab-df-convert {\n",
              "      background-color: #3B4455;\n",
              "      fill: #D2E3FC;\n",
              "    }\n",
              "\n",
              "    [theme=dark] .colab-df-convert:hover {\n",
              "      background-color: #434B5C;\n",
              "      box-shadow: 0px 1px 3px 1px rgba(0, 0, 0, 0.15);\n",
              "      filter: drop-shadow(0px 1px 2px rgba(0, 0, 0, 0.3));\n",
              "      fill: #FFFFFF;\n",
              "    }\n",
              "  </style>\n",
              "\n",
              "      <script>\n",
              "        const buttonEl =\n",
              "          document.querySelector('#df-7f35b912-1636-4f59-bf85-fe23b9b76db7 button.colab-df-convert');\n",
              "        buttonEl.style.display =\n",
              "          google.colab.kernel.accessAllowed ? 'block' : 'none';\n",
              "\n",
              "        async function convertToInteractive(key) {\n",
              "          const element = document.querySelector('#df-7f35b912-1636-4f59-bf85-fe23b9b76db7');\n",
              "          const dataTable =\n",
              "            await google.colab.kernel.invokeFunction('convertToInteractive',\n",
              "                                                     [key], {});\n",
              "          if (!dataTable) return;\n",
              "\n",
              "          const docLinkHtml = 'Like what you see? Visit the ' +\n",
              "            '<a target=\"_blank\" href=https://colab.research.google.com/notebooks/data_table.ipynb>data table notebook</a>'\n",
              "            + ' to learn more about interactive tables.';\n",
              "          element.innerHTML = '';\n",
              "          dataTable['output_type'] = 'display_data';\n",
              "          await google.colab.output.renderOutput(dataTable, element);\n",
              "          const docLink = document.createElement('div');\n",
              "          docLink.innerHTML = docLinkHtml;\n",
              "          element.appendChild(docLink);\n",
              "        }\n",
              "      </script>\n",
              "    </div>\n",
              "  </div>\n",
              "  "
            ]
          },
          "metadata": {},
          "execution_count": 3
        }
      ]
    },
    {
      "cell_type": "markdown",
      "source": [
        "We are filtering out the rows under column `rgdppc_2000`that are non-finite, meaning they are NaN or infinity.\n",
        "\n",
        "We make these changes to our dataframe which results into columns with only finite values."
      ],
      "metadata": {
        "id": "dNkGrtLTR6ln"
      }
    },
    {
      "cell_type": "code",
      "source": [
        "df =df[np.isfinite(df['rgdppc_2000'])]\n",
        "df.head(10)"
      ],
      "metadata": {
        "colab": {
          "base_uri": "https://localhost:8080/",
          "height": 363
        },
        "id": "QDzAMJsPP7px",
        "outputId": "038723dd-176d-4d64-e618-f652287c5eb8"
      },
      "execution_count": 4,
      "outputs": [
        {
          "output_type": "execute_result",
          "data": {
            "text/plain": [
              "    cont_africa  rugged  rgdppc_2000\n",
              "2             1   0.858     1794.729\n",
              "4             0   3.427     3703.113\n",
              "7             0   0.769    20604.460\n",
              "8             0   0.775    12173.680\n",
              "9             0   2.688     2421.985\n",
              "11            0   0.006    10022.030\n",
              "12            0   0.143    25417.440\n",
              "13            0   3.513    28987.840\n",
              "14            0   1.672     2570.944\n",
              "15            1   1.780      621.652"
            ],
            "text/html": [
              "\n",
              "  <div id=\"df-2721a25d-64da-4156-9d3c-e8f6fef1f6e9\">\n",
              "    <div class=\"colab-df-container\">\n",
              "      <div>\n",
              "<style scoped>\n",
              "    .dataframe tbody tr th:only-of-type {\n",
              "        vertical-align: middle;\n",
              "    }\n",
              "\n",
              "    .dataframe tbody tr th {\n",
              "        vertical-align: top;\n",
              "    }\n",
              "\n",
              "    .dataframe thead th {\n",
              "        text-align: right;\n",
              "    }\n",
              "</style>\n",
              "<table border=\"1\" class=\"dataframe\">\n",
              "  <thead>\n",
              "    <tr style=\"text-align: right;\">\n",
              "      <th></th>\n",
              "      <th>cont_africa</th>\n",
              "      <th>rugged</th>\n",
              "      <th>rgdppc_2000</th>\n",
              "    </tr>\n",
              "  </thead>\n",
              "  <tbody>\n",
              "    <tr>\n",
              "      <th>2</th>\n",
              "      <td>1</td>\n",
              "      <td>0.858</td>\n",
              "      <td>1794.729</td>\n",
              "    </tr>\n",
              "    <tr>\n",
              "      <th>4</th>\n",
              "      <td>0</td>\n",
              "      <td>3.427</td>\n",
              "      <td>3703.113</td>\n",
              "    </tr>\n",
              "    <tr>\n",
              "      <th>7</th>\n",
              "      <td>0</td>\n",
              "      <td>0.769</td>\n",
              "      <td>20604.460</td>\n",
              "    </tr>\n",
              "    <tr>\n",
              "      <th>8</th>\n",
              "      <td>0</td>\n",
              "      <td>0.775</td>\n",
              "      <td>12173.680</td>\n",
              "    </tr>\n",
              "    <tr>\n",
              "      <th>9</th>\n",
              "      <td>0</td>\n",
              "      <td>2.688</td>\n",
              "      <td>2421.985</td>\n",
              "    </tr>\n",
              "    <tr>\n",
              "      <th>11</th>\n",
              "      <td>0</td>\n",
              "      <td>0.006</td>\n",
              "      <td>10022.030</td>\n",
              "    </tr>\n",
              "    <tr>\n",
              "      <th>12</th>\n",
              "      <td>0</td>\n",
              "      <td>0.143</td>\n",
              "      <td>25417.440</td>\n",
              "    </tr>\n",
              "    <tr>\n",
              "      <th>13</th>\n",
              "      <td>0</td>\n",
              "      <td>3.513</td>\n",
              "      <td>28987.840</td>\n",
              "    </tr>\n",
              "    <tr>\n",
              "      <th>14</th>\n",
              "      <td>0</td>\n",
              "      <td>1.672</td>\n",
              "      <td>2570.944</td>\n",
              "    </tr>\n",
              "    <tr>\n",
              "      <th>15</th>\n",
              "      <td>1</td>\n",
              "      <td>1.780</td>\n",
              "      <td>621.652</td>\n",
              "    </tr>\n",
              "  </tbody>\n",
              "</table>\n",
              "</div>\n",
              "      <button class=\"colab-df-convert\" onclick=\"convertToInteractive('df-2721a25d-64da-4156-9d3c-e8f6fef1f6e9')\"\n",
              "              title=\"Convert this dataframe to an interactive table.\"\n",
              "              style=\"display:none;\">\n",
              "        \n",
              "  <svg xmlns=\"http://www.w3.org/2000/svg\" height=\"24px\"viewBox=\"0 0 24 24\"\n",
              "       width=\"24px\">\n",
              "    <path d=\"M0 0h24v24H0V0z\" fill=\"none\"/>\n",
              "    <path d=\"M18.56 5.44l.94 2.06.94-2.06 2.06-.94-2.06-.94-.94-2.06-.94 2.06-2.06.94zm-11 1L8.5 8.5l.94-2.06 2.06-.94-2.06-.94L8.5 2.5l-.94 2.06-2.06.94zm10 10l.94 2.06.94-2.06 2.06-.94-2.06-.94-.94-2.06-.94 2.06-2.06.94z\"/><path d=\"M17.41 7.96l-1.37-1.37c-.4-.4-.92-.59-1.43-.59-.52 0-1.04.2-1.43.59L10.3 9.45l-7.72 7.72c-.78.78-.78 2.05 0 2.83L4 21.41c.39.39.9.59 1.41.59.51 0 1.02-.2 1.41-.59l7.78-7.78 2.81-2.81c.8-.78.8-2.07 0-2.86zM5.41 20L4 18.59l7.72-7.72 1.47 1.35L5.41 20z\"/>\n",
              "  </svg>\n",
              "      </button>\n",
              "      \n",
              "  <style>\n",
              "    .colab-df-container {\n",
              "      display:flex;\n",
              "      flex-wrap:wrap;\n",
              "      gap: 12px;\n",
              "    }\n",
              "\n",
              "    .colab-df-convert {\n",
              "      background-color: #E8F0FE;\n",
              "      border: none;\n",
              "      border-radius: 50%;\n",
              "      cursor: pointer;\n",
              "      display: none;\n",
              "      fill: #1967D2;\n",
              "      height: 32px;\n",
              "      padding: 0 0 0 0;\n",
              "      width: 32px;\n",
              "    }\n",
              "\n",
              "    .colab-df-convert:hover {\n",
              "      background-color: #E2EBFA;\n",
              "      box-shadow: 0px 1px 2px rgba(60, 64, 67, 0.3), 0px 1px 3px 1px rgba(60, 64, 67, 0.15);\n",
              "      fill: #174EA6;\n",
              "    }\n",
              "\n",
              "    [theme=dark] .colab-df-convert {\n",
              "      background-color: #3B4455;\n",
              "      fill: #D2E3FC;\n",
              "    }\n",
              "\n",
              "    [theme=dark] .colab-df-convert:hover {\n",
              "      background-color: #434B5C;\n",
              "      box-shadow: 0px 1px 3px 1px rgba(0, 0, 0, 0.15);\n",
              "      filter: drop-shadow(0px 1px 2px rgba(0, 0, 0, 0.3));\n",
              "      fill: #FFFFFF;\n",
              "    }\n",
              "  </style>\n",
              "\n",
              "      <script>\n",
              "        const buttonEl =\n",
              "          document.querySelector('#df-2721a25d-64da-4156-9d3c-e8f6fef1f6e9 button.colab-df-convert');\n",
              "        buttonEl.style.display =\n",
              "          google.colab.kernel.accessAllowed ? 'block' : 'none';\n",
              "\n",
              "        async function convertToInteractive(key) {\n",
              "          const element = document.querySelector('#df-2721a25d-64da-4156-9d3c-e8f6fef1f6e9');\n",
              "          const dataTable =\n",
              "            await google.colab.kernel.invokeFunction('convertToInteractive',\n",
              "                                                     [key], {});\n",
              "          if (!dataTable) return;\n",
              "\n",
              "          const docLinkHtml = 'Like what you see? Visit the ' +\n",
              "            '<a target=\"_blank\" href=https://colab.research.google.com/notebooks/data_table.ipynb>data table notebook</a>'\n",
              "            + ' to learn more about interactive tables.';\n",
              "          element.innerHTML = '';\n",
              "          dataTable['output_type'] = 'display_data';\n",
              "          await google.colab.output.renderOutput(dataTable, element);\n",
              "          const docLink = document.createElement('div');\n",
              "          docLink.innerHTML = docLinkHtml;\n",
              "          element.appendChild(docLink);\n",
              "        }\n",
              "      </script>\n",
              "    </div>\n",
              "  </div>\n",
              "  "
            ]
          },
          "metadata": {},
          "execution_count": 4
        }
      ]
    },
    {
      "cell_type": "markdown",
      "source": [
        "We then convert the finite values in the `rgdppc_2000` to natural log. We do so normalize the data or reduce the influence of extreme values ( [Best practice in statistics: The use of log transformation article](https://www.ncbi.nlm.nih.gov/pmc/articles/PMC9036143/)."
      ],
      "metadata": {
        "id": "HGAwuufDSml2"
      }
    },
    {
      "cell_type": "code",
      "source": [
        "df[\"rgdppc_2000\"] = np.log(df[\"rgdppc_2000\"])\n",
        "df.head(10)"
      ],
      "metadata": {
        "colab": {
          "base_uri": "https://localhost:8080/",
          "height": 363
        },
        "id": "usRnY6wJRdbc",
        "outputId": "32a03128-b8e5-4b27-e19a-c14f2fda73a9"
      },
      "execution_count": 5,
      "outputs": [
        {
          "output_type": "execute_result",
          "data": {
            "text/plain": [
              "    cont_africa  rugged  rgdppc_2000\n",
              "2             1   0.858     7.492609\n",
              "4             0   3.427     8.216929\n",
              "7             0   0.769     9.933263\n",
              "8             0   0.775     9.407032\n",
              "9             0   2.688     7.792343\n",
              "11            0   0.006     9.212541\n",
              "12            0   0.143    10.143191\n",
              "13            0   3.513    10.274632\n",
              "14            0   1.672     7.852028\n",
              "15            1   1.780     6.432380"
            ],
            "text/html": [
              "\n",
              "  <div id=\"df-a322a7d1-b773-429d-8f87-74399ee8b56e\">\n",
              "    <div class=\"colab-df-container\">\n",
              "      <div>\n",
              "<style scoped>\n",
              "    .dataframe tbody tr th:only-of-type {\n",
              "        vertical-align: middle;\n",
              "    }\n",
              "\n",
              "    .dataframe tbody tr th {\n",
              "        vertical-align: top;\n",
              "    }\n",
              "\n",
              "    .dataframe thead th {\n",
              "        text-align: right;\n",
              "    }\n",
              "</style>\n",
              "<table border=\"1\" class=\"dataframe\">\n",
              "  <thead>\n",
              "    <tr style=\"text-align: right;\">\n",
              "      <th></th>\n",
              "      <th>cont_africa</th>\n",
              "      <th>rugged</th>\n",
              "      <th>rgdppc_2000</th>\n",
              "    </tr>\n",
              "  </thead>\n",
              "  <tbody>\n",
              "    <tr>\n",
              "      <th>2</th>\n",
              "      <td>1</td>\n",
              "      <td>0.858</td>\n",
              "      <td>7.492609</td>\n",
              "    </tr>\n",
              "    <tr>\n",
              "      <th>4</th>\n",
              "      <td>0</td>\n",
              "      <td>3.427</td>\n",
              "      <td>8.216929</td>\n",
              "    </tr>\n",
              "    <tr>\n",
              "      <th>7</th>\n",
              "      <td>0</td>\n",
              "      <td>0.769</td>\n",
              "      <td>9.933263</td>\n",
              "    </tr>\n",
              "    <tr>\n",
              "      <th>8</th>\n",
              "      <td>0</td>\n",
              "      <td>0.775</td>\n",
              "      <td>9.407032</td>\n",
              "    </tr>\n",
              "    <tr>\n",
              "      <th>9</th>\n",
              "      <td>0</td>\n",
              "      <td>2.688</td>\n",
              "      <td>7.792343</td>\n",
              "    </tr>\n",
              "    <tr>\n",
              "      <th>11</th>\n",
              "      <td>0</td>\n",
              "      <td>0.006</td>\n",
              "      <td>9.212541</td>\n",
              "    </tr>\n",
              "    <tr>\n",
              "      <th>12</th>\n",
              "      <td>0</td>\n",
              "      <td>0.143</td>\n",
              "      <td>10.143191</td>\n",
              "    </tr>\n",
              "    <tr>\n",
              "      <th>13</th>\n",
              "      <td>0</td>\n",
              "      <td>3.513</td>\n",
              "      <td>10.274632</td>\n",
              "    </tr>\n",
              "    <tr>\n",
              "      <th>14</th>\n",
              "      <td>0</td>\n",
              "      <td>1.672</td>\n",
              "      <td>7.852028</td>\n",
              "    </tr>\n",
              "    <tr>\n",
              "      <th>15</th>\n",
              "      <td>1</td>\n",
              "      <td>1.780</td>\n",
              "      <td>6.432380</td>\n",
              "    </tr>\n",
              "  </tbody>\n",
              "</table>\n",
              "</div>\n",
              "      <button class=\"colab-df-convert\" onclick=\"convertToInteractive('df-a322a7d1-b773-429d-8f87-74399ee8b56e')\"\n",
              "              title=\"Convert this dataframe to an interactive table.\"\n",
              "              style=\"display:none;\">\n",
              "        \n",
              "  <svg xmlns=\"http://www.w3.org/2000/svg\" height=\"24px\"viewBox=\"0 0 24 24\"\n",
              "       width=\"24px\">\n",
              "    <path d=\"M0 0h24v24H0V0z\" fill=\"none\"/>\n",
              "    <path d=\"M18.56 5.44l.94 2.06.94-2.06 2.06-.94-2.06-.94-.94-2.06-.94 2.06-2.06.94zm-11 1L8.5 8.5l.94-2.06 2.06-.94-2.06-.94L8.5 2.5l-.94 2.06-2.06.94zm10 10l.94 2.06.94-2.06 2.06-.94-2.06-.94-.94-2.06-.94 2.06-2.06.94z\"/><path d=\"M17.41 7.96l-1.37-1.37c-.4-.4-.92-.59-1.43-.59-.52 0-1.04.2-1.43.59L10.3 9.45l-7.72 7.72c-.78.78-.78 2.05 0 2.83L4 21.41c.39.39.9.59 1.41.59.51 0 1.02-.2 1.41-.59l7.78-7.78 2.81-2.81c.8-.78.8-2.07 0-2.86zM5.41 20L4 18.59l7.72-7.72 1.47 1.35L5.41 20z\"/>\n",
              "  </svg>\n",
              "      </button>\n",
              "      \n",
              "  <style>\n",
              "    .colab-df-container {\n",
              "      display:flex;\n",
              "      flex-wrap:wrap;\n",
              "      gap: 12px;\n",
              "    }\n",
              "\n",
              "    .colab-df-convert {\n",
              "      background-color: #E8F0FE;\n",
              "      border: none;\n",
              "      border-radius: 50%;\n",
              "      cursor: pointer;\n",
              "      display: none;\n",
              "      fill: #1967D2;\n",
              "      height: 32px;\n",
              "      padding: 0 0 0 0;\n",
              "      width: 32px;\n",
              "    }\n",
              "\n",
              "    .colab-df-convert:hover {\n",
              "      background-color: #E2EBFA;\n",
              "      box-shadow: 0px 1px 2px rgba(60, 64, 67, 0.3), 0px 1px 3px 1px rgba(60, 64, 67, 0.15);\n",
              "      fill: #174EA6;\n",
              "    }\n",
              "\n",
              "    [theme=dark] .colab-df-convert {\n",
              "      background-color: #3B4455;\n",
              "      fill: #D2E3FC;\n",
              "    }\n",
              "\n",
              "    [theme=dark] .colab-df-convert:hover {\n",
              "      background-color: #434B5C;\n",
              "      box-shadow: 0px 1px 3px 1px rgba(0, 0, 0, 0.15);\n",
              "      filter: drop-shadow(0px 1px 2px rgba(0, 0, 0, 0.3));\n",
              "      fill: #FFFFFF;\n",
              "    }\n",
              "  </style>\n",
              "\n",
              "      <script>\n",
              "        const buttonEl =\n",
              "          document.querySelector('#df-a322a7d1-b773-429d-8f87-74399ee8b56e button.colab-df-convert');\n",
              "        buttonEl.style.display =\n",
              "          google.colab.kernel.accessAllowed ? 'block' : 'none';\n",
              "\n",
              "        async function convertToInteractive(key) {\n",
              "          const element = document.querySelector('#df-a322a7d1-b773-429d-8f87-74399ee8b56e');\n",
              "          const dataTable =\n",
              "            await google.colab.kernel.invokeFunction('convertToInteractive',\n",
              "                                                     [key], {});\n",
              "          if (!dataTable) return;\n",
              "\n",
              "          const docLinkHtml = 'Like what you see? Visit the ' +\n",
              "            '<a target=\"_blank\" href=https://colab.research.google.com/notebooks/data_table.ipynb>data table notebook</a>'\n",
              "            + ' to learn more about interactive tables.';\n",
              "          element.innerHTML = '';\n",
              "          dataTable['output_type'] = 'display_data';\n",
              "          await google.colab.output.renderOutput(dataTable, element);\n",
              "          const docLink = document.createElement('div');\n",
              "          docLink.innerHTML = docLinkHtml;\n",
              "          element.appendChild(docLink);\n",
              "        }\n",
              "      </script>\n",
              "    </div>\n",
              "  </div>\n",
              "  "
            ]
          },
          "metadata": {},
          "execution_count": 5
        }
      ]
    },
    {
      "cell_type": "code",
      "source": [
        "values = df.values\n",
        "print(values.shape)\n",
        "print(values.dtype)"
      ],
      "metadata": {
        "colab": {
          "base_uri": "https://localhost:8080/"
        },
        "id": "tOutM1eZSgQq",
        "outputId": "7a718f34-52c5-4c79-d2ca-46e7b5334a95"
      },
      "execution_count": 6,
      "outputs": [
        {
          "output_type": "stream",
          "name": "stdout",
          "text": [
            "(170, 3)\n",
            "float64\n"
          ]
        }
      ]
    },
    {
      "cell_type": "markdown",
      "source": [
        "We want to convert the numpy arrays above in the dataframe, df to torch tensors for processing in pytorch and pyro.\n",
        "\n",
        "To do that, we first get all the numpy array ,`df.values`, and pass them through the ,`torch.tensor function`, as we specify the type of torch tensors as floating points. \n",
        "\n",
        "We then assign the three variables (columns) the appropriate tensors."
      ],
      "metadata": {
        "id": "8ELrH1BWUpDf"
      }
    },
    {
      "cell_type": "code",
      "source": [
        "train = torch.tensor(df.values, dtype=torch.float)\n",
        "is_cont_africa, ruggedness, log_gdp = train[:, 0], train[:, 1], train[:, 2]"
      ],
      "metadata": {
        "id": "6Sxg8--3THfv"
      },
      "execution_count": 7,
      "outputs": []
    },
    {
      "cell_type": "code",
      "source": [
        "train.shape"
      ],
      "metadata": {
        "colab": {
          "base_uri": "https://localhost:8080/"
        },
        "id": "t56BNxCjTmHO",
        "outputId": "f8a422c7-8aca-4381-e24f-63fd24a76e88"
      },
      "execution_count": 8,
      "outputs": [
        {
          "output_type": "execute_result",
          "data": {
            "text/plain": [
              "torch.Size([170, 3])"
            ]
          },
          "metadata": {},
          "execution_count": 8
        }
      ]
    },
    {
      "cell_type": "markdown",
      "source": [
        "Let's try to visualize our data.\n",
        "\n",
        "1. A scatter plot of african nation rugged index on x axis and their GDPs on the y axis."
      ],
      "metadata": {
        "id": "WYJCXO4OWIrk"
      }
    },
    {
      "cell_type": "code",
      "source": [
        "# Create a subset of the original dataframe containing only African countries\n",
        "african_countries = df[df['cont_africa'] == 1]\n",
        "\n",
        "# Create a scatter plot of ruggedness vs. log GDP for African countries\n",
        "sns.scatterplot( x = african_countries['rugged'],\n",
        "                y = african_countries['rgdppc_2000'])\n",
        "\n",
        "\n",
        "# Set the plot title and axis labels\n",
        "plt.title('Relationship Between Ruggedness and GDP for African Countries')\n",
        "plt.xlabel('Ruggedness')\n",
        "plt.ylabel('Log GDP')\n",
        "\n",
        "# Display the plot\n",
        "plt.show()"
      ],
      "metadata": {
        "colab": {
          "base_uri": "https://localhost:8080/",
          "height": 472
        },
        "id": "n2HUfp9rTt00",
        "outputId": "55398336-9a6f-4a92-ad74-b257b4be13d8"
      },
      "execution_count": 9,
      "outputs": [
        {
          "output_type": "display_data",
          "data": {
            "text/plain": [
              "<Figure size 640x480 with 1 Axes>"
            ],
            "image/png": "[encoded data removed]"
          },
          "metadata": {}
        }
      ]
    },
    {
      "cell_type": "markdown",
      "source": [
        "2. We can use the above code (only changing the countries to non-african) to plot for non- african countries as well."
      ],
      "metadata": {
        "id": "Yf4E_ZJPYdsQ"
      }
    },
    {
      "cell_type": "code",
      "source": [
        "# Create a subset of the original dataframe containing only African countries\n",
        "non_african_countries = df[df['cont_africa'] == 0]\n",
        "\n",
        "# Create a scatter plot of ruggedness vs. log GDP for African countries\n",
        "sns.scatterplot( x = non_african_countries['rugged'],\n",
        "                y = non_african_countries['rgdppc_2000'])\n",
        "\n",
        "\n",
        "# Set the plot title and axis labels\n",
        "plt.title('Relationship Between Ruggedness and GDP for non African Countries')\n",
        "plt.xlabel('Ruggedness')\n",
        "plt.ylabel('Log GDP')\n",
        "\n",
        "# Display the plot"
      ],
      "metadata": {
        "colab": {
          "base_uri": "https://localhost:8080/",
          "height": 489
        },
        "id": "BwjaufJOXhR5",
        "outputId": "f2762b7b-ffbb-49d2-ab30-7c09f7db253a"
      },
      "execution_count": 10,
      "outputs": [
        {
          "output_type": "execute_result",
          "data": {
            "text/plain": [
              "Text(0, 0.5, 'Log GDP')"
            ]
          },
          "metadata": {},
          "execution_count": 10
        },
        {
          "output_type": "display_data",
          "data": {
            "text/plain": [
              "<Figure size 640x480 with 1 Axes>"
            ],
            "image/png": "[encoded data removed]"
          },
          "metadata": {}
        }
      ]
    },
    {
      "cell_type": "markdown",
      "source": [
        "The two plot show that there is a possibile relationship between the ruggedness and GDP.\n",
        "\n",
        "We can be certain by employing bayesian linear regression."
      ],
      "metadata": {
        "id": "l65_WnhLc_OC"
      }
    },
    {
      "cell_type": "code",
      "source": [
        "import pyro.distributions as dist\n",
        "import pyro.distributions.constraints as constraints\n",
        "\n",
        "# we create a pyro model and pass three variables with log_gdp as none as its the dependent variable\n",
        "def simple_model(is_cont_africa, ruggedness, log_gdp=None):\n",
        "\n",
        "  # we define model parameters as pyro parameters which could be learned by inference\n",
        "    a = pyro.param(\"a\", lambda: torch.randn(()))\n",
        "    b_a = pyro.param(\"bA\", lambda: torch.randn(()))\n",
        "    b_r = pyro.param(\"bR\", lambda: torch.randn(()))\n",
        "    b_ar = pyro.param(\"bAR\", lambda: torch.randn(()))\n",
        "    sigma = pyro.param(\"sigma\", lambda: torch.ones(()), constraint=constraints.positive)\n",
        "\n",
        "\n",
        "    #  mean of the normal distribution that describes the relationship dependent and independent variable\n",
        "    mean = a + b_a * is_cont_africa + b_r * ruggedness + b_ar * is_cont_africa * ruggedness\n",
        "\n",
        "# calculate the posterior distribution over the model parameters given the observed data\n",
        "    with pyro.plate(\"data\", len(ruggedness)):\n",
        "        return pyro.sample(\"obs\", dist.Normal(mean, sigma), obs=log_gdp)\n",
        "\n",
        "#generates a graphical representation of the model\n",
        "pyro.render_model(simple_model, model_args=(is_cont_africa, ruggedness, log_gdp), render_distributions=True, render_params=True)\n"
      ],
      "metadata": {
        "id": "xNncfADddhFg",
        "outputId": "cfc83a39-2c21-4fb7-f9b1-92b30b66d567",
        "colab": {
          "base_uri": "https://localhost:8080/",
          "height": 311
        }
      },
      "execution_count": 11,
      "outputs": [
        {
          "output_type": "execute_result",
          "data": {
            "image/svg+xml": "<?xml version=\"1.0\" encoding=\"UTF-8\" standalone=\"no\"?>\n<!DOCTYPE svg PUBLIC \"-//W3C//DTD SVG 1.1//EN\"\n \"http://www.w3.org/Graphics/SVG/1.1/DTD/svg11.dtd\">\n<!-- Generated by graphviz version 2.43.0 (0)\n -->\n<!-- Title: %3 Pages: 1 -->\n<svg width=\"435pt\" height=\"217pt\"\n viewBox=\"0.00 0.00 435.00 217.00\" xmlns=\"http://www.w3.org/2000/svg\" xmlns:xlink=\"http://www.w3.org/1999/xlink\">\n<g id=\"graph0\" class=\"graph\" transform=\"scale(1 1) rotate(0) translate(4 213)\">\n<title>%3</title>\n<polygon fill=\"white\" stroke=\"transparent\" points=\"-4,4 -4,-213 431,-213 431,4 -4,4\"/>\n<g id=\"clust1\" class=\"cluster\">\n<title>cluster_data</title>\n<polygon fill=\"none\" stroke=\"black\" points=\"60.5,-8 60.5,-83 130.5,-83 130.5,-8 60.5,-8\"/>\n<text text-anchor=\"middle\" x=\"111\" y=\"-15.8\" font-family=\"Times,serif\" font-size=\"14.00\">data</text>\n</g>\n<!-- bA -->\n<g id=\"node1\" class=\"node\">\n<title>bA</title>\n<polygon fill=\"white\" stroke=\"transparent\" points=\"17,-167.5 0,-167.5 0,-152.5 17,-152.5 17,-167.5\"/>\n<text text-anchor=\"middle\" x=\"8.5\" y=\"-156.3\" font-family=\"Times,serif\" font-size=\"14.00\">bA</text>\n</g>\n<!-- obs -->\n<g id=\"node6\" class=\"node\">\n<title>obs</title>\n<ellipse fill=\"gray\" stroke=\"black\" cx=\"95.5\" cy=\"-57\" rx=\"27\" ry=\"18\"/>\n<text text-anchor=\"middle\" x=\"95.5\" y=\"-53.3\" font-family=\"Times,serif\" font-size=\"14.00\">obs</text>\n</g>\n<!-- bA&#45;&gt;obs -->\n<g id=\"edge1\" class=\"edge\">\n<title>bA&#45;&gt;obs</title>\n<path fill=\"none\" stroke=\"black\" d=\"M9.8,-152.22C11.94,-142.38 16.97,-123.88 26.5,-111 37.26,-96.46 53.06,-83.92 66.82,-74.7\"/>\n<polygon fill=\"black\" stroke=\"black\" points=\"68.97,-77.48 75.5,-69.13 65.19,-71.59 68.97,-77.48\"/>\n</g>\n<!-- sigma -->\n<g id=\"node2\" class=\"node\">\n<title>sigma</title>\n<polygon fill=\"white\" stroke=\"transparent\" points=\"69.5,-167.5 35.5,-167.5 35.5,-152.5 69.5,-152.5 69.5,-167.5\"/>\n<text text-anchor=\"middle\" x=\"52.5\" y=\"-156.3\" font-family=\"Times,serif\" font-size=\"14.00\">sigma</text>\n</g>\n<!-- sigma&#45;&gt;obs -->\n<g id=\"edge4\" class=\"edge\">\n<title>sigma&#45;&gt;obs</title>\n<path fill=\"none\" stroke=\"black\" d=\"M55.32,-152.37C61.12,-138.76 74.63,-107.02 84.39,-84.1\"/>\n<polygon fill=\"black\" stroke=\"black\" points=\"87.74,-85.17 88.44,-74.59 81.3,-82.42 87.74,-85.17\"/>\n</g>\n<!-- bR -->\n<g id=\"node3\" class=\"node\">\n<title>bR</title>\n<polygon fill=\"white\" stroke=\"transparent\" points=\"103.5,-167.5 87.5,-167.5 87.5,-152.5 103.5,-152.5 103.5,-167.5\"/>\n<text text-anchor=\"middle\" x=\"95.5\" y=\"-156.3\" font-family=\"Times,serif\" font-size=\"14.00\">bR</text>\n</g>\n<!-- bR&#45;&gt;obs -->\n<g id=\"edge2\" class=\"edge\">\n<title>bR&#45;&gt;obs</title>\n<path fill=\"none\" stroke=\"black\" d=\"M95.5,-152.37C95.5,-139.04 95.5,-108.29 95.5,-85.49\"/>\n<polygon fill=\"black\" stroke=\"black\" points=\"99,-85.36 95.5,-75.36 92,-85.36 99,-85.36\"/>\n</g>\n<!-- a -->\n<g id=\"node4\" class=\"node\">\n<title>a</title>\n<polygon fill=\"white\" stroke=\"transparent\" points=\"129,-167.5 122,-167.5 122,-152.5 129,-152.5 129,-167.5\"/>\n<text text-anchor=\"middle\" x=\"125.5\" y=\"-156.3\" font-family=\"Times,serif\" font-size=\"14.00\">a</text>\n</g>\n<!-- a&#45;&gt;obs -->\n<g id=\"edge3\" class=\"edge\">\n<title>a&#45;&gt;obs</title>\n<path fill=\"none\" stroke=\"black\" d=\"M123.83,-152.45C121.44,-143.19 116.86,-125.74 112.5,-111 109.93,-102.3 106.96,-92.86 104.23,-84.39\"/>\n<polygon fill=\"black\" stroke=\"black\" points=\"107.48,-83.07 101.06,-74.65 100.82,-85.24 107.48,-83.07\"/>\n</g>\n<!-- bAR -->\n<g id=\"node5\" class=\"node\">\n<title>bAR</title>\n<polygon fill=\"white\" stroke=\"transparent\" points=\"173.5,-167.5 147.5,-167.5 147.5,-152.5 173.5,-152.5 173.5,-167.5\"/>\n<text text-anchor=\"middle\" x=\"160.5\" y=\"-156.3\" font-family=\"Times,serif\" font-size=\"14.00\">bAR</text>\n</g>\n<!-- bAR&#45;&gt;obs -->\n<g id=\"edge5\" class=\"edge\">\n<title>bAR&#45;&gt;obs</title>\n<path fill=\"none\" stroke=\"black\" d=\"M158.01,-152.21C154.38,-142.65 147.11,-124.86 138.5,-111 131.99,-100.52 123.66,-89.8 116.07,-80.76\"/>\n<polygon fill=\"black\" stroke=\"black\" points=\"118.56,-78.29 109.38,-72.99 113.26,-82.86 118.56,-78.29\"/>\n</g>\n<!-- distribution_description_node -->\n<g id=\"node7\" class=\"node\">\n<title>distribution_description_node</title>\n<text text-anchor=\"start\" x=\"200\" y=\"-193.8\" font-family=\"Times,serif\" font-size=\"14.00\">obs ~ Normal</text>\n<text text-anchor=\"start\" x=\"200\" y=\"-178.8\" font-family=\"Times,serif\" font-size=\"14.00\">a : Real()</text>\n<text text-anchor=\"start\" x=\"200\" y=\"-163.8\" font-family=\"Times,serif\" font-size=\"14.00\">bA : Real()</text>\n<text text-anchor=\"start\" x=\"200\" y=\"-148.8\" font-family=\"Times,serif\" font-size=\"14.00\">bR : Real()</text>\n<text text-anchor=\"start\" x=\"200\" y=\"-133.8\" font-family=\"Times,serif\" font-size=\"14.00\">bAR : Real()</text>\n<text text-anchor=\"start\" x=\"200\" y=\"-118.8\" font-family=\"Times,serif\" font-size=\"14.00\">sigma : GreaterThan(lower_bound=0.0)</text>\n</g>\n</g>\n</svg>\n",
            "text/plain": [
              "<graphviz.graphs.Digraph at 0x7ff01af36a60>"
            ]
          },
          "metadata": {},
          "execution_count": 11
        }
      ]
    },
    {
      "cell_type": "markdown",
      "source": [
        "In the above code;\n",
        "1. we import the pyro libraries that we need for distribution and constraints definition\n",
        "\n",
        "2. we define a model function that will take in the three variable -- 2 independent (is_cont_africa and ruggedness) and one dependent (log_gdp)\n",
        "\n",
        "3. We initialize model parameters as pyro learnable parameters that could be learned through probabilistic inference. \n",
        "\n",
        "4. we define the multiple regression predictor function that will calculate the normal distribution that describes the relationship between the predictors (independent)and reponse (or dependent) variable in this case log GDP. \n",
        "\n",
        "5. We lastly  calculate the posterior distribution over the model parameters given the observed data and render them as graphical representation."
      ],
      "metadata": {
        "id": "CbTrtZjnnsFw"
      }
    },
    {
      "cell_type": "markdown",
      "source": [
        "**Variational inference:**\n",
        " this is one of the approximate inference algorithms.\n",
        "\n",
        "This is how it works:\n",
        " - Finds the real-valued parameters( $\\theta_{max}$) of distribution $𝑞_𝜙(z)$ \n",
        " - Compute the approximation of parameterized distribution $𝑞_𝜙(z)$ to true unknown posterior $𝑃𝜃_{max}(z|x)$. $𝜙$ is variational parameter.\n",
        " - To get the approximations, convert the intergrals into optimization of functions $𝘗$ and $𝑞$.\n",
        " \n",
        "  mean-field approximation -> approximate the posterior distribution over the parameters of a model,"
      ],
      "metadata": {
        "id": "ql6vvG2CxqWq"
      }
    },
    {
      "cell_type": "code",
      "source": [
        "# we define a guide function that takes same parameters as the model above\n",
        "#guide function the variational distribution\n",
        "def custom_guide(is_cont_africa, ruggedness, log_gdp=None):\n",
        "\n",
        "  # we define and initialize the pyro parameters used by the guide. \n",
        "  a_loc = pyro.param(\"a_loc\", lambda: torch.tensor(0.))\n",
        "  a_scale = pyro.param(\"a_scale\", lambda: torch.tensor(1.), constraint=constraints.positive)\n",
        "  sigma_loc = pyro.param(\"sigma_loc\", lambda: torch.tensor(1.), constraint=constraints.positive)\n",
        "\n",
        "  weights_loc = pyro.param(\"weights_loc\", lambda:torch.randn(3))\n",
        "  weights_scale = pyro.param(\"weights_scale\", lambda:torch.ones(3), constraint=constraints.positive)\n",
        "  \n",
        "  a = pyro.sample(\"a\", dist.Normal(a_loc, a_scale))\n",
        "  b_a = pyro.sample(\"bA\", dist.Normal(weights_loc[0], weights_scale[0]))\n",
        "  b_r = pyro.sample(\"bR\", dist.Normal(weights_loc[1], weights_scale[1]))\n",
        "  b_ar = pyro.sample(\"bAR\", dist.Normal(weights_loc[2], weights_scale[2]))\n",
        "  sigma = pyro.sample(\"sigma\", dist.Normal(sigma_loc, torch.tensor(0.05)))\n",
        "  return {\"a\": a, \"b_a\": b_a, \"b_r\": b_r, \"b_ar\": b_ar, \"sigma\": sigma}\n"
      ],
      "metadata": {
        "id": "KNgQSGJJprK6"
      },
      "execution_count": 12,
      "outputs": []
    },
    {
      "cell_type": "code",
      "source": [
        "#visualize that random variables\n",
        "pyro.render_model(custom_guide, model_args=(is_cont_africa, ruggedness,log_gdp), render_params=True)"
      ],
      "metadata": {
        "id": "I4y9TGsY4PJr",
        "outputId": "db1981c1-4e8f-4245-84a9-67fb7e8275e9",
        "colab": {
          "base_uri": "https://localhost:8080/",
          "height": 148
        }
      },
      "execution_count": 13,
      "outputs": [
        {
          "output_type": "execute_result",
          "data": {
            "image/svg+xml": "<?xml version=\"1.0\" encoding=\"UTF-8\" standalone=\"no\"?>\n<!DOCTYPE svg PUBLIC \"-//W3C//DTD SVG 1.1//EN\"\n \"http://www.w3.org/Graphics/SVG/1.1/DTD/svg11.dtd\">\n<!-- Generated by graphviz version 2.43.0 (0)\n -->\n<!-- Title: %3 Pages: 1 -->\n<svg width=\"378pt\" height=\"95pt\"\n viewBox=\"0.00 0.00 378.50 95.00\" xmlns=\"http://www.w3.org/2000/svg\" xmlns:xlink=\"http://www.w3.org/1999/xlink\">\n<g id=\"graph0\" class=\"graph\" transform=\"scale(1 1) rotate(0) translate(4 91)\">\n<title>%3</title>\n<polygon fill=\"white\" stroke=\"transparent\" points=\"-4,4 -4,-91 374.5,-91 374.5,4 -4,4\"/>\n<!-- a -->\n<g id=\"node1\" class=\"node\">\n<title>a</title>\n<ellipse fill=\"white\" stroke=\"black\" cx=\"30\" cy=\"-18\" rx=\"27\" ry=\"18\"/>\n<text text-anchor=\"middle\" x=\"30\" y=\"-14.3\" font-family=\"Times,serif\" font-size=\"14.00\">a</text>\n</g>\n<!-- bA -->\n<g id=\"node2\" class=\"node\">\n<title>bA</title>\n<ellipse fill=\"white\" stroke=\"black\" cx=\"115\" cy=\"-18\" rx=\"27\" ry=\"18\"/>\n<text text-anchor=\"middle\" x=\"115\" y=\"-14.3\" font-family=\"Times,serif\" font-size=\"14.00\">bA</text>\n</g>\n<!-- bR -->\n<g id=\"node3\" class=\"node\">\n<title>bR</title>\n<ellipse fill=\"white\" stroke=\"black\" cx=\"187\" cy=\"-18\" rx=\"27\" ry=\"18\"/>\n<text text-anchor=\"middle\" x=\"187\" y=\"-14.3\" font-family=\"Times,serif\" font-size=\"14.00\">bR</text>\n</g>\n<!-- bAR -->\n<g id=\"node4\" class=\"node\">\n<title>bAR</title>\n<ellipse fill=\"white\" stroke=\"black\" cx=\"259\" cy=\"-18\" rx=\"27.1\" ry=\"18\"/>\n<text text-anchor=\"middle\" x=\"259\" y=\"-14.3\" font-family=\"Times,serif\" font-size=\"14.00\">bAR</text>\n</g>\n<!-- sigma -->\n<g id=\"node5\" class=\"node\">\n<title>sigma</title>\n<ellipse fill=\"white\" stroke=\"black\" cx=\"338\" cy=\"-18\" rx=\"32.49\" ry=\"18\"/>\n<text text-anchor=\"middle\" x=\"338\" y=\"-14.3\" font-family=\"Times,serif\" font-size=\"14.00\">sigma</text>\n</g>\n<!-- a_loc -->\n<g id=\"node6\" class=\"node\">\n<title>a_loc</title>\n<polygon fill=\"white\" stroke=\"transparent\" points=\"30,-87 0,-87 0,-72 30,-72 30,-87\"/>\n<text text-anchor=\"middle\" x=\"15\" y=\"-75.8\" font-family=\"Times,serif\" font-size=\"14.00\">a_loc</text>\n</g>\n<!-- a_loc&#45;&gt;a -->\n<g id=\"edge2\" class=\"edge\">\n<title>a_loc&#45;&gt;a</title>\n<path fill=\"none\" stroke=\"black\" d=\"M16.72,-71.67C18.33,-65.31 20.83,-55.39 23.23,-45.87\"/>\n<polygon fill=\"black\" stroke=\"black\" points=\"26.69,-46.43 25.75,-35.88 19.91,-44.72 26.69,-46.43\"/>\n</g>\n<!-- sigma_loc -->\n<g id=\"node7\" class=\"node\">\n<title>sigma_loc</title>\n<polygon fill=\"white\" stroke=\"transparent\" points=\"366.5,-87 309.5,-87 309.5,-72 366.5,-72 366.5,-87\"/>\n<text text-anchor=\"middle\" x=\"338\" y=\"-75.8\" font-family=\"Times,serif\" font-size=\"14.00\">sigma_loc</text>\n</g>\n<!-- sigma_loc&#45;&gt;sigma -->\n<g id=\"edge9\" class=\"edge\">\n<title>sigma_loc&#45;&gt;sigma</title>\n<path fill=\"none\" stroke=\"black\" d=\"M338,-71.67C338,-65.42 338,-55.74 338,-46.37\"/>\n<polygon fill=\"black\" stroke=\"black\" points=\"341.5,-46.13 338,-36.13 334.5,-46.13 341.5,-46.13\"/>\n</g>\n<!-- a_scale -->\n<g id=\"node8\" class=\"node\">\n<title>a_scale</title>\n<polygon fill=\"white\" stroke=\"transparent\" points=\"88,-87 48,-87 48,-72 88,-72 88,-87\"/>\n<text text-anchor=\"middle\" x=\"68\" y=\"-75.8\" font-family=\"Times,serif\" font-size=\"14.00\">a_scale</text>\n</g>\n<!-- a_scale&#45;&gt;a -->\n<g id=\"edge1\" class=\"edge\">\n<title>a_scale&#45;&gt;a</title>\n<path fill=\"none\" stroke=\"black\" d=\"M63.64,-71.67C59.24,-64.78 52.17,-53.72 45.65,-43.51\"/>\n<polygon fill=\"black\" stroke=\"black\" points=\"48.48,-41.43 40.14,-34.88 42.58,-45.19 48.48,-41.43\"/>\n</g>\n<!-- weights_scale -->\n<g id=\"node9\" class=\"node\">\n<title>weights_scale</title>\n<polygon fill=\"white\" stroke=\"transparent\" points=\"207,-87 131,-87 131,-72 207,-72 207,-87\"/>\n<text text-anchor=\"middle\" x=\"169\" y=\"-75.8\" font-family=\"Times,serif\" font-size=\"14.00\">weights_scale</text>\n</g>\n<!-- weights_scale&#45;&gt;bA -->\n<g id=\"edge3\" class=\"edge\">\n<title>weights_scale&#45;&gt;bA</title>\n<path fill=\"none\" stroke=\"black\" d=\"M162.81,-71.67C156.12,-64.31 145.11,-52.18 135.34,-41.41\"/>\n<polygon fill=\"black\" stroke=\"black\" points=\"137.84,-38.96 128.53,-33.9 132.66,-43.66 137.84,-38.96\"/>\n</g>\n<!-- weights_scale&#45;&gt;bR -->\n<g id=\"edge5\" class=\"edge\">\n<title>weights_scale&#45;&gt;bR</title>\n<path fill=\"none\" stroke=\"black\" d=\"M171.06,-71.67C173.01,-65.24 176.06,-55.18 178.96,-45.56\"/>\n<polygon fill=\"black\" stroke=\"black\" points=\"182.35,-46.46 181.89,-35.88 175.65,-44.43 182.35,-46.46\"/>\n</g>\n<!-- weights_scale&#45;&gt;bAR -->\n<g id=\"edge7\" class=\"edge\">\n<title>weights_scale&#45;&gt;bAR</title>\n<path fill=\"none\" stroke=\"black\" d=\"M178.98,-71.91C191.64,-63.53 213.99,-48.76 231.86,-36.94\"/>\n<polygon fill=\"black\" stroke=\"black\" points=\"233.8,-39.86 240.21,-31.42 229.93,-34.02 233.8,-39.86\"/>\n</g>\n<!-- weights_loc -->\n<g id=\"node10\" class=\"node\">\n<title>weights_loc</title>\n<polygon fill=\"white\" stroke=\"transparent\" points=\"291,-87 225,-87 225,-72 291,-72 291,-87\"/>\n<text text-anchor=\"middle\" x=\"258\" y=\"-75.8\" font-family=\"Times,serif\" font-size=\"14.00\">weights_loc</text>\n</g>\n<!-- weights_loc&#45;&gt;bA -->\n<g id=\"edge4\" class=\"edge\">\n<title>weights_loc&#45;&gt;bA</title>\n<path fill=\"none\" stroke=\"black\" d=\"M240.44,-71.92C219.13,-63.83 182.17,-49.53 151,-36 149.19,-35.22 147.34,-34.39 145.48,-33.56\"/>\n<polygon fill=\"black\" stroke=\"black\" points=\"146.77,-30.3 136.22,-29.29 143.84,-36.65 146.77,-30.3\"/>\n</g>\n<!-- weights_loc&#45;&gt;bR -->\n<g id=\"edge6\" class=\"edge\">\n<title>weights_loc&#45;&gt;bR</title>\n<path fill=\"none\" stroke=\"black\" d=\"M250.13,-71.91C240.8,-64.09 224.81,-50.69 211.26,-39.33\"/>\n<polygon fill=\"black\" stroke=\"black\" points=\"213.13,-36.33 203.22,-32.59 208.63,-41.7 213.13,-36.33\"/>\n</g>\n<!-- weights_loc&#45;&gt;bAR -->\n<g id=\"edge8\" class=\"edge\">\n<title>weights_loc&#45;&gt;bAR</title>\n<path fill=\"none\" stroke=\"black\" d=\"M258.11,-71.67C258.22,-65.42 258.38,-55.74 258.54,-46.37\"/>\n<polygon fill=\"black\" stroke=\"black\" points=\"262.04,-46.18 258.71,-36.13 255.04,-46.07 262.04,-46.18\"/>\n</g>\n</g>\n</svg>\n",
            "text/plain": [
              "<graphviz.graphs.Digraph at 0x7ff01aef5b20>"
            ]
          },
          "metadata": {},
          "execution_count": 13
        }
      ]
    },
    {
      "cell_type": "code",
      "source": [
        "#generating an autoguide\n",
        "auto_guide = pyro.infer.autoguide.AutoNormal(simple_model)\n",
        "pyro.render_model(auto_guide, model_args=(is_cont_africa, ruggedness), render_distributions=True, render_params=True)"
      ],
      "metadata": {
        "id": "kE3cc5Xq4ojX",
        "outputId": "404fe689-7dc7-48ce-95c9-dd791d870c3b",
        "colab": {
          "base_uri": "https://localhost:8080/",
          "height": 387
        }
      },
      "execution_count": 14,
      "outputs": [
        {
          "output_type": "execute_result",
          "data": {
            "image/svg+xml": "<?xml version=\"1.0\" encoding=\"UTF-8\" standalone=\"no\"?>\n<!DOCTYPE svg PUBLIC \"-//W3C//DTD SVG 1.1//EN\"\n \"http://www.w3.org/Graphics/SVG/1.1/DTD/svg11.dtd\">\n<!-- Generated by graphviz version 2.43.0 (0)\n -->\n<!-- Title: %3 Pages: 1 -->\n<svg width=\"480pt\" height=\"259pt\"\n viewBox=\"0.00 0.00 479.50 259.00\" xmlns=\"http://www.w3.org/2000/svg\" xmlns:xlink=\"http://www.w3.org/1999/xlink\">\n<g id=\"graph0\" class=\"graph\" transform=\"scale(1 1) rotate(0) translate(4 255)\">\n<title>%3</title>\n<polygon fill=\"white\" stroke=\"transparent\" points=\"-4,4 -4,-255 475.5,-255 475.5,4 -4,4\"/>\n<g id=\"clust1\" class=\"cluster\">\n<title>cluster_data</title>\n<polygon fill=\"none\" stroke=\"black\" points=\"44,-8 44,-155 214,-155 214,-8 44,-8\"/>\n<text text-anchor=\"middle\" x=\"194.5\" y=\"-15.8\" font-family=\"Times,serif\" font-size=\"14.00\">data</text>\n</g>\n<!-- AutoNormal.locs.obs -->\n<g id=\"node1\" class=\"node\">\n<title>AutoNormal.locs.obs</title>\n<polygon fill=\"white\" stroke=\"transparent\" points=\"118,-224.5 0,-224.5 0,-209.5 118,-209.5 118,-224.5\"/>\n<text text-anchor=\"middle\" x=\"59\" y=\"-213.3\" font-family=\"Times,serif\" font-size=\"14.00\">AutoNormal.locs.obs</text>\n</g>\n<!-- obs_unconstrained -->\n<g id=\"node3\" class=\"node\">\n<title>obs_unconstrained</title>\n<ellipse fill=\"white\" stroke=\"black\" cx=\"129\" cy=\"-129\" rx=\"76.89\" ry=\"18\"/>\n<text text-anchor=\"middle\" x=\"129\" y=\"-125.3\" font-family=\"Times,serif\" font-size=\"14.00\">obs_unconstrained</text>\n</g>\n<!-- AutoNormal.locs.obs&#45;&gt;obs_unconstrained -->\n<g id=\"edge2\" class=\"edge\">\n<title>AutoNormal.locs.obs&#45;&gt;obs_unconstrained</title>\n<path fill=\"none\" stroke=\"black\" d=\"M64.49,-209.25C73.93,-197.66 93.65,-173.42 108.82,-154.79\"/>\n<polygon fill=\"black\" stroke=\"black\" points=\"111.61,-156.9 115.21,-146.94 106.18,-152.49 111.61,-156.9\"/>\n</g>\n<!-- AutoNormal.scales.obs -->\n<g id=\"node2\" class=\"node\">\n<title>AutoNormal.scales.obs</title>\n<polygon fill=\"white\" stroke=\"transparent\" points=\"264,-224.5 136,-224.5 136,-209.5 264,-209.5 264,-224.5\"/>\n<text text-anchor=\"middle\" x=\"200\" y=\"-213.3\" font-family=\"Times,serif\" font-size=\"14.00\">AutoNormal.scales.obs</text>\n</g>\n<!-- AutoNormal.scales.obs&#45;&gt;obs_unconstrained -->\n<g id=\"edge3\" class=\"edge\">\n<title>AutoNormal.scales.obs&#45;&gt;obs_unconstrained</title>\n<path fill=\"none\" stroke=\"black\" d=\"M194.43,-209.25C184.86,-197.66 164.85,-173.42 149.46,-154.79\"/>\n<polygon fill=\"black\" stroke=\"black\" points=\"152.05,-152.42 142.98,-146.94 146.65,-156.88 152.05,-152.42\"/>\n</g>\n<!-- obs -->\n<g id=\"node4\" class=\"node\">\n<title>obs</title>\n<ellipse fill=\"white\" stroke=\"black\" cx=\"129\" cy=\"-57\" rx=\"27\" ry=\"18\"/>\n<text text-anchor=\"middle\" x=\"129\" y=\"-53.3\" font-family=\"Times,serif\" font-size=\"14.00\">obs</text>\n</g>\n<!-- obs_unconstrained&#45;&gt;obs -->\n<g id=\"edge1\" class=\"edge\">\n<title>obs_unconstrained&#45;&gt;obs</title>\n<path fill=\"none\" stroke=\"black\" d=\"M129,-110.7C129,-102.98 129,-93.71 129,-85.11\"/>\n<polygon fill=\"black\" stroke=\"black\" points=\"132.5,-85.1 129,-75.1 125.5,-85.1 132.5,-85.1\"/>\n</g>\n<!-- distribution_description_node -->\n<g id=\"node5\" class=\"node\">\n<title>distribution_description_node</title>\n<text text-anchor=\"start\" x=\"290.5\" y=\"-235.8\" font-family=\"Times,serif\" font-size=\"14.00\">obs_unconstrained ~ Normal</text>\n<text text-anchor=\"start\" x=\"290.5\" y=\"-220.8\" font-family=\"Times,serif\" font-size=\"14.00\">obs ~ Delta</text>\n<text text-anchor=\"start\" x=\"290.5\" y=\"-205.8\" font-family=\"Times,serif\" font-size=\"14.00\">AutoNormal.locs.obs : Real()</text>\n<text text-anchor=\"start\" x=\"290.5\" y=\"-190.8\" font-family=\"Times,serif\" font-size=\"14.00\">AutoNormal.scales.obs : Real()</text>\n</g>\n</g>\n</svg>\n",
            "text/plain": [
              "<graphviz.graphs.Digraph at 0x7ff01af3c460>"
            ]
          },
          "metadata": {},
          "execution_count": 14
        }
      ]
    },
    {
      "cell_type": "markdown",
      "source": [
        "**Optimization:** evidence lower bound (ELBO)\n",
        "\n",
        "ELBO = $Ε_{𝑞_𝜙(z)}[logp_𝜃(x,z) - logq_𝜙(z)]$\n",
        "\n",
        "$logp_𝜃(x,z)$ this is the log of the functional of a model\n",
        "\n",
        "$logq_𝜙(z)$ and this is of a guide (variational distribution).\n",
        "\n",
        "the goal is to compute all the probabilities in the expectation of the log difference of the model and the guide.\n",
        "\n",
        "Optimizing the ELBO is by use of stochastic gradient descent using the gradient estimates using stochastic variational inference (SVI)\n"
      ],
      "metadata": {
        "id": "nC9MsQDy61Oz"
      }
    },
    {
      "cell_type": "code",
      "source": [
        "adam  = pyro.optim.Adam({\"lr\":0.00002})\n",
        "\n",
        "#optimize the output\n",
        "elbo = pyro.infer.Trace_ELBO()\n",
        "\n",
        "svi = pyro.infer.SVI(simple_model, auto_guide, adam, elbo)"
      ],
      "metadata": {
        "id": "4P8pM9Y-6KQq"
      },
      "execution_count": 26,
      "outputs": []
    },
    {
      "cell_type": "code",
      "source": [
        "import logging\n",
        "import os\n",
        "smoke_test = ('CI' in os.environ)"
      ],
      "metadata": {
        "id": "-7KEsrYbAG4F"
      },
      "execution_count": 24,
      "outputs": []
    },
    {
      "cell_type": "code",
      "source": [
        "%%time\n",
        "pyro.clear_param_store()\n",
        "\n",
        "# These should be reset each training loop.\n",
        "auto_guide = pyro.infer.autoguide.AutoNormal(simple_model)\n",
        "adam = pyro.optim.Adam({\"lr\": 0.2})  # Consider decreasing learning rate.\n",
        "elbo = pyro.infer.Trace_ELBO()\n",
        "svi = pyro.infer.SVI(simple_model, auto_guide, adam, elbo)\n",
        "\n",
        "losses = []\n",
        "for step in range(1000 if not smoke_test else 2):  # Consider running for more steps.\n",
        "    loss = svi.step(is_cont_africa, ruggedness, log_gdp)\n",
        "    losses.append(loss)\n",
        "    if step % 100 == 0:\n",
        "        logging.info(\"Elbo loss: {}\".format(loss))\n",
        "plt.figure(figsize=(5, 2))\n",
        "plt.plot(losses)\n",
        "plt.xlabel(\"SVI step\")\n",
        "plt.ylabel(\"ELBO loss\");\n"
      ],
      "metadata": {
        "id": "eaw1_Vo0KFp3",
        "outputId": "1e0711ba-6336-484e-c3df-8def6ef1e31c",
        "colab": {
          "base_uri": "https://localhost:8080/",
          "height": 286
        }
      },
      "execution_count": 33,
      "outputs": [
        {
          "output_type": "stream",
          "name": "stdout",
          "text": [
            "CPU times: user 3.75 s, sys: 12.7 ms, total: 3.76 s\n",
            "Wall time: 5.93 s\n"
          ]
        },
        {
          "output_type": "execute_result",
          "data": {
            "text/plain": [
              "Text(0, 0.5, 'ELBO loss')"
            ]
          },
          "metadata": {},
          "execution_count": 33
        },
        {
          "output_type": "display_data",
          "data": {
            "text/plain": [
              "<Figure size 500x200 with 1 Axes>"
            ],
            "image/png": "[encoded data removed]"
          },
          "metadata": {}
        }
      ]
    },
    {
      "cell_type": "markdown",
      "source": [
        "with a smaller learning rate, we have the curve taking an L-shape, with the joint near zero."
      ],
      "metadata": {
        "id": "QMDh6j2qL9C-"
      }
    },
    {
      "cell_type": "code",
      "source": [],
      "metadata": {
        "id": "8RvsOuJTMJDf"
      },
      "execution_count": null,
      "outputs": []
    }
  ]
}