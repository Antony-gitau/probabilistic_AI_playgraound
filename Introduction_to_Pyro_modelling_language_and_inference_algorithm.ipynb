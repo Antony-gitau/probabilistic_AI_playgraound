{
  "nbformat": 4,
  "nbformat_minor": 0,
  "metadata": {
    "colab": {
      "provenance": [],
      "authorship_tag": "ABX9TyOavF9wWfPc/oSOyHPf6/HO",
      "include_colab_link": true
    },
    "kernelspec": {
      "name": "python3",
      "display_name": "Python 3"
    },
    "language_info": {
      "name": "python"
    }
  },
  "cells": [
    {
      "cell_type": "markdown",
      "metadata": {
        "id": "view-in-github",
        "colab_type": "text"
      },
      "source": [
        "<a href=\"https://colab.research.google.com/github/Antony-gitau/probabilistic_AI_playgraound/blob/main/Introduction_to_Pyro_modelling_language_and_inference_algorithm.ipynb\" target=\"_parent\"><img src=\"https://colab.research.google.com/assets/colab-badge.svg\" alt=\"Open In Colab\"/></a>"
      ]
    },
    {
      "cell_type": "markdown",
      "source": [
        "This notebook is a collection of examples and notes of my pursuit to understand how to model probablistic machine learning algorithmns using a python based language --pyro.\n",
        "\n",
        "terms:\n",
        "- Pyro is a probablistic programming language (PPL) based on python and pytorch. \n",
        "\n",
        "- probabilistic machine learning algorithmms - models that are built in the language of probability.\n",
        "\n",
        "- probability is the mathematics of reasoning under uncertainity. \n",
        "\n",
        "- probabilistic program - a mixture of deterministic computation and randomly sampled values. \n",
        "\n",
        "- A latent variable is one that cannot be directly observed but is estimated based on a series of observed variables. In pyro, these variables are graphically represented as unshaded nodes.\n",
        "\n",
        "- Inference is drawing conclusions about latent variable from the data.\n",
        "\n",
        "- prior probability - it is the probability before evidence is taken into account.\n",
        "\n",
        "- posterior distribution is the result of updating the likelihood infomation (or evidence) to prior probability.\n",
        "\n"
      ],
      "metadata": {
        "id": "FwSnlGGHIvbE"
      }
    },
    {
      "cell_type": "code",
      "source": [
        "%%capture\n",
        "!pip install -q --upgrade pyro-ppl torch\n",
        "import torch\n",
        "import numpy as np\n",
        "import pandas as pd\n",
        "import seaborn as sns\n",
        "import matplotlib.pyplot as plt\n",
        "\n",
        "import pyro"
      ],
      "metadata": {
        "id": "gBxoWlK1J9LW"
      },
      "execution_count": 1,
      "outputs": []
    },
    {
      "cell_type": "markdown",
      "source": [
        "We got this data from the [pyro documenatation page](https://pyro.ai/examples/intro_long.html#)."
      ],
      "metadata": {
        "id": "wtT33GemP-BB"
      }
    },
    {
      "cell_type": "code",
      "source": [
        "DATA_URL = \"https://d2hg8soec8ck9v.cloudfront.net/datasets/rugged_data.csv\"\n",
        "data = pd.read_csv(DATA_URL, encoding=\"ISO-8859-1\")\n",
        "\n",
        "# we only want to investigate the ruggedness index, GPD per capital \n",
        "#of countries in Africa or not\n",
        "df = data[[\"cont_africa\", \"rugged\", \"rgdppc_2000\"]]"
      ],
      "metadata": {
        "id": "ovpsLVZMP3qH"
      },
      "execution_count": 2,
      "outputs": []
    },
    {
      "cell_type": "code",
      "source": [
        "df.head()"
      ],
      "metadata": {
        "colab": {
          "base_uri": "https://localhost:8080/",
          "height": 206
        },
        "id": "4oVBgmNQP6O9",
        "outputId": "5edb20a7-7a6a-4b75-d149-70acb77b61d9"
      },
      "execution_count": 3,
      "outputs": [
        {
          "output_type": "execute_result",
          "data": {
            "text/plain": [
              "   cont_africa  rugged  rgdppc_2000\n",
              "0            0   0.462          NaN\n",
              "1            0   2.518          NaN\n",
              "2            1   0.858     1794.729\n",
              "3            0   0.013          NaN\n",
              "4            0   3.427     3703.113"
            ],
            "text/html": [
              "\n",
              "  <div id=\"df-4fb7bbca-155a-41b2-8cdc-4d745f88019b\">\n",
              "    <div class=\"colab-df-container\">\n",
              "      <div>\n",
              "<style scoped>\n",
              "    .dataframe tbody tr th:only-of-type {\n",
              "        vertical-align: middle;\n",
              "    }\n",
              "\n",
              "    .dataframe tbody tr th {\n",
              "        vertical-align: top;\n",
              "    }\n",
              "\n",
              "    .dataframe thead th {\n",
              "        text-align: right;\n",
              "    }\n",
              "</style>\n",
              "<table border=\"1\" class=\"dataframe\">\n",
              "  <thead>\n",
              "    <tr style=\"text-align: right;\">\n",
              "      <th></th>\n",
              "      <th>cont_africa</th>\n",
              "      <th>rugged</th>\n",
              "      <th>rgdppc_2000</th>\n",
              "    </tr>\n",
              "  </thead>\n",
              "  <tbody>\n",
              "    <tr>\n",
              "      <th>0</th>\n",
              "      <td>0</td>\n",
              "      <td>0.462</td>\n",
              "      <td>NaN</td>\n",
              "    </tr>\n",
              "    <tr>\n",
              "      <th>1</th>\n",
              "      <td>0</td>\n",
              "      <td>2.518</td>\n",
              "      <td>NaN</td>\n",
              "    </tr>\n",
              "    <tr>\n",
              "      <th>2</th>\n",
              "      <td>1</td>\n",
              "      <td>0.858</td>\n",
              "      <td>1794.729</td>\n",
              "    </tr>\n",
              "    <tr>\n",
              "      <th>3</th>\n",
              "      <td>0</td>\n",
              "      <td>0.013</td>\n",
              "      <td>NaN</td>\n",
              "    </tr>\n",
              "    <tr>\n",
              "      <th>4</th>\n",
              "      <td>0</td>\n",
              "      <td>3.427</td>\n",
              "      <td>3703.113</td>\n",
              "    </tr>\n",
              "  </tbody>\n",
              "</table>\n",
              "</div>\n",
              "      <button class=\"colab-df-convert\" onclick=\"convertToInteractive('df-4fb7bbca-155a-41b2-8cdc-4d745f88019b')\"\n",
              "              title=\"Convert this dataframe to an interactive table.\"\n",
              "              style=\"display:none;\">\n",
              "        \n",
              "  <svg xmlns=\"http://www.w3.org/2000/svg\" height=\"24px\"viewBox=\"0 0 24 24\"\n",
              "       width=\"24px\">\n",
              "    <path d=\"M0 0h24v24H0V0z\" fill=\"none\"/>\n",
              "    <path d=\"M18.56 5.44l.94 2.06.94-2.06 2.06-.94-2.06-.94-.94-2.06-.94 2.06-2.06.94zm-11 1L8.5 8.5l.94-2.06 2.06-.94-2.06-.94L8.5 2.5l-.94 2.06-2.06.94zm10 10l.94 2.06.94-2.06 2.06-.94-2.06-.94-.94-2.06-.94 2.06-2.06.94z\"/><path d=\"M17.41 7.96l-1.37-1.37c-.4-.4-.92-.59-1.43-.59-.52 0-1.04.2-1.43.59L10.3 9.45l-7.72 7.72c-.78.78-.78 2.05 0 2.83L4 21.41c.39.39.9.59 1.41.59.51 0 1.02-.2 1.41-.59l7.78-7.78 2.81-2.81c.8-.78.8-2.07 0-2.86zM5.41 20L4 18.59l7.72-7.72 1.47 1.35L5.41 20z\"/>\n",
              "  </svg>\n",
              "      </button>\n",
              "      \n",
              "  <style>\n",
              "    .colab-df-container {\n",
              "      display:flex;\n",
              "      flex-wrap:wrap;\n",
              "      gap: 12px;\n",
              "    }\n",
              "\n",
              "    .colab-df-convert {\n",
              "      background-color: #E8F0FE;\n",
              "      border: none;\n",
              "      border-radius: 50%;\n",
              "      cursor: pointer;\n",
              "      display: none;\n",
              "      fill: #1967D2;\n",
              "      height: 32px;\n",
              "      padding: 0 0 0 0;\n",
              "      width: 32px;\n",
              "    }\n",
              "\n",
              "    .colab-df-convert:hover {\n",
              "      background-color: #E2EBFA;\n",
              "      box-shadow: 0px 1px 2px rgba(60, 64, 67, 0.3), 0px 1px 3px 1px rgba(60, 64, 67, 0.15);\n",
              "      fill: #174EA6;\n",
              "    }\n",
              "\n",
              "    [theme=dark] .colab-df-convert {\n",
              "      background-color: #3B4455;\n",
              "      fill: #D2E3FC;\n",
              "    }\n",
              "\n",
              "    [theme=dark] .colab-df-convert:hover {\n",
              "      background-color: #434B5C;\n",
              "      box-shadow: 0px 1px 3px 1px rgba(0, 0, 0, 0.15);\n",
              "      filter: drop-shadow(0px 1px 2px rgba(0, 0, 0, 0.3));\n",
              "      fill: #FFFFFF;\n",
              "    }\n",
              "  </style>\n",
              "\n",
              "      <script>\n",
              "        const buttonEl =\n",
              "          document.querySelector('#df-4fb7bbca-155a-41b2-8cdc-4d745f88019b button.colab-df-convert');\n",
              "        buttonEl.style.display =\n",
              "          google.colab.kernel.accessAllowed ? 'block' : 'none';\n",
              "\n",
              "        async function convertToInteractive(key) {\n",
              "          const element = document.querySelector('#df-4fb7bbca-155a-41b2-8cdc-4d745f88019b');\n",
              "          const dataTable =\n",
              "            await google.colab.kernel.invokeFunction('convertToInteractive',\n",
              "                                                     [key], {});\n",
              "          if (!dataTable) return;\n",
              "\n",
              "          const docLinkHtml = 'Like what you see? Visit the ' +\n",
              "            '<a target=\"_blank\" href=https://colab.research.google.com/notebooks/data_table.ipynb>data table notebook</a>'\n",
              "            + ' to learn more about interactive tables.';\n",
              "          element.innerHTML = '';\n",
              "          dataTable['output_type'] = 'display_data';\n",
              "          await google.colab.output.renderOutput(dataTable, element);\n",
              "          const docLink = document.createElement('div');\n",
              "          docLink.innerHTML = docLinkHtml;\n",
              "          element.appendChild(docLink);\n",
              "        }\n",
              "      </script>\n",
              "    </div>\n",
              "  </div>\n",
              "  "
            ]
          },
          "metadata": {},
          "execution_count": 3
        }
      ]
    },
    {
      "cell_type": "markdown",
      "source": [
        "We are filtering out the rows under column `rgdppc_2000`that are non-finite, meaning they are NaN or infinity.\n",
        "\n",
        "We make these changes to our dataframe which results into columns with only finite values."
      ],
      "metadata": {
        "id": "dNkGrtLTR6ln"
      }
    },
    {
      "cell_type": "code",
      "source": [
        "df =df[np.isfinite(df['rgdppc_2000'])]\n",
        "df.head(10)"
      ],
      "metadata": {
        "colab": {
          "base_uri": "https://localhost:8080/",
          "height": 363
        },
        "id": "QDzAMJsPP7px",
        "outputId": "ecd330ac-001d-45ee-dd57-2821456b11a9"
      },
      "execution_count": 4,
      "outputs": [
        {
          "output_type": "execute_result",
          "data": {
            "text/plain": [
              "    cont_africa  rugged  rgdppc_2000\n",
              "2             1   0.858     1794.729\n",
              "4             0   3.427     3703.113\n",
              "7             0   0.769    20604.460\n",
              "8             0   0.775    12173.680\n",
              "9             0   2.688     2421.985\n",
              "11            0   0.006    10022.030\n",
              "12            0   0.143    25417.440\n",
              "13            0   3.513    28987.840\n",
              "14            0   1.672     2570.944\n",
              "15            1   1.780      621.652"
            ],
            "text/html": [
              "\n",
              "  <div id=\"df-ded22d60-e2cc-463a-aabd-5f070b62f564\">\n",
              "    <div class=\"colab-df-container\">\n",
              "      <div>\n",
              "<style scoped>\n",
              "    .dataframe tbody tr th:only-of-type {\n",
              "        vertical-align: middle;\n",
              "    }\n",
              "\n",
              "    .dataframe tbody tr th {\n",
              "        vertical-align: top;\n",
              "    }\n",
              "\n",
              "    .dataframe thead th {\n",
              "        text-align: right;\n",
              "    }\n",
              "</style>\n",
              "<table border=\"1\" class=\"dataframe\">\n",
              "  <thead>\n",
              "    <tr style=\"text-align: right;\">\n",
              "      <th></th>\n",
              "      <th>cont_africa</th>\n",
              "      <th>rugged</th>\n",
              "      <th>rgdppc_2000</th>\n",
              "    </tr>\n",
              "  </thead>\n",
              "  <tbody>\n",
              "    <tr>\n",
              "      <th>2</th>\n",
              "      <td>1</td>\n",
              "      <td>0.858</td>\n",
              "      <td>1794.729</td>\n",
              "    </tr>\n",
              "    <tr>\n",
              "      <th>4</th>\n",
              "      <td>0</td>\n",
              "      <td>3.427</td>\n",
              "      <td>3703.113</td>\n",
              "    </tr>\n",
              "    <tr>\n",
              "      <th>7</th>\n",
              "      <td>0</td>\n",
              "      <td>0.769</td>\n",
              "      <td>20604.460</td>\n",
              "    </tr>\n",
              "    <tr>\n",
              "      <th>8</th>\n",
              "      <td>0</td>\n",
              "      <td>0.775</td>\n",
              "      <td>12173.680</td>\n",
              "    </tr>\n",
              "    <tr>\n",
              "      <th>9</th>\n",
              "      <td>0</td>\n",
              "      <td>2.688</td>\n",
              "      <td>2421.985</td>\n",
              "    </tr>\n",
              "    <tr>\n",
              "      <th>11</th>\n",
              "      <td>0</td>\n",
              "      <td>0.006</td>\n",
              "      <td>10022.030</td>\n",
              "    </tr>\n",
              "    <tr>\n",
              "      <th>12</th>\n",
              "      <td>0</td>\n",
              "      <td>0.143</td>\n",
              "      <td>25417.440</td>\n",
              "    </tr>\n",
              "    <tr>\n",
              "      <th>13</th>\n",
              "      <td>0</td>\n",
              "      <td>3.513</td>\n",
              "      <td>28987.840</td>\n",
              "    </tr>\n",
              "    <tr>\n",
              "      <th>14</th>\n",
              "      <td>0</td>\n",
              "      <td>1.672</td>\n",
              "      <td>2570.944</td>\n",
              "    </tr>\n",
              "    <tr>\n",
              "      <th>15</th>\n",
              "      <td>1</td>\n",
              "      <td>1.780</td>\n",
              "      <td>621.652</td>\n",
              "    </tr>\n",
              "  </tbody>\n",
              "</table>\n",
              "</div>\n",
              "      <button class=\"colab-df-convert\" onclick=\"convertToInteractive('df-ded22d60-e2cc-463a-aabd-5f070b62f564')\"\n",
              "              title=\"Convert this dataframe to an interactive table.\"\n",
              "              style=\"display:none;\">\n",
              "        \n",
              "  <svg xmlns=\"http://www.w3.org/2000/svg\" height=\"24px\"viewBox=\"0 0 24 24\"\n",
              "       width=\"24px\">\n",
              "    <path d=\"M0 0h24v24H0V0z\" fill=\"none\"/>\n",
              "    <path d=\"M18.56 5.44l.94 2.06.94-2.06 2.06-.94-2.06-.94-.94-2.06-.94 2.06-2.06.94zm-11 1L8.5 8.5l.94-2.06 2.06-.94-2.06-.94L8.5 2.5l-.94 2.06-2.06.94zm10 10l.94 2.06.94-2.06 2.06-.94-2.06-.94-.94-2.06-.94 2.06-2.06.94z\"/><path d=\"M17.41 7.96l-1.37-1.37c-.4-.4-.92-.59-1.43-.59-.52 0-1.04.2-1.43.59L10.3 9.45l-7.72 7.72c-.78.78-.78 2.05 0 2.83L4 21.41c.39.39.9.59 1.41.59.51 0 1.02-.2 1.41-.59l7.78-7.78 2.81-2.81c.8-.78.8-2.07 0-2.86zM5.41 20L4 18.59l7.72-7.72 1.47 1.35L5.41 20z\"/>\n",
              "  </svg>\n",
              "      </button>\n",
              "      \n",
              "  <style>\n",
              "    .colab-df-container {\n",
              "      display:flex;\n",
              "      flex-wrap:wrap;\n",
              "      gap: 12px;\n",
              "    }\n",
              "\n",
              "    .colab-df-convert {\n",
              "      background-color: #E8F0FE;\n",
              "      border: none;\n",
              "      border-radius: 50%;\n",
              "      cursor: pointer;\n",
              "      display: none;\n",
              "      fill: #1967D2;\n",
              "      height: 32px;\n",
              "      padding: 0 0 0 0;\n",
              "      width: 32px;\n",
              "    }\n",
              "\n",
              "    .colab-df-convert:hover {\n",
              "      background-color: #E2EBFA;\n",
              "      box-shadow: 0px 1px 2px rgba(60, 64, 67, 0.3), 0px 1px 3px 1px rgba(60, 64, 67, 0.15);\n",
              "      fill: #174EA6;\n",
              "    }\n",
              "\n",
              "    [theme=dark] .colab-df-convert {\n",
              "      background-color: #3B4455;\n",
              "      fill: #D2E3FC;\n",
              "    }\n",
              "\n",
              "    [theme=dark] .colab-df-convert:hover {\n",
              "      background-color: #434B5C;\n",
              "      box-shadow: 0px 1px 3px 1px rgba(0, 0, 0, 0.15);\n",
              "      filter: drop-shadow(0px 1px 2px rgba(0, 0, 0, 0.3));\n",
              "      fill: #FFFFFF;\n",
              "    }\n",
              "  </style>\n",
              "\n",
              "      <script>\n",
              "        const buttonEl =\n",
              "          document.querySelector('#df-ded22d60-e2cc-463a-aabd-5f070b62f564 button.colab-df-convert');\n",
              "        buttonEl.style.display =\n",
              "          google.colab.kernel.accessAllowed ? 'block' : 'none';\n",
              "\n",
              "        async function convertToInteractive(key) {\n",
              "          const element = document.querySelector('#df-ded22d60-e2cc-463a-aabd-5f070b62f564');\n",
              "          const dataTable =\n",
              "            await google.colab.kernel.invokeFunction('convertToInteractive',\n",
              "                                                     [key], {});\n",
              "          if (!dataTable) return;\n",
              "\n",
              "          const docLinkHtml = 'Like what you see? Visit the ' +\n",
              "            '<a target=\"_blank\" href=https://colab.research.google.com/notebooks/data_table.ipynb>data table notebook</a>'\n",
              "            + ' to learn more about interactive tables.';\n",
              "          element.innerHTML = '';\n",
              "          dataTable['output_type'] = 'display_data';\n",
              "          await google.colab.output.renderOutput(dataTable, element);\n",
              "          const docLink = document.createElement('div');\n",
              "          docLink.innerHTML = docLinkHtml;\n",
              "          element.appendChild(docLink);\n",
              "        }\n",
              "      </script>\n",
              "    </div>\n",
              "  </div>\n",
              "  "
            ]
          },
          "metadata": {},
          "execution_count": 4
        }
      ]
    },
    {
      "cell_type": "markdown",
      "source": [
        "We then convert the finite values in the `rgdppc_2000` to natural log. We do so normalize the data or reduce the influence of extreme values ( [Best practice in statistics: The use of log transformation article](https://www.ncbi.nlm.nih.gov/pmc/articles/PMC9036143/)."
      ],
      "metadata": {
        "id": "HGAwuufDSml2"
      }
    },
    {
      "cell_type": "code",
      "source": [
        "df[\"rgdppc_2000\"] = np.log(df[\"rgdppc_2000\"])\n",
        "df.head(10)"
      ],
      "metadata": {
        "colab": {
          "base_uri": "https://localhost:8080/",
          "height": 363
        },
        "id": "usRnY6wJRdbc",
        "outputId": "ba8972e3-7821-42d5-a6ac-525fc262c1bd"
      },
      "execution_count": 5,
      "outputs": [
        {
          "output_type": "execute_result",
          "data": {
            "text/plain": [
              "    cont_africa  rugged  rgdppc_2000\n",
              "2             1   0.858     7.492609\n",
              "4             0   3.427     8.216929\n",
              "7             0   0.769     9.933263\n",
              "8             0   0.775     9.407032\n",
              "9             0   2.688     7.792343\n",
              "11            0   0.006     9.212541\n",
              "12            0   0.143    10.143191\n",
              "13            0   3.513    10.274632\n",
              "14            0   1.672     7.852028\n",
              "15            1   1.780     6.432380"
            ],
            "text/html": [
              "\n",
              "  <div id=\"df-a1bb5342-81ad-46a6-9fbd-abf7875731d0\">\n",
              "    <div class=\"colab-df-container\">\n",
              "      <div>\n",
              "<style scoped>\n",
              "    .dataframe tbody tr th:only-of-type {\n",
              "        vertical-align: middle;\n",
              "    }\n",
              "\n",
              "    .dataframe tbody tr th {\n",
              "        vertical-align: top;\n",
              "    }\n",
              "\n",
              "    .dataframe thead th {\n",
              "        text-align: right;\n",
              "    }\n",
              "</style>\n",
              "<table border=\"1\" class=\"dataframe\">\n",
              "  <thead>\n",
              "    <tr style=\"text-align: right;\">\n",
              "      <th></th>\n",
              "      <th>cont_africa</th>\n",
              "      <th>rugged</th>\n",
              "      <th>rgdppc_2000</th>\n",
              "    </tr>\n",
              "  </thead>\n",
              "  <tbody>\n",
              "    <tr>\n",
              "      <th>2</th>\n",
              "      <td>1</td>\n",
              "      <td>0.858</td>\n",
              "      <td>7.492609</td>\n",
              "    </tr>\n",
              "    <tr>\n",
              "      <th>4</th>\n",
              "      <td>0</td>\n",
              "      <td>3.427</td>\n",
              "      <td>8.216929</td>\n",
              "    </tr>\n",
              "    <tr>\n",
              "      <th>7</th>\n",
              "      <td>0</td>\n",
              "      <td>0.769</td>\n",
              "      <td>9.933263</td>\n",
              "    </tr>\n",
              "    <tr>\n",
              "      <th>8</th>\n",
              "      <td>0</td>\n",
              "      <td>0.775</td>\n",
              "      <td>9.407032</td>\n",
              "    </tr>\n",
              "    <tr>\n",
              "      <th>9</th>\n",
              "      <td>0</td>\n",
              "      <td>2.688</td>\n",
              "      <td>7.792343</td>\n",
              "    </tr>\n",
              "    <tr>\n",
              "      <th>11</th>\n",
              "      <td>0</td>\n",
              "      <td>0.006</td>\n",
              "      <td>9.212541</td>\n",
              "    </tr>\n",
              "    <tr>\n",
              "      <th>12</th>\n",
              "      <td>0</td>\n",
              "      <td>0.143</td>\n",
              "      <td>10.143191</td>\n",
              "    </tr>\n",
              "    <tr>\n",
              "      <th>13</th>\n",
              "      <td>0</td>\n",
              "      <td>3.513</td>\n",
              "      <td>10.274632</td>\n",
              "    </tr>\n",
              "    <tr>\n",
              "      <th>14</th>\n",
              "      <td>0</td>\n",
              "      <td>1.672</td>\n",
              "      <td>7.852028</td>\n",
              "    </tr>\n",
              "    <tr>\n",
              "      <th>15</th>\n",
              "      <td>1</td>\n",
              "      <td>1.780</td>\n",
              "      <td>6.432380</td>\n",
              "    </tr>\n",
              "  </tbody>\n",
              "</table>\n",
              "</div>\n",
              "      <button class=\"colab-df-convert\" onclick=\"convertToInteractive('df-a1bb5342-81ad-46a6-9fbd-abf7875731d0')\"\n",
              "              title=\"Convert this dataframe to an interactive table.\"\n",
              "              style=\"display:none;\">\n",
              "        \n",
              "  <svg xmlns=\"http://www.w3.org/2000/svg\" height=\"24px\"viewBox=\"0 0 24 24\"\n",
              "       width=\"24px\">\n",
              "    <path d=\"M0 0h24v24H0V0z\" fill=\"none\"/>\n",
              "    <path d=\"M18.56 5.44l.94 2.06.94-2.06 2.06-.94-2.06-.94-.94-2.06-.94 2.06-2.06.94zm-11 1L8.5 8.5l.94-2.06 2.06-.94-2.06-.94L8.5 2.5l-.94 2.06-2.06.94zm10 10l.94 2.06.94-2.06 2.06-.94-2.06-.94-.94-2.06-.94 2.06-2.06.94z\"/><path d=\"M17.41 7.96l-1.37-1.37c-.4-.4-.92-.59-1.43-.59-.52 0-1.04.2-1.43.59L10.3 9.45l-7.72 7.72c-.78.78-.78 2.05 0 2.83L4 21.41c.39.39.9.59 1.41.59.51 0 1.02-.2 1.41-.59l7.78-7.78 2.81-2.81c.8-.78.8-2.07 0-2.86zM5.41 20L4 18.59l7.72-7.72 1.47 1.35L5.41 20z\"/>\n",
              "  </svg>\n",
              "      </button>\n",
              "      \n",
              "  <style>\n",
              "    .colab-df-container {\n",
              "      display:flex;\n",
              "      flex-wrap:wrap;\n",
              "      gap: 12px;\n",
              "    }\n",
              "\n",
              "    .colab-df-convert {\n",
              "      background-color: #E8F0FE;\n",
              "      border: none;\n",
              "      border-radius: 50%;\n",
              "      cursor: pointer;\n",
              "      display: none;\n",
              "      fill: #1967D2;\n",
              "      height: 32px;\n",
              "      padding: 0 0 0 0;\n",
              "      width: 32px;\n",
              "    }\n",
              "\n",
              "    .colab-df-convert:hover {\n",
              "      background-color: #E2EBFA;\n",
              "      box-shadow: 0px 1px 2px rgba(60, 64, 67, 0.3), 0px 1px 3px 1px rgba(60, 64, 67, 0.15);\n",
              "      fill: #174EA6;\n",
              "    }\n",
              "\n",
              "    [theme=dark] .colab-df-convert {\n",
              "      background-color: #3B4455;\n",
              "      fill: #D2E3FC;\n",
              "    }\n",
              "\n",
              "    [theme=dark] .colab-df-convert:hover {\n",
              "      background-color: #434B5C;\n",
              "      box-shadow: 0px 1px 3px 1px rgba(0, 0, 0, 0.15);\n",
              "      filter: drop-shadow(0px 1px 2px rgba(0, 0, 0, 0.3));\n",
              "      fill: #FFFFFF;\n",
              "    }\n",
              "  </style>\n",
              "\n",
              "      <script>\n",
              "        const buttonEl =\n",
              "          document.querySelector('#df-a1bb5342-81ad-46a6-9fbd-abf7875731d0 button.colab-df-convert');\n",
              "        buttonEl.style.display =\n",
              "          google.colab.kernel.accessAllowed ? 'block' : 'none';\n",
              "\n",
              "        async function convertToInteractive(key) {\n",
              "          const element = document.querySelector('#df-a1bb5342-81ad-46a6-9fbd-abf7875731d0');\n",
              "          const dataTable =\n",
              "            await google.colab.kernel.invokeFunction('convertToInteractive',\n",
              "                                                     [key], {});\n",
              "          if (!dataTable) return;\n",
              "\n",
              "          const docLinkHtml = 'Like what you see? Visit the ' +\n",
              "            '<a target=\"_blank\" href=https://colab.research.google.com/notebooks/data_table.ipynb>data table notebook</a>'\n",
              "            + ' to learn more about interactive tables.';\n",
              "          element.innerHTML = '';\n",
              "          dataTable['output_type'] = 'display_data';\n",
              "          await google.colab.output.renderOutput(dataTable, element);\n",
              "          const docLink = document.createElement('div');\n",
              "          docLink.innerHTML = docLinkHtml;\n",
              "          element.appendChild(docLink);\n",
              "        }\n",
              "      </script>\n",
              "    </div>\n",
              "  </div>\n",
              "  "
            ]
          },
          "metadata": {},
          "execution_count": 5
        }
      ]
    },
    {
      "cell_type": "code",
      "source": [
        "values = df.values\n",
        "print(values.shape)\n",
        "print(values.dtype)"
      ],
      "metadata": {
        "colab": {
          "base_uri": "https://localhost:8080/"
        },
        "id": "tOutM1eZSgQq",
        "outputId": "904c0dfa-1f1f-463f-b457-cce9f9aff7bf"
      },
      "execution_count": 6,
      "outputs": [
        {
          "output_type": "stream",
          "name": "stdout",
          "text": [
            "(170, 3)\n",
            "float64\n"
          ]
        }
      ]
    },
    {
      "cell_type": "markdown",
      "source": [
        "We want to convert the numpy arrays above in the dataframe, df to torch tensors for processing in pytorch and pyro.\n",
        "\n",
        "To do that, we first get all the numpy array ,`df.values`, and pass them through the ,`torch.tensor function`, as we specify the type of torch tensors as floating points. \n",
        "\n",
        "We then assign the three variables (columns) the appropriate tensors."
      ],
      "metadata": {
        "id": "8ELrH1BWUpDf"
      }
    },
    {
      "cell_type": "code",
      "source": [
        "train = torch.tensor(df.values, dtype=torch.float)\n",
        "is_cont_africa, ruggedness, log_gdp = train[:, 0], train[:, 1], train[:, 2]"
      ],
      "metadata": {
        "id": "6Sxg8--3THfv"
      },
      "execution_count": 7,
      "outputs": []
    },
    {
      "cell_type": "code",
      "source": [
        "train.shape"
      ],
      "metadata": {
        "colab": {
          "base_uri": "https://localhost:8080/"
        },
        "id": "t56BNxCjTmHO",
        "outputId": "2f25b875-8916-42e7-c1c7-9d8d79c45618"
      },
      "execution_count": 8,
      "outputs": [
        {
          "output_type": "execute_result",
          "data": {
            "text/plain": [
              "torch.Size([170, 3])"
            ]
          },
          "metadata": {},
          "execution_count": 8
        }
      ]
    },
    {
      "cell_type": "markdown",
      "source": [
        "Let's try to visualize our data.\n",
        "\n",
        "1. A scatter plot of african nation rugged index on x axis and their GDPs on the y axis."
      ],
      "metadata": {
        "id": "WYJCXO4OWIrk"
      }
    },
    {
      "cell_type": "code",
      "source": [
        "# Create a subset of the original dataframe containing only African countries\n",
        "african_countries = df[df['cont_africa'] == 1]\n",
        "\n",
        "# Create a scatter plot of ruggedness vs. log GDP for African countries\n",
        "sns.scatterplot( x = african_countries['rugged'],\n",
        "                y = african_countries['rgdppc_2000'])\n",
        "\n",
        "\n",
        "# Set the plot title and axis labels\n",
        "plt.title('Relationship Between Ruggedness and GDP for African Countries')\n",
        "plt.xlabel('Ruggedness')\n",
        "plt.ylabel('Log GDP')\n",
        "\n",
        "# Display the plot\n",
        "plt.show()"
      ],
      "metadata": {
        "colab": {
          "base_uri": "https://localhost:8080/",
          "height": 472
        },
        "id": "n2HUfp9rTt00",
        "outputId": "a1dd5863-a7b2-4378-a5a9-148ec907fbf6"
      },
      "execution_count": 9,
      "outputs": [
        {
          "output_type": "display_data",
          "data": {
            "text/plain": [
              "<Figure size 640x480 with 1 Axes>"
            ],
            "image/png": "[encoded data removed]"
          },
          "metadata": {}
        }
      ]
    },
    {
      "cell_type": "markdown",
      "source": [
        "2. We can use the above code (only changing the countries to non-african) to plot for non- african countries as well."
      ],
      "metadata": {
        "id": "Yf4E_ZJPYdsQ"
      }
    },
    {
      "cell_type": "code",
      "source": [
        "# Create a subset of the original dataframe containing only African countries\n",
        "non_african_countries = df[df['cont_africa'] == 0]\n",
        "\n",
        "# Create a scatter plot of ruggedness vs. log GDP for African countries\n",
        "sns.scatterplot( x = non_african_countries['rugged'],\n",
        "                y = non_african_countries['rgdppc_2000'])\n",
        "\n",
        "\n",
        "# Set the plot title and axis labels\n",
        "plt.title('Relationship Between Ruggedness and GDP for non African Countries')\n",
        "plt.xlabel('Ruggedness')\n",
        "plt.ylabel('Log GDP')\n",
        "\n",
        "# Display the plot"
      ],
      "metadata": {
        "colab": {
          "base_uri": "https://localhost:8080/",
          "height": 489
        },
        "id": "BwjaufJOXhR5",
        "outputId": "0969a41a-8c89-4256-f96d-23b4aef4afae"
      },
      "execution_count": 10,
      "outputs": [
        {
          "output_type": "execute_result",
          "data": {
            "text/plain": [
              "Text(0, 0.5, 'Log GDP')"
            ]
          },
          "metadata": {},
          "execution_count": 10
        },
        {
          "output_type": "display_data",
          "data": {
            "text/plain": [
              "<Figure size 640x480 with 1 Axes>"
            ],
            "image/png": "[encoded data removed]"
          },
          "metadata": {}
        }
      ]
    },
    {
      "cell_type": "markdown",
      "source": [
        "The two plot show that there is a possibile relationship between the ruggedness and GDP.\n",
        "\n",
        "We can be certain by employing bayesian linear regression."
      ],
      "metadata": {
        "id": "l65_WnhLc_OC"
      }
    },
    {
      "cell_type": "code",
      "source": [
        "import pyro.distributions as dist\n",
        "import pyro.distributions.constraints as constraints\n",
        "\n",
        "# we create a pyro model and pass three variables with log_gdp as none as its the dependent variable\n",
        "def simple_model(is_cont_africa, ruggedness, log_gdp=None):\n",
        "\n",
        "  # we define model parameters as pyro parameters which could be learned by inference\n",
        "    a = pyro.param(\"a\", lambda: torch.randn(()))\n",
        "    b_a = pyro.param(\"bA\", lambda: torch.randn(()))\n",
        "    b_r = pyro.param(\"bR\", lambda: torch.randn(()))\n",
        "    b_ar = pyro.param(\"bAR\", lambda: torch.randn(()))\n",
        "    sigma = pyro.param(\"sigma\", lambda: torch.ones(()), constraint=constraints.positive)\n",
        "\n",
        "\n",
        "    #  mean of the normal distribution that describes the relationship dependent and independent variable\n",
        "    mean = a + b_a * is_cont_africa + b_r * ruggedness + b_ar * is_cont_africa * ruggedness\n",
        "\n",
        "# calculate the posterior distribution over the model parameters given the observed data\n",
        "    with pyro.plate(\"data\", len(ruggedness)):\n",
        "        return pyro.sample(\"obs\", dist.Normal(mean, sigma), obs=log_gdp)\n",
        "\n",
        "#generates a graphical representation of the model\n",
        "pyro.render_model(simple_model, model_args=(is_cont_africa, ruggedness, log_gdp), render_distributions=True, render_params=True)\n"
      ],
      "metadata": {
        "id": "xNncfADddhFg",
        "outputId": "1e622e37-edc3-43b6-fb47-c1bbcf11a7e4",
        "colab": {
          "base_uri": "https://localhost:8080/",
          "height": 311
        }
      },
      "execution_count": 11,
      "outputs": [
        {
          "output_type": "execute_result",
          "data": {
            "image/svg+xml": "<?xml version=\"1.0\" encoding=\"UTF-8\" standalone=\"no\"?>\n<!DOCTYPE svg PUBLIC \"-//W3C//DTD SVG 1.1//EN\"\n \"http://www.w3.org/Graphics/SVG/1.1/DTD/svg11.dtd\">\n<!-- Generated by graphviz version 2.43.0 (0)\n -->\n<!-- Title: %3 Pages: 1 -->\n<svg width=\"435pt\" height=\"217pt\"\n viewBox=\"0.00 0.00 434.50 217.00\" xmlns=\"http://www.w3.org/2000/svg\" xmlns:xlink=\"http://www.w3.org/1999/xlink\">\n<g id=\"graph0\" class=\"graph\" transform=\"scale(1 1) rotate(0) translate(4 213)\">\n<title>%3</title>\n<polygon fill=\"white\" stroke=\"transparent\" points=\"-4,4 -4,-213 430.5,-213 430.5,4 -4,4\"/>\n<g id=\"clust1\" class=\"cluster\">\n<title>cluster_data</title>\n<polygon fill=\"none\" stroke=\"black\" points=\"55,-8 55,-83 125,-83 125,-8 55,-8\"/>\n<text text-anchor=\"middle\" x=\"105.5\" y=\"-15.8\" font-family=\"Times,serif\" font-size=\"14.00\">data</text>\n</g>\n<!-- sigma -->\n<g id=\"node1\" class=\"node\">\n<title>sigma</title>\n<polygon fill=\"white\" stroke=\"transparent\" points=\"34,-167.5 0,-167.5 0,-152.5 34,-152.5 34,-167.5\"/>\n<text text-anchor=\"middle\" x=\"17\" y=\"-156.3\" font-family=\"Times,serif\" font-size=\"14.00\">sigma</text>\n</g>\n<!-- obs -->\n<g id=\"node6\" class=\"node\">\n<title>obs</title>\n<ellipse fill=\"gray\" stroke=\"black\" cx=\"90\" cy=\"-57\" rx=\"27\" ry=\"18\"/>\n<text text-anchor=\"middle\" x=\"90\" y=\"-53.3\" font-family=\"Times,serif\" font-size=\"14.00\">obs</text>\n</g>\n<!-- sigma&#45;&gt;obs -->\n<g id=\"edge3\" class=\"edge\">\n<title>sigma&#45;&gt;obs</title>\n<path fill=\"none\" stroke=\"black\" d=\"M20.08,-152.2C24.53,-142.63 33.32,-124.82 43,-111 50.53,-100.25 59.95,-89.25 68.38,-80.08\"/>\n<polygon fill=\"black\" stroke=\"black\" points=\"71.16,-82.23 75.45,-72.54 66.06,-77.43 71.16,-82.23\"/>\n</g>\n<!-- bR -->\n<g id=\"node2\" class=\"node\">\n<title>bR</title>\n<polygon fill=\"white\" stroke=\"transparent\" points=\"68,-167.5 52,-167.5 52,-152.5 68,-152.5 68,-167.5\"/>\n<text text-anchor=\"middle\" x=\"60\" y=\"-156.3\" font-family=\"Times,serif\" font-size=\"14.00\">bR</text>\n</g>\n<!-- bR&#45;&gt;obs -->\n<g id=\"edge5\" class=\"edge\">\n<title>bR&#45;&gt;obs</title>\n<path fill=\"none\" stroke=\"black\" d=\"M61.97,-152.37C65.97,-138.9 75.25,-107.66 82.04,-84.8\"/>\n<polygon fill=\"black\" stroke=\"black\" points=\"85.47,-85.56 84.96,-74.98 78.75,-83.57 85.47,-85.56\"/>\n</g>\n<!-- a -->\n<g id=\"node3\" class=\"node\">\n<title>a</title>\n<polygon fill=\"white\" stroke=\"transparent\" points=\"93.5,-167.5 86.5,-167.5 86.5,-152.5 93.5,-152.5 93.5,-167.5\"/>\n<text text-anchor=\"middle\" x=\"90\" y=\"-156.3\" font-family=\"Times,serif\" font-size=\"14.00\">a</text>\n</g>\n<!-- a&#45;&gt;obs -->\n<g id=\"edge2\" class=\"edge\">\n<title>a&#45;&gt;obs</title>\n<path fill=\"none\" stroke=\"black\" d=\"M90,-152.37C90,-139.04 90,-108.29 90,-85.49\"/>\n<polygon fill=\"black\" stroke=\"black\" points=\"93.5,-85.36 90,-75.36 86.5,-85.36 93.5,-85.36\"/>\n</g>\n<!-- bAR -->\n<g id=\"node4\" class=\"node\">\n<title>bAR</title>\n<polygon fill=\"white\" stroke=\"transparent\" points=\"138,-167.5 112,-167.5 112,-152.5 138,-152.5 138,-167.5\"/>\n<text text-anchor=\"middle\" x=\"125\" y=\"-156.3\" font-family=\"Times,serif\" font-size=\"14.00\">bAR</text>\n</g>\n<!-- bAR&#45;&gt;obs -->\n<g id=\"edge4\" class=\"edge\">\n<title>bAR&#45;&gt;obs</title>\n<path fill=\"none\" stroke=\"black\" d=\"M122.7,-152.37C117.99,-138.76 106.99,-107.02 99.04,-84.1\"/>\n<polygon fill=\"black\" stroke=\"black\" points=\"102.33,-82.9 95.75,-74.59 95.72,-85.19 102.33,-82.9\"/>\n</g>\n<!-- bA -->\n<g id=\"node5\" class=\"node\">\n<title>bA</title>\n<polygon fill=\"white\" stroke=\"transparent\" points=\"173.5,-167.5 156.5,-167.5 156.5,-152.5 173.5,-152.5 173.5,-167.5\"/>\n<text text-anchor=\"middle\" x=\"165\" y=\"-156.3\" font-family=\"Times,serif\" font-size=\"14.00\">bA</text>\n</g>\n<!-- bA&#45;&gt;obs -->\n<g id=\"edge1\" class=\"edge\">\n<title>bA&#45;&gt;obs</title>\n<path fill=\"none\" stroke=\"black\" d=\"M163.54,-152.34C161.19,-142.63 155.92,-124.31 147,-111 138.55,-98.39 126.54,-86.64 115.72,-77.42\"/>\n<polygon fill=\"black\" stroke=\"black\" points=\"117.71,-74.53 107.75,-70.89 113.27,-79.94 117.71,-74.53\"/>\n</g>\n<!-- distribution_description_node -->\n<g id=\"node7\" class=\"node\">\n<title>distribution_description_node</title>\n<text text-anchor=\"start\" x=\"199.5\" y=\"-193.8\" font-family=\"Times,serif\" font-size=\"14.00\">obs ~ Normal</text>\n<text text-anchor=\"start\" x=\"199.5\" y=\"-178.8\" font-family=\"Times,serif\" font-size=\"14.00\">a : Real()</text>\n<text text-anchor=\"start\" x=\"199.5\" y=\"-163.8\" font-family=\"Times,serif\" font-size=\"14.00\">bA : Real()</text>\n<text text-anchor=\"start\" x=\"199.5\" y=\"-148.8\" font-family=\"Times,serif\" font-size=\"14.00\">bR : Real()</text>\n<text text-anchor=\"start\" x=\"199.5\" y=\"-133.8\" font-family=\"Times,serif\" font-size=\"14.00\">bAR : Real()</text>\n<text text-anchor=\"start\" x=\"199.5\" y=\"-118.8\" font-family=\"Times,serif\" font-size=\"14.00\">sigma : GreaterThan(lower_bound=0.0)</text>\n</g>\n</g>\n</svg>\n",
            "text/plain": [
              "<graphviz.graphs.Digraph at 0x7f85c61add80>"
            ]
          },
          "metadata": {},
          "execution_count": 11
        }
      ]
    },
    {
      "cell_type": "markdown",
      "source": [
        "We needed to replace the pyro params with samples that will have a distribution of our prior beliefs"
      ],
      "metadata": {
        "id": "kSb-7cCMm-ej"
      }
    },
    {
      "cell_type": "code",
      "source": [
        "def model(is_cont_africa, ruggedness, log_gdp=None):\n",
        "  a = pyro.sample(\"a\", dist.Normal(0.,10.))\n",
        "  b_a = pyro.sample(\"bA\", dist.Normal(0.,1.))\n",
        "  b_r = pyro.sample(\"bR\", dist.Normal(0.,1.))\n",
        "  b_ar = pyro.sample(\"bAR\", dist.Normal(0.,1.))\n",
        "  #noise component\n",
        "  sigma = pyro.sample(\"sigma\",dist.Uniform(0.,10.))\n",
        "\n",
        "  mean = a + b_a * is_cont_africa + b_r * ruggedness + b_ar * is_cont_africa * ruggedness\n",
        "\n",
        "  with pyro.plate(\"data\", len(ruggedness)):\n",
        "        return pyro.sample(\"obs\", dist.Normal(mean, sigma), obs=log_gdp)\n"
      ],
      "metadata": {
        "id": "ZghMNeebm-G4"
      },
      "execution_count": 55,
      "outputs": []
    },
    {
      "cell_type": "markdown",
      "source": [
        "In the above code;\n",
        "1. we import the pyro libraries that we need for distribution and constraints definition\n",
        "\n",
        "2. we define a model function that will take in the three variable -- 2 independent (is_cont_africa and ruggedness) and one dependent (log_gdp)\n",
        "\n",
        "3. We initialize model parameters as pyro learnable parameters that could be learned through probabilistic inference. \n",
        "\n",
        "4. we define the multiple regression predictor function that will calculate the normal distribution that describes the relationship between the predictors (independent)and reponse (or dependent) variable in this case log GDP. \n",
        "\n",
        "5. We lastly  calculate the posterior distribution over the model parameters given the observed data and render them as graphical representation."
      ],
      "metadata": {
        "id": "CbTrtZjnnsFw"
      }
    },
    {
      "cell_type": "markdown",
      "source": [
        "**Variational inference:**\n",
        " this is one of the approximate inference algorithms.\n",
        "\n",
        "This is how it works:\n",
        " - Finds the real-valued parameters( $\\theta_{max}$) of distribution $𝑞_𝜙(z)$ \n",
        " - Compute the approximation of parameterized distribution $𝑞_𝜙(z)$ to true unknown posterior $𝑃𝜃_{max}(z|x)$. $𝜙$ is variational parameter.\n",
        " - To get the approximations, convert the intergrals into optimization of functions $𝘗$ and $𝑞$.\n",
        " \n",
        "  mean-field approximation -> approximate the posterior distribution over the parameters of a model,"
      ],
      "metadata": {
        "id": "ql6vvG2CxqWq"
      }
    },
    {
      "cell_type": "code",
      "source": [
        "# we define a guide function that takes same parameters as the model above\n",
        "#guide function the variational distribution\n",
        "def custom_guide(is_cont_africa, ruggedness, log_gdp=None):\n",
        "\n",
        "  # we define and initialize the pyro parameters used by the guide. \n",
        "  a_loc = pyro.param(\"a_loc\", lambda: torch.tensor(0.))\n",
        "  a_scale = pyro.param(\"a_scale\", lambda: torch.tensor(1.), constraint=constraints.positive)\n",
        "  sigma_loc = pyro.param(\"sigma_loc\", lambda: torch.tensor(1.), constraint=constraints.positive)\n",
        "\n",
        "  weights_loc = pyro.param(\"weights_loc\", lambda:torch.randn(3))\n",
        "  weights_scale = pyro.param(\"weights_scale\", lambda:torch.ones(3), constraint=constraints.positive)\n",
        "  \n",
        "  a = pyro.sample(\"a\", dist.Normal(a_loc, a_scale))\n",
        "  b_a = pyro.sample(\"bA\", dist.Normal(weights_loc[0], weights_scale[0]))\n",
        "  b_r = pyro.sample(\"bR\", dist.Normal(weights_loc[1], weights_scale[1]))\n",
        "  b_ar = pyro.sample(\"bAR\", dist.Normal(weights_loc[2], weights_scale[2]))\n",
        "  sigma = pyro.sample(\"sigma\", dist.Normal(sigma_loc, torch.tensor(0.05)))\n",
        "  return {\"a\": a, \"b_a\": b_a, \"b_r\": b_r, \"b_ar\": b_ar, \"sigma\": sigma}\n"
      ],
      "metadata": {
        "id": "KNgQSGJJprK6"
      },
      "execution_count": 50,
      "outputs": []
    },
    {
      "cell_type": "code",
      "source": [
        "#visualize that random variables\n",
        "pyro.render_model(custom_guide, model_args=(is_cont_africa, ruggedness,log_gdp), render_params=True)"
      ],
      "metadata": {
        "id": "I4y9TGsY4PJr",
        "outputId": "3e406fd0-bc12-4ef9-864a-5e54861a5f02",
        "colab": {
          "base_uri": "https://localhost:8080/",
          "height": 148
        }
      },
      "execution_count": 13,
      "outputs": [
        {
          "output_type": "execute_result",
          "data": {
            "image/svg+xml": "<?xml version=\"1.0\" encoding=\"UTF-8\" standalone=\"no\"?>\n<!DOCTYPE svg PUBLIC \"-//W3C//DTD SVG 1.1//EN\"\n \"http://www.w3.org/Graphics/SVG/1.1/DTD/svg11.dtd\">\n<!-- Generated by graphviz version 2.43.0 (0)\n -->\n<!-- Title: %3 Pages: 1 -->\n<svg width=\"390pt\" height=\"95pt\"\n viewBox=\"0.00 0.00 390.50 95.00\" xmlns=\"http://www.w3.org/2000/svg\" xmlns:xlink=\"http://www.w3.org/1999/xlink\">\n<g id=\"graph0\" class=\"graph\" transform=\"scale(1 1) rotate(0) translate(4 91)\">\n<title>%3</title>\n<polygon fill=\"white\" stroke=\"transparent\" points=\"-4,4 -4,-91 386.5,-91 386.5,4 -4,4\"/>\n<!-- a -->\n<g id=\"node1\" class=\"node\">\n<title>a</title>\n<ellipse fill=\"white\" stroke=\"black\" cx=\"27\" cy=\"-18\" rx=\"27\" ry=\"18\"/>\n<text text-anchor=\"middle\" x=\"27\" y=\"-14.3\" font-family=\"Times,serif\" font-size=\"14.00\">a</text>\n</g>\n<!-- bA -->\n<g id=\"node2\" class=\"node\">\n<title>bA</title>\n<ellipse fill=\"white\" stroke=\"black\" cx=\"119\" cy=\"-18\" rx=\"27\" ry=\"18\"/>\n<text text-anchor=\"middle\" x=\"119\" y=\"-14.3\" font-family=\"Times,serif\" font-size=\"14.00\">bA</text>\n</g>\n<!-- bR -->\n<g id=\"node3\" class=\"node\">\n<title>bR</title>\n<ellipse fill=\"white\" stroke=\"black\" cx=\"191\" cy=\"-18\" rx=\"27\" ry=\"18\"/>\n<text text-anchor=\"middle\" x=\"191\" y=\"-14.3\" font-family=\"Times,serif\" font-size=\"14.00\">bR</text>\n</g>\n<!-- bAR -->\n<g id=\"node4\" class=\"node\">\n<title>bAR</title>\n<ellipse fill=\"white\" stroke=\"black\" cx=\"263\" cy=\"-18\" rx=\"27.1\" ry=\"18\"/>\n<text text-anchor=\"middle\" x=\"263\" y=\"-14.3\" font-family=\"Times,serif\" font-size=\"14.00\">bAR</text>\n</g>\n<!-- sigma -->\n<g id=\"node5\" class=\"node\">\n<title>sigma</title>\n<ellipse fill=\"white\" stroke=\"black\" cx=\"350\" cy=\"-18\" rx=\"32.49\" ry=\"18\"/>\n<text text-anchor=\"middle\" x=\"350\" y=\"-14.3\" font-family=\"Times,serif\" font-size=\"14.00\">sigma</text>\n</g>\n<!-- weights_loc -->\n<g id=\"node6\" class=\"node\">\n<title>weights_loc</title>\n<polygon fill=\"white\" stroke=\"transparent\" points=\"197,-87 131,-87 131,-72 197,-72 197,-87\"/>\n<text text-anchor=\"middle\" x=\"164\" y=\"-75.8\" font-family=\"Times,serif\" font-size=\"14.00\">weights_loc</text>\n</g>\n<!-- weights_loc&#45;&gt;bA -->\n<g id=\"edge3\" class=\"edge\">\n<title>weights_loc&#45;&gt;bA</title>\n<path fill=\"none\" stroke=\"black\" d=\"M158.84,-71.67C153.45,-64.55 144.68,-52.96 136.75,-42.47\"/>\n<polygon fill=\"black\" stroke=\"black\" points=\"139.46,-40.25 130.64,-34.39 133.88,-44.48 139.46,-40.25\"/>\n</g>\n<!-- weights_loc&#45;&gt;bR -->\n<g id=\"edge5\" class=\"edge\">\n<title>weights_loc&#45;&gt;bR</title>\n<path fill=\"none\" stroke=\"black\" d=\"M167.1,-71.67C170.12,-65.01 174.91,-54.46 179.41,-44.54\"/>\n<polygon fill=\"black\" stroke=\"black\" points=\"182.62,-45.93 183.57,-35.38 176.25,-43.04 182.62,-45.93\"/>\n</g>\n<!-- weights_loc&#45;&gt;bAR -->\n<g id=\"edge7\" class=\"edge\">\n<title>weights_loc&#45;&gt;bAR</title>\n<path fill=\"none\" stroke=\"black\" d=\"M174.97,-71.91C189.29,-63.3 214.87,-47.93 234.78,-35.96\"/>\n<polygon fill=\"black\" stroke=\"black\" points=\"236.69,-38.89 243.46,-30.74 233.09,-32.89 236.69,-38.89\"/>\n</g>\n<!-- sigma_loc -->\n<g id=\"node7\" class=\"node\">\n<title>sigma_loc</title>\n<polygon fill=\"white\" stroke=\"transparent\" points=\"378.5,-87 321.5,-87 321.5,-72 378.5,-72 378.5,-87\"/>\n<text text-anchor=\"middle\" x=\"350\" y=\"-75.8\" font-family=\"Times,serif\" font-size=\"14.00\">sigma_loc</text>\n</g>\n<!-- sigma_loc&#45;&gt;sigma -->\n<g id=\"edge9\" class=\"edge\">\n<title>sigma_loc&#45;&gt;sigma</title>\n<path fill=\"none\" stroke=\"black\" d=\"M350,-71.67C350,-65.42 350,-55.74 350,-46.37\"/>\n<polygon fill=\"black\" stroke=\"black\" points=\"353.5,-46.13 350,-36.13 346.5,-46.13 353.5,-46.13\"/>\n</g>\n<!-- a_loc -->\n<g id=\"node8\" class=\"node\">\n<title>a_loc</title>\n<polygon fill=\"white\" stroke=\"transparent\" points=\"31,-87 1,-87 1,-72 31,-72 31,-87\"/>\n<text text-anchor=\"middle\" x=\"16\" y=\"-75.8\" font-family=\"Times,serif\" font-size=\"14.00\">a_loc</text>\n</g>\n<!-- a_loc&#45;&gt;a -->\n<g id=\"edge1\" class=\"edge\">\n<title>a_loc&#45;&gt;a</title>\n<path fill=\"none\" stroke=\"black\" d=\"M17.26,-71.67C18.43,-65.35 20.25,-55.53 22,-46.07\"/>\n<polygon fill=\"black\" stroke=\"black\" points=\"25.46,-46.6 23.83,-36.13 18.57,-45.32 25.46,-46.6\"/>\n</g>\n<!-- weights_scale -->\n<g id=\"node9\" class=\"node\">\n<title>weights_scale</title>\n<polygon fill=\"white\" stroke=\"transparent\" points=\"291,-87 215,-87 215,-72 291,-72 291,-87\"/>\n<text text-anchor=\"middle\" x=\"253\" y=\"-75.8\" font-family=\"Times,serif\" font-size=\"14.00\">weights_scale</text>\n</g>\n<!-- weights_scale&#45;&gt;bA -->\n<g id=\"edge4\" class=\"edge\">\n<title>weights_scale&#45;&gt;bA</title>\n<path fill=\"none\" stroke=\"black\" d=\"M237.32,-71.88C217.91,-63.65 183.89,-49.08 155,-36 153.21,-35.19 151.36,-34.35 149.51,-33.49\"/>\n<polygon fill=\"black\" stroke=\"black\" points=\"150.81,-30.23 140.27,-29.18 147.85,-36.58 150.81,-30.23\"/>\n</g>\n<!-- weights_scale&#45;&gt;bR -->\n<g id=\"edge6\" class=\"edge\">\n<title>weights_scale&#45;&gt;bR</title>\n<path fill=\"none\" stroke=\"black\" d=\"M245.89,-71.67C237.96,-64.06 224.73,-51.37 213.25,-40.35\"/>\n<polygon fill=\"black\" stroke=\"black\" points=\"215.67,-37.82 206.03,-33.42 210.82,-42.87 215.67,-37.82\"/>\n</g>\n<!-- weights_scale&#45;&gt;bAR -->\n<g id=\"edge8\" class=\"edge\">\n<title>weights_scale&#45;&gt;bAR</title>\n<path fill=\"none\" stroke=\"black\" d=\"M254.15,-71.67C255.21,-65.35 256.86,-55.53 258.45,-46.07\"/>\n<polygon fill=\"black\" stroke=\"black\" points=\"261.92,-46.57 260.12,-36.13 255.01,-45.41 261.92,-46.57\"/>\n</g>\n<!-- a_scale -->\n<g id=\"node10\" class=\"node\">\n<title>a_scale</title>\n<polygon fill=\"white\" stroke=\"transparent\" points=\"89,-87 49,-87 49,-72 89,-72 89,-87\"/>\n<text text-anchor=\"middle\" x=\"69\" y=\"-75.8\" font-family=\"Times,serif\" font-size=\"14.00\">a_scale</text>\n</g>\n<!-- a_scale&#45;&gt;a -->\n<g id=\"edge2\" class=\"edge\">\n<title>a_scale&#45;&gt;a</title>\n<path fill=\"none\" stroke=\"black\" d=\"M64.18,-71.67C59.27,-64.71 51.35,-53.5 44.08,-43.2\"/>\n<polygon fill=\"black\" stroke=\"black\" points=\"46.84,-41.03 38.21,-34.88 41.12,-45.07 46.84,-41.03\"/>\n</g>\n</g>\n</svg>\n",
            "text/plain": [
              "<graphviz.graphs.Digraph at 0x7f85c61ecca0>"
            ]
          },
          "metadata": {},
          "execution_count": 13
        }
      ]
    },
    {
      "cell_type": "code",
      "source": [
        "#generating an autoguide\n",
        "auto_guide = pyro.infer.autoguide.AutoNormal(model)\n",
        "#pyro.render_model(auto_guide, model_args=(is_cont_africa, ruggedness), render_distributions=True, render_params=True)"
      ],
      "metadata": {
        "id": "kE3cc5Xq4ojX"
      },
      "execution_count": 51,
      "outputs": []
    },
    {
      "cell_type": "markdown",
      "source": [
        "**Optimization:** evidence lower bound (ELBO)\n",
        "\n",
        "ELBO = $Ε_{𝑞_𝜙(z)}[logp_𝜃(x,z) - logq_𝜙(z)]$\n",
        "\n",
        "$logp_𝜃(x,z)$ this is the log of the functional of a model. This is the measure of how well the model explains the observed data.\n",
        "\n",
        "$logq_𝜙(z)$ and this is of a guide (variational distribution). The measure of amount of uncertainty (entropy) in the distribution. HIgher entropy means larger number of possible outcomes with similiar probabilities. \n",
        "\n",
        "the goal is to compute all the probabilities in the expectation of the log difference of the model and the guide.\n",
        "\n",
        "Optimizing the ELBO is by use of stochastic gradient descent using the gradient estimates using stochastic variational inference (SVI)\n"
      ],
      "metadata": {
        "id": "nC9MsQDy61Oz"
      }
    },
    {
      "cell_type": "code",
      "source": [
        "adam  = pyro.optim.Adam({\"lr\":0.00002})\n",
        "\n",
        "#optimize the output\n",
        "elbo = pyro.infer.Trace_ELBO()\n",
        "\n",
        "svi = pyro.infer.SVI(model, auto_guide, adam, elbo)"
      ],
      "metadata": {
        "id": "4P8pM9Y-6KQq"
      },
      "execution_count": 52,
      "outputs": []
    },
    {
      "cell_type": "code",
      "source": [
        "import logging\n",
        "import os\n",
        "smoke_test = ('CI' in os.environ)"
      ],
      "metadata": {
        "id": "-7KEsrYbAG4F"
      },
      "execution_count": 16,
      "outputs": []
    },
    {
      "cell_type": "code",
      "source": [
        "%%time\n",
        "pyro.clear_param_store()\n",
        "\n",
        "# These should be reset each training loop.\n",
        "auto_guide = pyro.infer.autoguide.AutoNormal(model)\n",
        "adam = pyro.optim.Adam({\"lr\": 0.02})  # Consider decreasing learning rate.\n",
        "elbo = pyro.infer.Trace_ELBO()\n",
        "svi = pyro.infer.SVI(model, auto_guide, adam, elbo)\n",
        "\n",
        "losses = []\n",
        "for step in range(1000 if not smoke_test else 2):  # Consider running for more steps.\n",
        "    loss = svi.step(is_cont_africa, ruggedness, log_gdp)\n",
        "    losses.append(loss)\n",
        "    if step % 100 == 0:\n",
        "        logging.info(\"Elbo loss: {}\".format(loss))\n",
        "plt.figure(figsize=(5, 2))\n",
        "plt.plot(losses)\n",
        "plt.xlabel(\"SVI step\")\n",
        "plt.ylabel(\"ELBO loss\");\n"
      ],
      "metadata": {
        "id": "eaw1_Vo0KFp3",
        "outputId": "8c910409-4b6c-41e1-dce3-8968b53cca5c",
        "colab": {
          "base_uri": "https://localhost:8080/",
          "height": 286
        }
      },
      "execution_count": 76,
      "outputs": [
        {
          "output_type": "stream",
          "name": "stdout",
          "text": [
            "CPU times: user 10.2 s, sys: 20 ms, total: 10.2 s\n",
            "Wall time: 10.3 s\n"
          ]
        },
        {
          "output_type": "execute_result",
          "data": {
            "text/plain": [
              "Text(0, 0.5, 'ELBO loss')"
            ]
          },
          "metadata": {},
          "execution_count": 76
        },
        {
          "output_type": "display_data",
          "data": {
            "text/plain": [
              "<Figure size 500x200 with 1 Axes>"
            ],
            "image/png": "[encoded data removed]"
          },
          "metadata": {}
        }
      ]
    },
    {
      "cell_type": "code",
      "source": [
        "auto_guide"
      ],
      "metadata": {
        "id": "C_gjUCUIeYt7",
        "outputId": "4dfa2e51-5a13-4e18-9d54-002f75357b6d",
        "colab": {
          "base_uri": "https://localhost:8080/"
        }
      },
      "execution_count": 65,
      "outputs": [
        {
          "output_type": "execute_result",
          "data": {
            "text/plain": [
              "AutoNormal(\n",
              "  (locs): PyroModule()\n",
              "  (scales): PyroModule()\n",
              ")"
            ]
          },
          "metadata": {},
          "execution_count": 65
        }
      ]
    },
    {
      "cell_type": "markdown",
      "source": [
        "\n",
        "\n",
        "We can actually examine the optimized guide parameter values by fetching from pyro's param store."
      ],
      "metadata": {
        "id": "QMDh6j2qL9C-"
      }
    },
    {
      "cell_type": "code",
      "source": [
        "for name, value in pyro.get_param_store().items():\n",
        "  print(name, pyro.param(name).data.cpu().numpy())"
      ],
      "metadata": {
        "id": "8RvsOuJTMJDf",
        "outputId": "5d05acfb-4271-47f9-bbd2-178485d060ce",
        "colab": {
          "base_uri": "https://localhost:8080/"
        }
      },
      "execution_count": 58,
      "outputs": [
        {
          "output_type": "stream",
          "name": "stdout",
          "text": [
            "AutoNormal.locs.a 9.202456\n",
            "AutoNormal.scales.a 0.07638812\n",
            "AutoNormal.locs.bA -1.8133506\n",
            "AutoNormal.scales.bA 0.12371081\n",
            "AutoNormal.locs.bR -0.18163913\n",
            "AutoNormal.scales.bR 0.04435697\n",
            "AutoNormal.locs.bAR 0.34946653\n",
            "AutoNormal.scales.bAR 0.06773665\n",
            "AutoNormal.locs.sigma -2.1897273\n",
            "AutoNormal.scales.sigma 0.052686278\n"
          ]
        }
      ]
    },
    {
      "cell_type": "markdown",
      "source": [
        "We plot the distribution of the slope of the log GDP given terrain ruggedness for nations within and outside africa."
      ],
      "metadata": {
        "id": "PiPRvYNnc6Lj"
      }
    },
    {
      "cell_type": "code",
      "source": [
        "with pyro.plate(\"sample\"):\n",
        "  samples = auto_guide(is_cont_africa, ruggedness)\n",
        "\n",
        "gamma_within_africa = samples[\"bR\"] + samples[\"bAR\"]\n",
        "gamma_outside_africa = samples[\"bR\"]"
      ],
      "metadata": {
        "id": "r2rN8atYa-OG"
      },
      "execution_count": 66,
      "outputs": []
    },
    {
      "cell_type": "code",
      "source": [
        "samples"
      ],
      "metadata": {
        "id": "v8jfmhEJgBT1",
        "outputId": "f398d894-a268-4847-a845-41b0bfc3d5a5",
        "colab": {
          "base_uri": "https://localhost:8080/"
        }
      },
      "execution_count": 67,
      "outputs": [
        {
          "output_type": "execute_result",
          "data": {
            "text/plain": [
              "{'a': tensor(9.1925, grad_fn=<ExpandBackward0>),\n",
              " 'bA': tensor(-1.8180, grad_fn=<ExpandBackward0>),\n",
              " 'bR': tensor(-0.2238, grad_fn=<ExpandBackward0>),\n",
              " 'bAR': tensor(0.3649, grad_fn=<ExpandBackward0>),\n",
              " 'sigma': tensor(0.9766, grad_fn=<ExpandBackward0>)}"
            ]
          },
          "metadata": {},
          "execution_count": 67
        }
      ]
    },
    {
      "cell_type": "code",
      "source": [
        "gamma_within_africa"
      ],
      "metadata": {
        "id": "S4geptAdglcW",
        "outputId": "ef1efa1c-dd00-4707-812d-439a85f06f43",
        "colab": {
          "base_uri": "https://localhost:8080/"
        }
      },
      "execution_count": 68,
      "outputs": [
        {
          "output_type": "execute_result",
          "data": {
            "text/plain": [
              "tensor(0.1411, grad_fn=<AddBackward0>)"
            ]
          },
          "metadata": {},
          "execution_count": 68
        }
      ]
    },
    {
      "cell_type": "code",
      "source": [
        "#detach, cpu and numpy functions converts a tensor to a numpy array\n",
        "gamma_within_africa.detach().cpu().numpy()"
      ],
      "metadata": {
        "id": "xqNXfZUpguzG",
        "outputId": "b1fc5f3f-4d1b-4a4e-d5fc-15b318babaa3",
        "colab": {
          "base_uri": "https://localhost:8080/"
        }
      },
      "execution_count": 69,
      "outputs": [
        {
          "output_type": "execute_result",
          "data": {
            "text/plain": [
              "array(0.14106849, dtype=float32)"
            ]
          },
          "metadata": {},
          "execution_count": 69
        }
      ]
    },
    {
      "cell_type": "code",
      "source": [
        "gamma_outside_africa "
      ],
      "metadata": {
        "id": "jIPB_FWwrdNs",
        "outputId": "a7233875-738b-4127-a1a7-f204c7e54659",
        "colab": {
          "base_uri": "https://localhost:8080/"
        }
      },
      "execution_count": 71,
      "outputs": [
        {
          "output_type": "execute_result",
          "data": {
            "text/plain": [
              "tensor(-0.2238, grad_fn=<ExpandBackward0>)"
            ]
          },
          "metadata": {},
          "execution_count": 71
        }
      ]
    },
    {
      "cell_type": "code",
      "source": [
        "gamma_outside_africa.detach().cpu().numpy()"
      ],
      "metadata": {
        "id": "9OVrHxcWriRd",
        "outputId": "f78aaf50-ceed-44db-9465-aa0ce364dfcc",
        "colab": {
          "base_uri": "https://localhost:8080/"
        }
      },
      "execution_count": 72,
      "outputs": [
        {
          "output_type": "execute_result",
          "data": {
            "text/plain": [
              "array(-0.22382915, dtype=float32)"
            ]
          },
          "metadata": {},
          "execution_count": 72
        }
      ]
    },
    {
      "cell_type": "code",
      "source": [],
      "metadata": {
        "id": "9x48JcLCwEqp"
      },
      "execution_count": null,
      "outputs": []
    }
  ]
}