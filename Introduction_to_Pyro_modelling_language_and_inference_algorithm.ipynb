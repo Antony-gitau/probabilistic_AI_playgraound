{
  "nbformat": 4,
  "nbformat_minor": 0,
  "metadata": {
    "colab": {
      "provenance": [],
      "authorship_tag": "ABX9TyPLX/L05S9RKGIbQqaNrZtU",
      "include_colab_link": true
    },
    "kernelspec": {
      "name": "python3",
      "display_name": "Python 3"
    },
    "language_info": {
      "name": "python"
    }
  },
  "cells": [
    {
      "cell_type": "markdown",
      "metadata": {
        "id": "view-in-github",
        "colab_type": "text"
      },
      "source": [
        "<a href=\"https://colab.research.google.com/github/Antony-gitau/probabilistic_AI_playgraound/blob/main/Introduction_to_Pyro_modelling_language_and_inference_algorithm.ipynb\" target=\"_parent\"><img src=\"https://colab.research.google.com/assets/colab-badge.svg\" alt=\"Open In Colab\"/></a>"
      ]
    },
    {
      "cell_type": "markdown",
      "source": [
        "This notebook is a collection of examples and notes of my pursuit to understand how to model probablistic machine learning algorithmns using a python based language --pyro.\n",
        "\n",
        "terms:\n",
        "- Pyro is a probablistic programming language (PPL) based on python and pytorch. \n",
        "\n",
        "- probabilistic machine learning algorithmms - models that are built in the language of probability.\n",
        "\n",
        "- probability is the mathematics of reasoning under uncertainity. \n",
        "\n",
        "- probabilistic program - a mixture of deterministic computation and randomly sampled values. \n",
        "\n",
        "- A latent variable is one that cannot be directly observed but is estimated based on a series of observed variables. In pyro, these variables are graphically represented as unshaded nodes.\n",
        "\n",
        "- Inference is drawing conclusions about latent variable from the data.\n",
        "\n",
        "- prior probability - it is the probability before evidence is taken into account.\n",
        "\n",
        "- posterior distribution is the result of updating the likelihood infomation (or evidence) to prior probability.\n",
        "\n"
      ],
      "metadata": {
        "id": "FwSnlGGHIvbE"
      }
    },
    {
      "cell_type": "code",
      "source": [
        "%%capture\n",
        "!pip install -q --upgrade pyro-ppl torch\n",
        "import torch\n",
        "import numpy as np\n",
        "import pandas as pd\n",
        "import seaborn as sns\n",
        "import matplotlib.pyplot as plt\n",
        "\n",
        "import pyro"
      ],
      "metadata": {
        "id": "gBxoWlK1J9LW"
      },
      "execution_count": 1,
      "outputs": []
    },
    {
      "cell_type": "markdown",
      "source": [
        "We got this data from the [pyro documenatation page](https://pyro.ai/examples/intro_long.html#)."
      ],
      "metadata": {
        "id": "wtT33GemP-BB"
      }
    },
    {
      "cell_type": "code",
      "source": [
        "DATA_URL = \"https://d2hg8soec8ck9v.cloudfront.net/datasets/rugged_data.csv\"\n",
        "data = pd.read_csv(DATA_URL, encoding=\"ISO-8859-1\")\n",
        "\n",
        "# we only want to investigate the ruggedness index, GPD per capital \n",
        "#of countries in Africa or not\n",
        "df = data[[\"cont_africa\", \"rugged\", \"rgdppc_2000\"]]"
      ],
      "metadata": {
        "id": "ovpsLVZMP3qH"
      },
      "execution_count": 2,
      "outputs": []
    },
    {
      "cell_type": "code",
      "source": [
        "df.head()"
      ],
      "metadata": {
        "colab": {
          "base_uri": "https://localhost:8080/",
          "height": 206
        },
        "id": "4oVBgmNQP6O9",
        "outputId": "7ffc1449-3178-4e8e-a82e-7cc4100b70de"
      },
      "execution_count": 3,
      "outputs": [
        {
          "output_type": "execute_result",
          "data": {
            "text/plain": [
              "   cont_africa  rugged  rgdppc_2000\n",
              "0            0   0.462          NaN\n",
              "1            0   2.518          NaN\n",
              "2            1   0.858     1794.729\n",
              "3            0   0.013          NaN\n",
              "4            0   3.427     3703.113"
            ],
            "text/html": [
              "\n",
              "  <div id=\"df-be55fdd2-a69f-437e-8168-e8c16d3fc769\">\n",
              "    <div class=\"colab-df-container\">\n",
              "      <div>\n",
              "<style scoped>\n",
              "    .dataframe tbody tr th:only-of-type {\n",
              "        vertical-align: middle;\n",
              "    }\n",
              "\n",
              "    .dataframe tbody tr th {\n",
              "        vertical-align: top;\n",
              "    }\n",
              "\n",
              "    .dataframe thead th {\n",
              "        text-align: right;\n",
              "    }\n",
              "</style>\n",
              "<table border=\"1\" class=\"dataframe\">\n",
              "  <thead>\n",
              "    <tr style=\"text-align: right;\">\n",
              "      <th></th>\n",
              "      <th>cont_africa</th>\n",
              "      <th>rugged</th>\n",
              "      <th>rgdppc_2000</th>\n",
              "    </tr>\n",
              "  </thead>\n",
              "  <tbody>\n",
              "    <tr>\n",
              "      <th>0</th>\n",
              "      <td>0</td>\n",
              "      <td>0.462</td>\n",
              "      <td>NaN</td>\n",
              "    </tr>\n",
              "    <tr>\n",
              "      <th>1</th>\n",
              "      <td>0</td>\n",
              "      <td>2.518</td>\n",
              "      <td>NaN</td>\n",
              "    </tr>\n",
              "    <tr>\n",
              "      <th>2</th>\n",
              "      <td>1</td>\n",
              "      <td>0.858</td>\n",
              "      <td>1794.729</td>\n",
              "    </tr>\n",
              "    <tr>\n",
              "      <th>3</th>\n",
              "      <td>0</td>\n",
              "      <td>0.013</td>\n",
              "      <td>NaN</td>\n",
              "    </tr>\n",
              "    <tr>\n",
              "      <th>4</th>\n",
              "      <td>0</td>\n",
              "      <td>3.427</td>\n",
              "      <td>3703.113</td>\n",
              "    </tr>\n",
              "  </tbody>\n",
              "</table>\n",
              "</div>\n",
              "      <button class=\"colab-df-convert\" onclick=\"convertToInteractive('df-be55fdd2-a69f-437e-8168-e8c16d3fc769')\"\n",
              "              title=\"Convert this dataframe to an interactive table.\"\n",
              "              style=\"display:none;\">\n",
              "        \n",
              "  <svg xmlns=\"http://www.w3.org/2000/svg\" height=\"24px\"viewBox=\"0 0 24 24\"\n",
              "       width=\"24px\">\n",
              "    <path d=\"M0 0h24v24H0V0z\" fill=\"none\"/>\n",
              "    <path d=\"M18.56 5.44l.94 2.06.94-2.06 2.06-.94-2.06-.94-.94-2.06-.94 2.06-2.06.94zm-11 1L8.5 8.5l.94-2.06 2.06-.94-2.06-.94L8.5 2.5l-.94 2.06-2.06.94zm10 10l.94 2.06.94-2.06 2.06-.94-2.06-.94-.94-2.06-.94 2.06-2.06.94z\"/><path d=\"M17.41 7.96l-1.37-1.37c-.4-.4-.92-.59-1.43-.59-.52 0-1.04.2-1.43.59L10.3 9.45l-7.72 7.72c-.78.78-.78 2.05 0 2.83L4 21.41c.39.39.9.59 1.41.59.51 0 1.02-.2 1.41-.59l7.78-7.78 2.81-2.81c.8-.78.8-2.07 0-2.86zM5.41 20L4 18.59l7.72-7.72 1.47 1.35L5.41 20z\"/>\n",
              "  </svg>\n",
              "      </button>\n",
              "      \n",
              "  <style>\n",
              "    .colab-df-container {\n",
              "      display:flex;\n",
              "      flex-wrap:wrap;\n",
              "      gap: 12px;\n",
              "    }\n",
              "\n",
              "    .colab-df-convert {\n",
              "      background-color: #E8F0FE;\n",
              "      border: none;\n",
              "      border-radius: 50%;\n",
              "      cursor: pointer;\n",
              "      display: none;\n",
              "      fill: #1967D2;\n",
              "      height: 32px;\n",
              "      padding: 0 0 0 0;\n",
              "      width: 32px;\n",
              "    }\n",
              "\n",
              "    .colab-df-convert:hover {\n",
              "      background-color: #E2EBFA;\n",
              "      box-shadow: 0px 1px 2px rgba(60, 64, 67, 0.3), 0px 1px 3px 1px rgba(60, 64, 67, 0.15);\n",
              "      fill: #174EA6;\n",
              "    }\n",
              "\n",
              "    [theme=dark] .colab-df-convert {\n",
              "      background-color: #3B4455;\n",
              "      fill: #D2E3FC;\n",
              "    }\n",
              "\n",
              "    [theme=dark] .colab-df-convert:hover {\n",
              "      background-color: #434B5C;\n",
              "      box-shadow: 0px 1px 3px 1px rgba(0, 0, 0, 0.15);\n",
              "      filter: drop-shadow(0px 1px 2px rgba(0, 0, 0, 0.3));\n",
              "      fill: #FFFFFF;\n",
              "    }\n",
              "  </style>\n",
              "\n",
              "      <script>\n",
              "        const buttonEl =\n",
              "          document.querySelector('#df-be55fdd2-a69f-437e-8168-e8c16d3fc769 button.colab-df-convert');\n",
              "        buttonEl.style.display =\n",
              "          google.colab.kernel.accessAllowed ? 'block' : 'none';\n",
              "\n",
              "        async function convertToInteractive(key) {\n",
              "          const element = document.querySelector('#df-be55fdd2-a69f-437e-8168-e8c16d3fc769');\n",
              "          const dataTable =\n",
              "            await google.colab.kernel.invokeFunction('convertToInteractive',\n",
              "                                                     [key], {});\n",
              "          if (!dataTable) return;\n",
              "\n",
              "          const docLinkHtml = 'Like what you see? Visit the ' +\n",
              "            '<a target=\"_blank\" href=https://colab.research.google.com/notebooks/data_table.ipynb>data table notebook</a>'\n",
              "            + ' to learn more about interactive tables.';\n",
              "          element.innerHTML = '';\n",
              "          dataTable['output_type'] = 'display_data';\n",
              "          await google.colab.output.renderOutput(dataTable, element);\n",
              "          const docLink = document.createElement('div');\n",
              "          docLink.innerHTML = docLinkHtml;\n",
              "          element.appendChild(docLink);\n",
              "        }\n",
              "      </script>\n",
              "    </div>\n",
              "  </div>\n",
              "  "
            ]
          },
          "metadata": {},
          "execution_count": 3
        }
      ]
    },
    {
      "cell_type": "markdown",
      "source": [
        "We are filtering out the rows under column `rgdppc_2000`that are non-finite, meaning they are NaN or infinity.\n",
        "\n",
        "We make these changes to our dataframe which results into columns with only finite values."
      ],
      "metadata": {
        "id": "dNkGrtLTR6ln"
      }
    },
    {
      "cell_type": "code",
      "source": [
        "df =df[np.isfinite(df['rgdppc_2000'])]\n",
        "df.head(10)"
      ],
      "metadata": {
        "colab": {
          "base_uri": "https://localhost:8080/",
          "height": 363
        },
        "id": "QDzAMJsPP7px",
        "outputId": "46071b1b-e105-4478-854b-f56ec42c2df8"
      },
      "execution_count": 4,
      "outputs": [
        {
          "output_type": "execute_result",
          "data": {
            "text/plain": [
              "    cont_africa  rugged  rgdppc_2000\n",
              "2             1   0.858     1794.729\n",
              "4             0   3.427     3703.113\n",
              "7             0   0.769    20604.460\n",
              "8             0   0.775    12173.680\n",
              "9             0   2.688     2421.985\n",
              "11            0   0.006    10022.030\n",
              "12            0   0.143    25417.440\n",
              "13            0   3.513    28987.840\n",
              "14            0   1.672     2570.944\n",
              "15            1   1.780      621.652"
            ],
            "text/html": [
              "\n",
              "  <div id=\"df-ce7eea5f-b648-4aec-a16c-56640a224b38\">\n",
              "    <div class=\"colab-df-container\">\n",
              "      <div>\n",
              "<style scoped>\n",
              "    .dataframe tbody tr th:only-of-type {\n",
              "        vertical-align: middle;\n",
              "    }\n",
              "\n",
              "    .dataframe tbody tr th {\n",
              "        vertical-align: top;\n",
              "    }\n",
              "\n",
              "    .dataframe thead th {\n",
              "        text-align: right;\n",
              "    }\n",
              "</style>\n",
              "<table border=\"1\" class=\"dataframe\">\n",
              "  <thead>\n",
              "    <tr style=\"text-align: right;\">\n",
              "      <th></th>\n",
              "      <th>cont_africa</th>\n",
              "      <th>rugged</th>\n",
              "      <th>rgdppc_2000</th>\n",
              "    </tr>\n",
              "  </thead>\n",
              "  <tbody>\n",
              "    <tr>\n",
              "      <th>2</th>\n",
              "      <td>1</td>\n",
              "      <td>0.858</td>\n",
              "      <td>1794.729</td>\n",
              "    </tr>\n",
              "    <tr>\n",
              "      <th>4</th>\n",
              "      <td>0</td>\n",
              "      <td>3.427</td>\n",
              "      <td>3703.113</td>\n",
              "    </tr>\n",
              "    <tr>\n",
              "      <th>7</th>\n",
              "      <td>0</td>\n",
              "      <td>0.769</td>\n",
              "      <td>20604.460</td>\n",
              "    </tr>\n",
              "    <tr>\n",
              "      <th>8</th>\n",
              "      <td>0</td>\n",
              "      <td>0.775</td>\n",
              "      <td>12173.680</td>\n",
              "    </tr>\n",
              "    <tr>\n",
              "      <th>9</th>\n",
              "      <td>0</td>\n",
              "      <td>2.688</td>\n",
              "      <td>2421.985</td>\n",
              "    </tr>\n",
              "    <tr>\n",
              "      <th>11</th>\n",
              "      <td>0</td>\n",
              "      <td>0.006</td>\n",
              "      <td>10022.030</td>\n",
              "    </tr>\n",
              "    <tr>\n",
              "      <th>12</th>\n",
              "      <td>0</td>\n",
              "      <td>0.143</td>\n",
              "      <td>25417.440</td>\n",
              "    </tr>\n",
              "    <tr>\n",
              "      <th>13</th>\n",
              "      <td>0</td>\n",
              "      <td>3.513</td>\n",
              "      <td>28987.840</td>\n",
              "    </tr>\n",
              "    <tr>\n",
              "      <th>14</th>\n",
              "      <td>0</td>\n",
              "      <td>1.672</td>\n",
              "      <td>2570.944</td>\n",
              "    </tr>\n",
              "    <tr>\n",
              "      <th>15</th>\n",
              "      <td>1</td>\n",
              "      <td>1.780</td>\n",
              "      <td>621.652</td>\n",
              "    </tr>\n",
              "  </tbody>\n",
              "</table>\n",
              "</div>\n",
              "      <button class=\"colab-df-convert\" onclick=\"convertToInteractive('df-ce7eea5f-b648-4aec-a16c-56640a224b38')\"\n",
              "              title=\"Convert this dataframe to an interactive table.\"\n",
              "              style=\"display:none;\">\n",
              "        \n",
              "  <svg xmlns=\"http://www.w3.org/2000/svg\" height=\"24px\"viewBox=\"0 0 24 24\"\n",
              "       width=\"24px\">\n",
              "    <path d=\"M0 0h24v24H0V0z\" fill=\"none\"/>\n",
              "    <path d=\"M18.56 5.44l.94 2.06.94-2.06 2.06-.94-2.06-.94-.94-2.06-.94 2.06-2.06.94zm-11 1L8.5 8.5l.94-2.06 2.06-.94-2.06-.94L8.5 2.5l-.94 2.06-2.06.94zm10 10l.94 2.06.94-2.06 2.06-.94-2.06-.94-.94-2.06-.94 2.06-2.06.94z\"/><path d=\"M17.41 7.96l-1.37-1.37c-.4-.4-.92-.59-1.43-.59-.52 0-1.04.2-1.43.59L10.3 9.45l-7.72 7.72c-.78.78-.78 2.05 0 2.83L4 21.41c.39.39.9.59 1.41.59.51 0 1.02-.2 1.41-.59l7.78-7.78 2.81-2.81c.8-.78.8-2.07 0-2.86zM5.41 20L4 18.59l7.72-7.72 1.47 1.35L5.41 20z\"/>\n",
              "  </svg>\n",
              "      </button>\n",
              "      \n",
              "  <style>\n",
              "    .colab-df-container {\n",
              "      display:flex;\n",
              "      flex-wrap:wrap;\n",
              "      gap: 12px;\n",
              "    }\n",
              "\n",
              "    .colab-df-convert {\n",
              "      background-color: #E8F0FE;\n",
              "      border: none;\n",
              "      border-radius: 50%;\n",
              "      cursor: pointer;\n",
              "      display: none;\n",
              "      fill: #1967D2;\n",
              "      height: 32px;\n",
              "      padding: 0 0 0 0;\n",
              "      width: 32px;\n",
              "    }\n",
              "\n",
              "    .colab-df-convert:hover {\n",
              "      background-color: #E2EBFA;\n",
              "      box-shadow: 0px 1px 2px rgba(60, 64, 67, 0.3), 0px 1px 3px 1px rgba(60, 64, 67, 0.15);\n",
              "      fill: #174EA6;\n",
              "    }\n",
              "\n",
              "    [theme=dark] .colab-df-convert {\n",
              "      background-color: #3B4455;\n",
              "      fill: #D2E3FC;\n",
              "    }\n",
              "\n",
              "    [theme=dark] .colab-df-convert:hover {\n",
              "      background-color: #434B5C;\n",
              "      box-shadow: 0px 1px 3px 1px rgba(0, 0, 0, 0.15);\n",
              "      filter: drop-shadow(0px 1px 2px rgba(0, 0, 0, 0.3));\n",
              "      fill: #FFFFFF;\n",
              "    }\n",
              "  </style>\n",
              "\n",
              "      <script>\n",
              "        const buttonEl =\n",
              "          document.querySelector('#df-ce7eea5f-b648-4aec-a16c-56640a224b38 button.colab-df-convert');\n",
              "        buttonEl.style.display =\n",
              "          google.colab.kernel.accessAllowed ? 'block' : 'none';\n",
              "\n",
              "        async function convertToInteractive(key) {\n",
              "          const element = document.querySelector('#df-ce7eea5f-b648-4aec-a16c-56640a224b38');\n",
              "          const dataTable =\n",
              "            await google.colab.kernel.invokeFunction('convertToInteractive',\n",
              "                                                     [key], {});\n",
              "          if (!dataTable) return;\n",
              "\n",
              "          const docLinkHtml = 'Like what you see? Visit the ' +\n",
              "            '<a target=\"_blank\" href=https://colab.research.google.com/notebooks/data_table.ipynb>data table notebook</a>'\n",
              "            + ' to learn more about interactive tables.';\n",
              "          element.innerHTML = '';\n",
              "          dataTable['output_type'] = 'display_data';\n",
              "          await google.colab.output.renderOutput(dataTable, element);\n",
              "          const docLink = document.createElement('div');\n",
              "          docLink.innerHTML = docLinkHtml;\n",
              "          element.appendChild(docLink);\n",
              "        }\n",
              "      </script>\n",
              "    </div>\n",
              "  </div>\n",
              "  "
            ]
          },
          "metadata": {},
          "execution_count": 4
        }
      ]
    },
    {
      "cell_type": "markdown",
      "source": [
        "We then convert the finite values in the `rgdppc_2000` to natural log. We do so normalize the data or reduce the influence of extreme values ( [Best practice in statistics: The use of log transformation article](https://www.ncbi.nlm.nih.gov/pmc/articles/PMC9036143/)."
      ],
      "metadata": {
        "id": "HGAwuufDSml2"
      }
    },
    {
      "cell_type": "code",
      "source": [
        "df[\"rgdppc_2000\"] = np.log(df[\"rgdppc_2000\"])\n",
        "df.head(10)"
      ],
      "metadata": {
        "colab": {
          "base_uri": "https://localhost:8080/",
          "height": 363
        },
        "id": "usRnY6wJRdbc",
        "outputId": "2e75f69f-b994-4eed-f3d8-386485034c3a"
      },
      "execution_count": 5,
      "outputs": [
        {
          "output_type": "execute_result",
          "data": {
            "text/plain": [
              "    cont_africa  rugged  rgdppc_2000\n",
              "2             1   0.858     7.492609\n",
              "4             0   3.427     8.216929\n",
              "7             0   0.769     9.933263\n",
              "8             0   0.775     9.407032\n",
              "9             0   2.688     7.792343\n",
              "11            0   0.006     9.212541\n",
              "12            0   0.143    10.143191\n",
              "13            0   3.513    10.274632\n",
              "14            0   1.672     7.852028\n",
              "15            1   1.780     6.432380"
            ],
            "text/html": [
              "\n",
              "  <div id=\"df-ca11e1dc-e6a3-4915-b20f-9e503fa5da93\">\n",
              "    <div class=\"colab-df-container\">\n",
              "      <div>\n",
              "<style scoped>\n",
              "    .dataframe tbody tr th:only-of-type {\n",
              "        vertical-align: middle;\n",
              "    }\n",
              "\n",
              "    .dataframe tbody tr th {\n",
              "        vertical-align: top;\n",
              "    }\n",
              "\n",
              "    .dataframe thead th {\n",
              "        text-align: right;\n",
              "    }\n",
              "</style>\n",
              "<table border=\"1\" class=\"dataframe\">\n",
              "  <thead>\n",
              "    <tr style=\"text-align: right;\">\n",
              "      <th></th>\n",
              "      <th>cont_africa</th>\n",
              "      <th>rugged</th>\n",
              "      <th>rgdppc_2000</th>\n",
              "    </tr>\n",
              "  </thead>\n",
              "  <tbody>\n",
              "    <tr>\n",
              "      <th>2</th>\n",
              "      <td>1</td>\n",
              "      <td>0.858</td>\n",
              "      <td>7.492609</td>\n",
              "    </tr>\n",
              "    <tr>\n",
              "      <th>4</th>\n",
              "      <td>0</td>\n",
              "      <td>3.427</td>\n",
              "      <td>8.216929</td>\n",
              "    </tr>\n",
              "    <tr>\n",
              "      <th>7</th>\n",
              "      <td>0</td>\n",
              "      <td>0.769</td>\n",
              "      <td>9.933263</td>\n",
              "    </tr>\n",
              "    <tr>\n",
              "      <th>8</th>\n",
              "      <td>0</td>\n",
              "      <td>0.775</td>\n",
              "      <td>9.407032</td>\n",
              "    </tr>\n",
              "    <tr>\n",
              "      <th>9</th>\n",
              "      <td>0</td>\n",
              "      <td>2.688</td>\n",
              "      <td>7.792343</td>\n",
              "    </tr>\n",
              "    <tr>\n",
              "      <th>11</th>\n",
              "      <td>0</td>\n",
              "      <td>0.006</td>\n",
              "      <td>9.212541</td>\n",
              "    </tr>\n",
              "    <tr>\n",
              "      <th>12</th>\n",
              "      <td>0</td>\n",
              "      <td>0.143</td>\n",
              "      <td>10.143191</td>\n",
              "    </tr>\n",
              "    <tr>\n",
              "      <th>13</th>\n",
              "      <td>0</td>\n",
              "      <td>3.513</td>\n",
              "      <td>10.274632</td>\n",
              "    </tr>\n",
              "    <tr>\n",
              "      <th>14</th>\n",
              "      <td>0</td>\n",
              "      <td>1.672</td>\n",
              "      <td>7.852028</td>\n",
              "    </tr>\n",
              "    <tr>\n",
              "      <th>15</th>\n",
              "      <td>1</td>\n",
              "      <td>1.780</td>\n",
              "      <td>6.432380</td>\n",
              "    </tr>\n",
              "  </tbody>\n",
              "</table>\n",
              "</div>\n",
              "      <button class=\"colab-df-convert\" onclick=\"convertToInteractive('df-ca11e1dc-e6a3-4915-b20f-9e503fa5da93')\"\n",
              "              title=\"Convert this dataframe to an interactive table.\"\n",
              "              style=\"display:none;\">\n",
              "        \n",
              "  <svg xmlns=\"http://www.w3.org/2000/svg\" height=\"24px\"viewBox=\"0 0 24 24\"\n",
              "       width=\"24px\">\n",
              "    <path d=\"M0 0h24v24H0V0z\" fill=\"none\"/>\n",
              "    <path d=\"M18.56 5.44l.94 2.06.94-2.06 2.06-.94-2.06-.94-.94-2.06-.94 2.06-2.06.94zm-11 1L8.5 8.5l.94-2.06 2.06-.94-2.06-.94L8.5 2.5l-.94 2.06-2.06.94zm10 10l.94 2.06.94-2.06 2.06-.94-2.06-.94-.94-2.06-.94 2.06-2.06.94z\"/><path d=\"M17.41 7.96l-1.37-1.37c-.4-.4-.92-.59-1.43-.59-.52 0-1.04.2-1.43.59L10.3 9.45l-7.72 7.72c-.78.78-.78 2.05 0 2.83L4 21.41c.39.39.9.59 1.41.59.51 0 1.02-.2 1.41-.59l7.78-7.78 2.81-2.81c.8-.78.8-2.07 0-2.86zM5.41 20L4 18.59l7.72-7.72 1.47 1.35L5.41 20z\"/>\n",
              "  </svg>\n",
              "      </button>\n",
              "      \n",
              "  <style>\n",
              "    .colab-df-container {\n",
              "      display:flex;\n",
              "      flex-wrap:wrap;\n",
              "      gap: 12px;\n",
              "    }\n",
              "\n",
              "    .colab-df-convert {\n",
              "      background-color: #E8F0FE;\n",
              "      border: none;\n",
              "      border-radius: 50%;\n",
              "      cursor: pointer;\n",
              "      display: none;\n",
              "      fill: #1967D2;\n",
              "      height: 32px;\n",
              "      padding: 0 0 0 0;\n",
              "      width: 32px;\n",
              "    }\n",
              "\n",
              "    .colab-df-convert:hover {\n",
              "      background-color: #E2EBFA;\n",
              "      box-shadow: 0px 1px 2px rgba(60, 64, 67, 0.3), 0px 1px 3px 1px rgba(60, 64, 67, 0.15);\n",
              "      fill: #174EA6;\n",
              "    }\n",
              "\n",
              "    [theme=dark] .colab-df-convert {\n",
              "      background-color: #3B4455;\n",
              "      fill: #D2E3FC;\n",
              "    }\n",
              "\n",
              "    [theme=dark] .colab-df-convert:hover {\n",
              "      background-color: #434B5C;\n",
              "      box-shadow: 0px 1px 3px 1px rgba(0, 0, 0, 0.15);\n",
              "      filter: drop-shadow(0px 1px 2px rgba(0, 0, 0, 0.3));\n",
              "      fill: #FFFFFF;\n",
              "    }\n",
              "  </style>\n",
              "\n",
              "      <script>\n",
              "        const buttonEl =\n",
              "          document.querySelector('#df-ca11e1dc-e6a3-4915-b20f-9e503fa5da93 button.colab-df-convert');\n",
              "        buttonEl.style.display =\n",
              "          google.colab.kernel.accessAllowed ? 'block' : 'none';\n",
              "\n",
              "        async function convertToInteractive(key) {\n",
              "          const element = document.querySelector('#df-ca11e1dc-e6a3-4915-b20f-9e503fa5da93');\n",
              "          const dataTable =\n",
              "            await google.colab.kernel.invokeFunction('convertToInteractive',\n",
              "                                                     [key], {});\n",
              "          if (!dataTable) return;\n",
              "\n",
              "          const docLinkHtml = 'Like what you see? Visit the ' +\n",
              "            '<a target=\"_blank\" href=https://colab.research.google.com/notebooks/data_table.ipynb>data table notebook</a>'\n",
              "            + ' to learn more about interactive tables.';\n",
              "          element.innerHTML = '';\n",
              "          dataTable['output_type'] = 'display_data';\n",
              "          await google.colab.output.renderOutput(dataTable, element);\n",
              "          const docLink = document.createElement('div');\n",
              "          docLink.innerHTML = docLinkHtml;\n",
              "          element.appendChild(docLink);\n",
              "        }\n",
              "      </script>\n",
              "    </div>\n",
              "  </div>\n",
              "  "
            ]
          },
          "metadata": {},
          "execution_count": 5
        }
      ]
    },
    {
      "cell_type": "code",
      "source": [
        "values = df.values\n",
        "print(values.shape)\n",
        "print(values.dtype)"
      ],
      "metadata": {
        "colab": {
          "base_uri": "https://localhost:8080/"
        },
        "id": "tOutM1eZSgQq",
        "outputId": "5089cd09-e8c7-4167-a829-78c54f80bab0"
      },
      "execution_count": 6,
      "outputs": [
        {
          "output_type": "stream",
          "name": "stdout",
          "text": [
            "(170, 3)\n",
            "float64\n"
          ]
        }
      ]
    },
    {
      "cell_type": "markdown",
      "source": [
        "We want to convert the numpy arrays above in the dataframe, df to torch tensors for processing in pytorch and pyro.\n",
        "\n",
        "To do that, we first get all the numpy array ,`df.values`, and pass them through the ,`torch.tensor function`, as we specify the type of torch tensors as floating points. \n",
        "\n",
        "We then assign the three variables (columns) the appropriate tensors."
      ],
      "metadata": {
        "id": "8ELrH1BWUpDf"
      }
    },
    {
      "cell_type": "code",
      "source": [
        "train = torch.tensor(df.values, dtype=torch.float)\n",
        "is_cont_africa, ruggedness, log_gdp = train[:, 0], train[:, 1], train[:, 2]"
      ],
      "metadata": {
        "id": "6Sxg8--3THfv"
      },
      "execution_count": 7,
      "outputs": []
    },
    {
      "cell_type": "code",
      "source": [
        "train.shape"
      ],
      "metadata": {
        "colab": {
          "base_uri": "https://localhost:8080/"
        },
        "id": "t56BNxCjTmHO",
        "outputId": "2b862a92-f999-45dc-b09b-81ba65a7a057"
      },
      "execution_count": 8,
      "outputs": [
        {
          "output_type": "execute_result",
          "data": {
            "text/plain": [
              "torch.Size([170, 3])"
            ]
          },
          "metadata": {},
          "execution_count": 8
        }
      ]
    },
    {
      "cell_type": "markdown",
      "source": [
        "Let's try to visualize our data.\n",
        "\n",
        "1. A scatter plot of african nation rugged index on x axis and their GDPs on the y axis."
      ],
      "metadata": {
        "id": "WYJCXO4OWIrk"
      }
    },
    {
      "cell_type": "code",
      "source": [
        "# Create a subset of the original dataframe containing only African countries\n",
        "african_countries = df[df['cont_africa'] == 1]\n",
        "\n",
        "# Create a scatter plot of ruggedness vs. log GDP for African countries\n",
        "sns.scatterplot( x = african_countries['rugged'],\n",
        "                y = african_countries['rgdppc_2000'])\n",
        "\n",
        "\n",
        "# Set the plot title and axis labels\n",
        "plt.title('Relationship Between Ruggedness and GDP for African Countries')\n",
        "plt.xlabel('Ruggedness')\n",
        "plt.ylabel('Log GDP')\n",
        "\n",
        "# Display the plot\n",
        "plt.show()"
      ],
      "metadata": {
        "colab": {
          "base_uri": "https://localhost:8080/",
          "height": 472
        },
        "id": "n2HUfp9rTt00",
        "outputId": "d40a595b-1b1a-42b7-8cf2-eb28d16ecc6f"
      },
      "execution_count": 9,
      "outputs": [
        {
          "output_type": "display_data",
          "data": {
            "text/plain": [
              "<Figure size 640x480 with 1 Axes>"
            ],
            "image/png": "[encoded data removed]"
          },
          "metadata": {}
        }
      ]
    },
    {
      "cell_type": "markdown",
      "source": [
        "2. We can use the above code (only changing the countries to non-african) to plot for non- african countries as well."
      ],
      "metadata": {
        "id": "Yf4E_ZJPYdsQ"
      }
    },
    {
      "cell_type": "code",
      "source": [
        "# Create a subset of the original dataframe containing only African countries\n",
        "non_african_countries = df[df['cont_africa'] == 0]\n",
        "\n",
        "# Create a scatter plot of ruggedness vs. log GDP for African countries\n",
        "sns.scatterplot( x = non_african_countries['rugged'],\n",
        "                y = non_african_countries['rgdppc_2000'])\n",
        "\n",
        "\n",
        "# Set the plot title and axis labels\n",
        "plt.title('Relationship Between Ruggedness and GDP for non African Countries')\n",
        "plt.xlabel('Ruggedness')\n",
        "plt.ylabel('Log GDP')\n",
        "\n",
        "# Display the plot"
      ],
      "metadata": {
        "colab": {
          "base_uri": "https://localhost:8080/",
          "height": 489
        },
        "id": "BwjaufJOXhR5",
        "outputId": "085d10ec-c653-417d-9633-ea96348e2249"
      },
      "execution_count": 10,
      "outputs": [
        {
          "output_type": "execute_result",
          "data": {
            "text/plain": [
              "Text(0, 0.5, 'Log GDP')"
            ]
          },
          "metadata": {},
          "execution_count": 10
        },
        {
          "output_type": "display_data",
          "data": {
            "text/plain": [
              "<Figure size 640x480 with 1 Axes>"
            ],
            "image/png": "[encoded data removed]"
          },
          "metadata": {}
        }
      ]
    },
    {
      "cell_type": "markdown",
      "source": [
        "The two plot show that there is a possibile relationship between the ruggedness and GDP.\n",
        "\n",
        "We can be certain by employing bayesian linear regression."
      ],
      "metadata": {
        "id": "l65_WnhLc_OC"
      }
    },
    {
      "cell_type": "code",
      "source": [
        "import pyro.distributions as dist\n",
        "import pyro.distributions.constraints as constraints\n",
        "\n",
        "# we create a pyro model and pass three variables with log_gdp as none as its the dependent variable\n",
        "def simple_model(is_cont_africa, ruggedness, log_gdp=None):\n",
        "\n",
        "  # we define model parameters as pyro parameters which could be learned by inference\n",
        "    a = pyro.param(\"a\", lambda: torch.randn(()))\n",
        "    b_a = pyro.param(\"bA\", lambda: torch.randn(()))\n",
        "    b_r = pyro.param(\"bR\", lambda: torch.randn(()))\n",
        "    b_ar = pyro.param(\"bAR\", lambda: torch.randn(()))\n",
        "    sigma = pyro.param(\"sigma\", lambda: torch.ones(()), constraint=constraints.positive)\n",
        "\n",
        "\n",
        "    #  mean of the normal distribution that describes the relationship dependent and independent variable\n",
        "    mean = a + b_a * is_cont_africa + b_r * ruggedness + b_ar * is_cont_africa * ruggedness\n",
        "\n",
        "# calculate the posterior distribution over the model parameters given the observed data\n",
        "    with pyro.plate(\"data\", len(ruggedness)):\n",
        "        return pyro.sample(\"obs\", dist.Normal(mean, sigma), obs=log_gdp)\n",
        "\n",
        "#generates a graphical representation of the model\n",
        "pyro.render_model(simple_model, model_args=(is_cont_africa, ruggedness, log_gdp), render_distributions=True, render_params=True)\n"
      ],
      "metadata": {
        "id": "xNncfADddhFg",
        "outputId": "995bd35f-2d1b-4028-ff79-1ca3467ae8e2",
        "colab": {
          "base_uri": "https://localhost:8080/",
          "height": 311
        }
      },
      "execution_count": 11,
      "outputs": [
        {
          "output_type": "execute_result",
          "data": {
            "image/svg+xml": "<?xml version=\"1.0\" encoding=\"UTF-8\" standalone=\"no\"?>\n<!DOCTYPE svg PUBLIC \"-//W3C//DTD SVG 1.1//EN\"\n \"http://www.w3.org/Graphics/SVG/1.1/DTD/svg11.dtd\">\n<!-- Generated by graphviz version 2.43.0 (0)\n -->\n<!-- Title: %3 Pages: 1 -->\n<svg width=\"435pt\" height=\"217pt\"\n viewBox=\"0.00 0.00 434.50 217.00\" xmlns=\"http://www.w3.org/2000/svg\" xmlns:xlink=\"http://www.w3.org/1999/xlink\">\n<g id=\"graph0\" class=\"graph\" transform=\"scale(1 1) rotate(0) translate(4 213)\">\n<title>%3</title>\n<polygon fill=\"white\" stroke=\"transparent\" points=\"-4,4 -4,-213 430.5,-213 430.5,4 -4,4\"/>\n<g id=\"clust1\" class=\"cluster\">\n<title>cluster_data</title>\n<polygon fill=\"none\" stroke=\"black\" points=\"42,-8 42,-83 112,-83 112,-8 42,-8\"/>\n<text text-anchor=\"middle\" x=\"92.5\" y=\"-15.8\" font-family=\"Times,serif\" font-size=\"14.00\">data</text>\n</g>\n<!-- bR -->\n<g id=\"node1\" class=\"node\">\n<title>bR</title>\n<polygon fill=\"white\" stroke=\"transparent\" points=\"16,-167.5 0,-167.5 0,-152.5 16,-152.5 16,-167.5\"/>\n<text text-anchor=\"middle\" x=\"8\" y=\"-156.3\" font-family=\"Times,serif\" font-size=\"14.00\">bR</text>\n</g>\n<!-- obs -->\n<g id=\"node6\" class=\"node\">\n<title>obs</title>\n<ellipse fill=\"gray\" stroke=\"black\" cx=\"77\" cy=\"-57\" rx=\"27\" ry=\"18\"/>\n<text text-anchor=\"middle\" x=\"77\" y=\"-53.3\" font-family=\"Times,serif\" font-size=\"14.00\">obs</text>\n</g>\n<!-- bR&#45;&gt;obs -->\n<g id=\"edge1\" class=\"edge\">\n<title>bR&#45;&gt;obs</title>\n<path fill=\"none\" stroke=\"black\" d=\"M9.38,-152.39C11.59,-142.74 16.57,-124.5 25,-111 32.54,-98.92 43.26,-87.4 53,-78.2\"/>\n<polygon fill=\"black\" stroke=\"black\" points=\"55.49,-80.67 60.53,-71.36 50.78,-75.49 55.49,-80.67\"/>\n</g>\n<!-- a -->\n<g id=\"node2\" class=\"node\">\n<title>a</title>\n<polygon fill=\"white\" stroke=\"transparent\" points=\"41.5,-167.5 34.5,-167.5 34.5,-152.5 41.5,-152.5 41.5,-167.5\"/>\n<text text-anchor=\"middle\" x=\"38\" y=\"-156.3\" font-family=\"Times,serif\" font-size=\"14.00\">a</text>\n</g>\n<!-- a&#45;&gt;obs -->\n<g id=\"edge3\" class=\"edge\">\n<title>a&#45;&gt;obs</title>\n<path fill=\"none\" stroke=\"black\" d=\"M39.38,-152.35C41.41,-142.97 45.58,-125.38 51,-111 54.47,-101.8 58.98,-92.06 63.28,-83.47\"/>\n<polygon fill=\"black\" stroke=\"black\" points=\"66.51,-84.84 67.97,-74.35 60.28,-81.64 66.51,-84.84\"/>\n</g>\n<!-- sigma -->\n<g id=\"node3\" class=\"node\">\n<title>sigma</title>\n<polygon fill=\"white\" stroke=\"transparent\" points=\"94,-167.5 60,-167.5 60,-152.5 94,-152.5 94,-167.5\"/>\n<text text-anchor=\"middle\" x=\"77\" y=\"-156.3\" font-family=\"Times,serif\" font-size=\"14.00\">sigma</text>\n</g>\n<!-- sigma&#45;&gt;obs -->\n<g id=\"edge5\" class=\"edge\">\n<title>sigma&#45;&gt;obs</title>\n<path fill=\"none\" stroke=\"black\" d=\"M77,-152.37C77,-139.04 77,-108.29 77,-85.49\"/>\n<polygon fill=\"black\" stroke=\"black\" points=\"80.5,-85.36 77,-75.36 73.5,-85.36 80.5,-85.36\"/>\n</g>\n<!-- bAR -->\n<g id=\"node4\" class=\"node\">\n<title>bAR</title>\n<polygon fill=\"white\" stroke=\"transparent\" points=\"138,-167.5 112,-167.5 112,-152.5 138,-152.5 138,-167.5\"/>\n<text text-anchor=\"middle\" x=\"125\" y=\"-156.3\" font-family=\"Times,serif\" font-size=\"14.00\">bAR</text>\n</g>\n<!-- bAR&#45;&gt;obs -->\n<g id=\"edge2\" class=\"edge\">\n<title>bAR&#45;&gt;obs</title>\n<path fill=\"none\" stroke=\"black\" d=\"M122.07,-152.45C117.9,-143.19 109.99,-125.74 103,-111 98.68,-101.89 93.84,-91.95 89.51,-83.17\"/>\n<polygon fill=\"black\" stroke=\"black\" points=\"92.64,-81.6 85.08,-74.18 86.37,-84.7 92.64,-81.6\"/>\n</g>\n<!-- bA -->\n<g id=\"node5\" class=\"node\">\n<title>bA</title>\n<polygon fill=\"white\" stroke=\"transparent\" points=\"173.5,-167.5 156.5,-167.5 156.5,-152.5 173.5,-152.5 173.5,-167.5\"/>\n<text text-anchor=\"middle\" x=\"165\" y=\"-156.3\" font-family=\"Times,serif\" font-size=\"14.00\">bA</text>\n</g>\n<!-- bA&#45;&gt;obs -->\n<g id=\"edge4\" class=\"edge\">\n<title>bA&#45;&gt;obs</title>\n<path fill=\"none\" stroke=\"black\" d=\"M163.71,-152.22C161.59,-142.36 156.58,-123.84 147,-111 136.09,-96.37 120.06,-83.82 106.1,-74.62\"/>\n<polygon fill=\"black\" stroke=\"black\" points=\"107.62,-71.44 97.3,-69.07 103.89,-77.36 107.62,-71.44\"/>\n</g>\n<!-- distribution_description_node -->\n<g id=\"node7\" class=\"node\">\n<title>distribution_description_node</title>\n<text text-anchor=\"start\" x=\"199.5\" y=\"-193.8\" font-family=\"Times,serif\" font-size=\"14.00\">obs ~ Normal</text>\n<text text-anchor=\"start\" x=\"199.5\" y=\"-178.8\" font-family=\"Times,serif\" font-size=\"14.00\">a : Real()</text>\n<text text-anchor=\"start\" x=\"199.5\" y=\"-163.8\" font-family=\"Times,serif\" font-size=\"14.00\">bA : Real()</text>\n<text text-anchor=\"start\" x=\"199.5\" y=\"-148.8\" font-family=\"Times,serif\" font-size=\"14.00\">bR : Real()</text>\n<text text-anchor=\"start\" x=\"199.5\" y=\"-133.8\" font-family=\"Times,serif\" font-size=\"14.00\">bAR : Real()</text>\n<text text-anchor=\"start\" x=\"199.5\" y=\"-118.8\" font-family=\"Times,serif\" font-size=\"14.00\">sigma : GreaterThan(lower_bound=0.0)</text>\n</g>\n</g>\n</svg>\n",
            "text/plain": [
              "<graphviz.graphs.Digraph at 0x7f7709c815b0>"
            ]
          },
          "metadata": {},
          "execution_count": 11
        }
      ]
    },
    {
      "cell_type": "markdown",
      "source": [
        "In the above code;\n",
        "1. we import the pyro libraries that we need for distribution and constraints definition\n",
        "\n",
        "2. we define a model function that will take in the three variable -- 2 independent (is_cont_africa and ruggedness) and one dependent (log_gdp)\n",
        "\n",
        "3. We initialize model parameters as pyro learnable parameters that could be learned through probabilistic inference. \n",
        "\n",
        "4. we define the multiple regression predictor function that will calculate the normal distribution that describes the relationship between the predictors (independent)and reponse (or dependent) variable in this case log GDP. \n",
        "\n",
        "5. We lastly  calculate the posterior distribution over the model parameters given the observed data and render them as graphical representation."
      ],
      "metadata": {
        "id": "CbTrtZjnnsFw"
      }
    },
    {
      "cell_type": "markdown",
      "source": [
        "**Variational inference:**\n",
        " this is one of the approximate inference algorithms.\n",
        "\n",
        "This is how it works:\n",
        " - Finds the real-valued parameters( $\\theta_{max}$) of distribution $𝑞_𝜙(z)$ \n",
        " - Compute the approximation of parameterized distribution $𝑞_𝜙(z)$ to true unknown posterior $𝑃𝜃_{max}(z|x)$. $𝜙$ is variational parameter.\n",
        " - To get the approximations, convert the intergrals into optimization of functions $𝘗$ and $𝑞$.\n",
        " \n",
        "  mean-field approximation -> approximate the posterior distribution over the parameters of a model,"
      ],
      "metadata": {
        "id": "ql6vvG2CxqWq"
      }
    },
    {
      "cell_type": "code",
      "source": [
        "# we define a guide function that takes same parameters as the model above\n",
        "#guide function the variational distribution\n",
        "def custom_guide(is_cont_africa, ruggedness, log_gdp=None):\n",
        "\n",
        "  # we define and initialize the pyro parameters used by the guide. \n",
        "  a_loc = pyro.param(\"a_loc\", lambda: torch.tensor(0.))\n",
        "  a_scale = pyro.param(\"a_scale\", lambda: torch.tensor(1.), constraint=constraints.positive)\n",
        "  sigma_loc = pyro.param(\"sigma_loc\", lambda: torch.tensor(1.), constraint=constraints.positive)\n",
        "\n",
        "  weights_loc = pyro.param(\"weights_loc\", lambda:torch.randn(3))\n",
        "  weights_scale = pyro.param(\"weights_scale\", lambda:torch.ones(3), constraint=constraints.positive)\n",
        "  \n",
        "  a = pyro.sample(\"a\", dist.Normal(a_loc, a_scale))\n",
        "  b_a = pyro.sample(\"bA\", dist.Normal(weights_loc[0], weights_scale[0]))\n",
        "  b_r = pyro.sample(\"bR\", dist.Normal(weights_loc[1], weights_scale[1]))\n",
        "  b_ar = pyro.sample(\"bAR\", dist.Normal(weights_loc[2], weights_scale[2]))\n",
        "  sigma = pyro.sample(\"sigma\", dist.Normal(sigma_loc, torch.tensor(0.05)))\n",
        "  return {\"a\": a, \"b_a\": b_a, \"b_r\": b_r, \"b_ar\": b_ar, \"sigma\": sigma}\n"
      ],
      "metadata": {
        "id": "KNgQSGJJprK6"
      },
      "execution_count": 17,
      "outputs": []
    },
    {
      "cell_type": "code",
      "source": [
        "#visualize that random variables\n",
        "pyro.render_model(custom_guide, model_args=(is_cont_africa, ruggedness,log_gdp), render_params=True)"
      ],
      "metadata": {
        "id": "I4y9TGsY4PJr",
        "outputId": "6bd329bb-d18f-4306-bc2c-2506b9c8c3d5",
        "colab": {
          "base_uri": "https://localhost:8080/",
          "height": 148
        }
      },
      "execution_count": 19,
      "outputs": [
        {
          "output_type": "execute_result",
          "data": {
            "image/svg+xml": "<?xml version=\"1.0\" encoding=\"UTF-8\" standalone=\"no\"?>\n<!DOCTYPE svg PUBLIC \"-//W3C//DTD SVG 1.1//EN\"\n \"http://www.w3.org/Graphics/SVG/1.1/DTD/svg11.dtd\">\n<!-- Generated by graphviz version 2.43.0 (0)\n -->\n<!-- Title: %3 Pages: 1 -->\n<svg width=\"390pt\" height=\"95pt\"\n viewBox=\"0.00 0.00 390.50 95.00\" xmlns=\"http://www.w3.org/2000/svg\" xmlns:xlink=\"http://www.w3.org/1999/xlink\">\n<g id=\"graph0\" class=\"graph\" transform=\"scale(1 1) rotate(0) translate(4 91)\">\n<title>%3</title>\n<polygon fill=\"white\" stroke=\"transparent\" points=\"-4,4 -4,-91 386.5,-91 386.5,4 -4,4\"/>\n<!-- a -->\n<g id=\"node1\" class=\"node\">\n<title>a</title>\n<ellipse fill=\"white\" stroke=\"black\" cx=\"46\" cy=\"-18\" rx=\"27\" ry=\"18\"/>\n<text text-anchor=\"middle\" x=\"46\" y=\"-14.3\" font-family=\"Times,serif\" font-size=\"14.00\">a</text>\n</g>\n<!-- bA -->\n<g id=\"node2\" class=\"node\">\n<title>bA</title>\n<ellipse fill=\"white\" stroke=\"black\" cx=\"118\" cy=\"-18\" rx=\"27\" ry=\"18\"/>\n<text text-anchor=\"middle\" x=\"118\" y=\"-14.3\" font-family=\"Times,serif\" font-size=\"14.00\">bA</text>\n</g>\n<!-- bR -->\n<g id=\"node3\" class=\"node\">\n<title>bR</title>\n<ellipse fill=\"white\" stroke=\"black\" cx=\"190\" cy=\"-18\" rx=\"27\" ry=\"18\"/>\n<text text-anchor=\"middle\" x=\"190\" y=\"-14.3\" font-family=\"Times,serif\" font-size=\"14.00\">bR</text>\n</g>\n<!-- bAR -->\n<g id=\"node4\" class=\"node\">\n<title>bAR</title>\n<ellipse fill=\"white\" stroke=\"black\" cx=\"262\" cy=\"-18\" rx=\"27.1\" ry=\"18\"/>\n<text text-anchor=\"middle\" x=\"262\" y=\"-14.3\" font-family=\"Times,serif\" font-size=\"14.00\">bAR</text>\n</g>\n<!-- sigma -->\n<g id=\"node5\" class=\"node\">\n<title>sigma</title>\n<ellipse fill=\"white\" stroke=\"black\" cx=\"350\" cy=\"-18\" rx=\"32.49\" ry=\"18\"/>\n<text text-anchor=\"middle\" x=\"350\" y=\"-14.3\" font-family=\"Times,serif\" font-size=\"14.00\">sigma</text>\n</g>\n<!-- weights_loc -->\n<g id=\"node6\" class=\"node\">\n<title>weights_loc</title>\n<polygon fill=\"white\" stroke=\"transparent\" points=\"196,-87 130,-87 130,-72 196,-72 196,-87\"/>\n<text text-anchor=\"middle\" x=\"163\" y=\"-75.8\" font-family=\"Times,serif\" font-size=\"14.00\">weights_loc</text>\n</g>\n<!-- weights_loc&#45;&gt;bA -->\n<g id=\"edge4\" class=\"edge\">\n<title>weights_loc&#45;&gt;bA</title>\n<path fill=\"none\" stroke=\"black\" d=\"M157.84,-71.67C152.45,-64.55 143.68,-52.96 135.75,-42.47\"/>\n<polygon fill=\"black\" stroke=\"black\" points=\"138.46,-40.25 129.64,-34.39 132.88,-44.48 138.46,-40.25\"/>\n</g>\n<!-- weights_loc&#45;&gt;bR -->\n<g id=\"edge5\" class=\"edge\">\n<title>weights_loc&#45;&gt;bR</title>\n<path fill=\"none\" stroke=\"black\" d=\"M166.1,-71.67C169.12,-65.01 173.91,-54.46 178.41,-44.54\"/>\n<polygon fill=\"black\" stroke=\"black\" points=\"181.62,-45.93 182.57,-35.38 175.25,-43.04 181.62,-45.93\"/>\n</g>\n<!-- weights_loc&#45;&gt;bAR -->\n<g id=\"edge8\" class=\"edge\">\n<title>weights_loc&#45;&gt;bAR</title>\n<path fill=\"none\" stroke=\"black\" d=\"M173.97,-71.91C188.29,-63.3 213.87,-47.93 233.78,-35.96\"/>\n<polygon fill=\"black\" stroke=\"black\" points=\"235.69,-38.89 242.46,-30.74 232.09,-32.89 235.69,-38.89\"/>\n</g>\n<!-- weights_scale -->\n<g id=\"node7\" class=\"node\">\n<title>weights_scale</title>\n<polygon fill=\"white\" stroke=\"transparent\" points=\"290,-87 214,-87 214,-72 290,-72 290,-87\"/>\n<text text-anchor=\"middle\" x=\"252\" y=\"-75.8\" font-family=\"Times,serif\" font-size=\"14.00\">weights_scale</text>\n</g>\n<!-- weights_scale&#45;&gt;bA -->\n<g id=\"edge3\" class=\"edge\">\n<title>weights_scale&#45;&gt;bA</title>\n<path fill=\"none\" stroke=\"black\" d=\"M236.32,-71.88C216.91,-63.65 182.89,-49.08 154,-36 152.21,-35.19 150.36,-34.35 148.51,-33.49\"/>\n<polygon fill=\"black\" stroke=\"black\" points=\"149.81,-30.23 139.27,-29.18 146.85,-36.58 149.81,-30.23\"/>\n</g>\n<!-- weights_scale&#45;&gt;bR -->\n<g id=\"edge6\" class=\"edge\">\n<title>weights_scale&#45;&gt;bR</title>\n<path fill=\"none\" stroke=\"black\" d=\"M244.89,-71.67C236.96,-64.06 223.73,-51.37 212.25,-40.35\"/>\n<polygon fill=\"black\" stroke=\"black\" points=\"214.67,-37.82 205.03,-33.42 209.82,-42.87 214.67,-37.82\"/>\n</g>\n<!-- weights_scale&#45;&gt;bAR -->\n<g id=\"edge7\" class=\"edge\">\n<title>weights_scale&#45;&gt;bAR</title>\n<path fill=\"none\" stroke=\"black\" d=\"M253.15,-71.67C254.21,-65.35 255.86,-55.53 257.45,-46.07\"/>\n<polygon fill=\"black\" stroke=\"black\" points=\"260.92,-46.57 259.12,-36.13 254.01,-45.41 260.92,-46.57\"/>\n</g>\n<!-- a_scale -->\n<g id=\"node8\" class=\"node\">\n<title>a_scale</title>\n<polygon fill=\"white\" stroke=\"transparent\" points=\"40,-87 0,-87 0,-72 40,-72 40,-87\"/>\n<text text-anchor=\"middle\" x=\"20\" y=\"-75.8\" font-family=\"Times,serif\" font-size=\"14.00\">a_scale</text>\n</g>\n<!-- a_scale&#45;&gt;a -->\n<g id=\"edge1\" class=\"edge\">\n<title>a_scale&#45;&gt;a</title>\n<path fill=\"none\" stroke=\"black\" d=\"M22.98,-71.67C25.89,-65.01 30.51,-54.46 34.84,-44.54\"/>\n<polygon fill=\"black\" stroke=\"black\" points=\"38.05,-45.94 38.84,-35.38 31.63,-43.14 38.05,-45.94\"/>\n</g>\n<!-- sigma_loc -->\n<g id=\"node9\" class=\"node\">\n<title>sigma_loc</title>\n<polygon fill=\"white\" stroke=\"transparent\" points=\"378.5,-87 321.5,-87 321.5,-72 378.5,-72 378.5,-87\"/>\n<text text-anchor=\"middle\" x=\"350\" y=\"-75.8\" font-family=\"Times,serif\" font-size=\"14.00\">sigma_loc</text>\n</g>\n<!-- sigma_loc&#45;&gt;sigma -->\n<g id=\"edge9\" class=\"edge\">\n<title>sigma_loc&#45;&gt;sigma</title>\n<path fill=\"none\" stroke=\"black\" d=\"M350,-71.67C350,-65.42 350,-55.74 350,-46.37\"/>\n<polygon fill=\"black\" stroke=\"black\" points=\"353.5,-46.13 350,-36.13 346.5,-46.13 353.5,-46.13\"/>\n</g>\n<!-- a_loc -->\n<g id=\"node10\" class=\"node\">\n<title>a_loc</title>\n<polygon fill=\"white\" stroke=\"transparent\" points=\"88,-87 58,-87 58,-72 88,-72 88,-87\"/>\n<text text-anchor=\"middle\" x=\"73\" y=\"-75.8\" font-family=\"Times,serif\" font-size=\"14.00\">a_loc</text>\n</g>\n<!-- a_loc&#45;&gt;a -->\n<g id=\"edge2\" class=\"edge\">\n<title>a_loc&#45;&gt;a</title>\n<path fill=\"none\" stroke=\"black\" d=\"M69.9,-71.67C66.88,-65.01 62.09,-54.46 57.59,-44.54\"/>\n<polygon fill=\"black\" stroke=\"black\" points=\"60.75,-43.04 53.43,-35.38 54.38,-45.93 60.75,-43.04\"/>\n</g>\n</g>\n</svg>\n",
            "text/plain": [
              "<graphviz.graphs.Digraph at 0x7f770841f070>"
            ]
          },
          "metadata": {},
          "execution_count": 19
        }
      ]
    },
    {
      "cell_type": "code",
      "source": [
        "#generating an autoguide\n",
        "auto_guide = pyro.infer.autoguide.AutoNormal(simple_model)\n",
        "pyro.render_model(auto_guide, model_args=(is_cont_africa, ruggedness), render_distributions=True, render_params=True)"
      ],
      "metadata": {
        "id": "kE3cc5Xq4ojX",
        "outputId": "e08059e2-33d2-4cf7-f6e5-e9f097074ce6",
        "colab": {
          "base_uri": "https://localhost:8080/",
          "height": 367
        }
      },
      "execution_count": 25,
      "outputs": [
        {
          "output_type": "execute_result",
          "data": {
            "image/svg+xml": "<?xml version=\"1.0\" encoding=\"UTF-8\" standalone=\"no\"?>\n<!DOCTYPE svg PUBLIC \"-//W3C//DTD SVG 1.1//EN\"\n \"http://www.w3.org/Graphics/SVG/1.1/DTD/svg11.dtd\">\n<!-- Generated by graphviz version 2.43.0 (0)\n -->\n<!-- Title: %3 Pages: 1 -->\n<svg width=\"480pt\" height=\"259pt\"\n viewBox=\"0.00 0.00 479.50 259.00\" xmlns=\"http://www.w3.org/2000/svg\" xmlns:xlink=\"http://www.w3.org/1999/xlink\">\n<g id=\"graph0\" class=\"graph\" transform=\"scale(1 1) rotate(0) translate(4 255)\">\n<title>%3</title>\n<polygon fill=\"white\" stroke=\"transparent\" points=\"-4,4 -4,-255 475.5,-255 475.5,4 -4,4\"/>\n<g id=\"clust1\" class=\"cluster\">\n<title>cluster_data</title>\n<polygon fill=\"none\" stroke=\"black\" points=\"49,-8 49,-155 219,-155 219,-8 49,-8\"/>\n<text text-anchor=\"middle\" x=\"199.5\" y=\"-15.8\" font-family=\"Times,serif\" font-size=\"14.00\">data</text>\n</g>\n<!-- AutoNormal.scales.obs -->\n<g id=\"node1\" class=\"node\">\n<title>AutoNormal.scales.obs</title>\n<polygon fill=\"white\" stroke=\"transparent\" points=\"128,-224.5 0,-224.5 0,-209.5 128,-209.5 128,-224.5\"/>\n<text text-anchor=\"middle\" x=\"64\" y=\"-213.3\" font-family=\"Times,serif\" font-size=\"14.00\">AutoNormal.scales.obs</text>\n</g>\n<!-- obs_unconstrained -->\n<g id=\"node3\" class=\"node\">\n<title>obs_unconstrained</title>\n<ellipse fill=\"white\" stroke=\"black\" cx=\"134\" cy=\"-129\" rx=\"76.89\" ry=\"18\"/>\n<text text-anchor=\"middle\" x=\"134\" y=\"-125.3\" font-family=\"Times,serif\" font-size=\"14.00\">obs_unconstrained</text>\n</g>\n<!-- AutoNormal.scales.obs&#45;&gt;obs_unconstrained -->\n<g id=\"edge2\" class=\"edge\">\n<title>AutoNormal.scales.obs&#45;&gt;obs_unconstrained</title>\n<path fill=\"none\" stroke=\"black\" d=\"M69.49,-209.25C78.93,-197.66 98.65,-173.42 113.82,-154.79\"/>\n<polygon fill=\"black\" stroke=\"black\" points=\"116.61,-156.9 120.21,-146.94 111.18,-152.49 116.61,-156.9\"/>\n</g>\n<!-- AutoNormal.locs.obs -->\n<g id=\"node2\" class=\"node\">\n<title>AutoNormal.locs.obs</title>\n<polygon fill=\"white\" stroke=\"transparent\" points=\"264,-224.5 146,-224.5 146,-209.5 264,-209.5 264,-224.5\"/>\n<text text-anchor=\"middle\" x=\"205\" y=\"-213.3\" font-family=\"Times,serif\" font-size=\"14.00\">AutoNormal.locs.obs</text>\n</g>\n<!-- AutoNormal.locs.obs&#45;&gt;obs_unconstrained -->\n<g id=\"edge3\" class=\"edge\">\n<title>AutoNormal.locs.obs&#45;&gt;obs_unconstrained</title>\n<path fill=\"none\" stroke=\"black\" d=\"M199.43,-209.25C189.86,-197.66 169.85,-173.42 154.46,-154.79\"/>\n<polygon fill=\"black\" stroke=\"black\" points=\"157.05,-152.42 147.98,-146.94 151.65,-156.88 157.05,-152.42\"/>\n</g>\n<!-- obs -->\n<g id=\"node4\" class=\"node\">\n<title>obs</title>\n<ellipse fill=\"white\" stroke=\"black\" cx=\"134\" cy=\"-57\" rx=\"27\" ry=\"18\"/>\n<text text-anchor=\"middle\" x=\"134\" y=\"-53.3\" font-family=\"Times,serif\" font-size=\"14.00\">obs</text>\n</g>\n<!-- obs_unconstrained&#45;&gt;obs -->\n<g id=\"edge1\" class=\"edge\">\n<title>obs_unconstrained&#45;&gt;obs</title>\n<path fill=\"none\" stroke=\"black\" d=\"M134,-110.7C134,-102.98 134,-93.71 134,-85.11\"/>\n<polygon fill=\"black\" stroke=\"black\" points=\"137.5,-85.1 134,-75.1 130.5,-85.1 137.5,-85.1\"/>\n</g>\n<!-- distribution_description_node -->\n<g id=\"node5\" class=\"node\">\n<title>distribution_description_node</title>\n<text text-anchor=\"start\" x=\"290.5\" y=\"-235.8\" font-family=\"Times,serif\" font-size=\"14.00\">obs_unconstrained ~ Normal</text>\n<text text-anchor=\"start\" x=\"290.5\" y=\"-220.8\" font-family=\"Times,serif\" font-size=\"14.00\">obs ~ Delta</text>\n<text text-anchor=\"start\" x=\"290.5\" y=\"-205.8\" font-family=\"Times,serif\" font-size=\"14.00\">AutoNormal.locs.obs : Real()</text>\n<text text-anchor=\"start\" x=\"290.5\" y=\"-190.8\" font-family=\"Times,serif\" font-size=\"14.00\">AutoNormal.scales.obs : Real()</text>\n</g>\n</g>\n</svg>\n",
            "text/plain": [
              "<graphviz.graphs.Digraph at 0x7f7638a046d0>"
            ]
          },
          "metadata": {},
          "execution_count": 25
        }
      ]
    },
    {
      "cell_type": "markdown",
      "source": [
        "**Optimization:** evidence lower bound (ELBO)\n",
        "\n",
        "ELBO = $Ε_{𝑞_𝜙(z)}[logp_𝜃(x,z) - logq_𝜙(z)]$\n",
        "\n",
        "$logp_𝜃(x,z)$ this is the log of the functional of a model\n",
        "\n",
        "$logq_𝜙(z)$ and this is of a guide (variational distribution).\n",
        "\n",
        "the goal is to compute all the probabilities in the expectation of the log difference of the model and the guide.\n",
        "\n",
        "Optimizing the ELBO is by use of stochastic gradient descent using the gradient estimates using stochastic variational inference (SVI)\n"
      ],
      "metadata": {
        "id": "nC9MsQDy61Oz"
      }
    },
    {
      "cell_type": "code",
      "source": [
        "def model():\n",
        "    pyro.sample(\"z_1\", ...)"
      ],
      "metadata": {
        "id": "4D8x3WAM_f6d"
      },
      "execution_count": 35,
      "outputs": []
    },
    {
      "cell_type": "code",
      "source": [
        "def guide():\n",
        "    pyro.sample(\"z_1\", ...)"
      ],
      "metadata": {
        "id": "l5zVHO8NAwUC"
      },
      "execution_count": 36,
      "outputs": []
    },
    {
      "cell_type": "code",
      "source": [
        "auto_guide2 = pyro.infer.autoguide.AutoNormal(model)"
      ],
      "metadata": {
        "id": "kCZbWJ1P_kWB"
      },
      "execution_count": 37,
      "outputs": []
    },
    {
      "cell_type": "code",
      "source": [
        "adam  = pyro.optim.Adam({\"lr\":0.02})\n",
        "\n",
        "#optimize the output\n",
        "elbo = pyro.infer.Trace_ELBO()\n",
        "\n",
        "svi = pyro.infer.SVI(model, auto_guide2, adam, elbo)"
      ],
      "metadata": {
        "id": "4P8pM9Y-6KQq"
      },
      "execution_count": 38,
      "outputs": []
    },
    {
      "cell_type": "code",
      "source": [
        "import logging\n",
        "import os\n",
        "smoke_test = ('CI' in os.environ)"
      ],
      "metadata": {
        "id": "-7KEsrYbAG4F"
      },
      "execution_count": 39,
      "outputs": []
    },
    {
      "cell_type": "code",
      "source": [],
      "metadata": {
        "id": "mdJXjLDn_3JQ"
      },
      "execution_count": 43,
      "outputs": []
    }
  ]
}