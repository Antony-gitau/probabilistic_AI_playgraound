{
  "nbformat": 4,
  "nbformat_minor": 0,
  "metadata": {
    "colab": {
      "provenance": [],
      "authorship_tag": "ABX9TyMZNqE8C6kUeO4W6dbvZY4Q",
      "include_colab_link": true
    },
    "kernelspec": {
      "name": "python3",
      "display_name": "Python 3"
    },
    "language_info": {
      "name": "python"
    }
  },
  "cells": [
    {
      "cell_type": "markdown",
      "metadata": {
        "id": "view-in-github",
        "colab_type": "text"
      },
      "source": [
        "<a href=\"https://colab.research.google.com/github/Antony-gitau/probabilistic_AI_playgraound/blob/main/Probability_overview.ipynb\" target=\"_parent\"><img src=\"https://colab.research.google.com/assets/colab-badge.svg\" alt=\"Open In Colab\"/></a>"
      ]
    },
    {
      "cell_type": "markdown",
      "source": [
        "Lets do a probability review with guidance from a [class](https://ermongroup.github.io/cs228-notes/preliminaries/probabilityreview/) online:\n",
        "\n",
        "we will cover both the mathematics and examples of the various concepts.\n",
        "\n",
        "definitions;\n",
        "\n",
        "$Ω$ (omega) - sample space; a set of all possible outcomes of a random experiment.\n",
        "\n",
        "$𝓕$ - event space; subset of possible interest to us.\n",
        "\n",
        "$𝐏$ - probability measure; assigns probabilities to each events $Α ϵ 𝓕$\n",
        "\n",
        "conditional probability of event A given B, \n",
        "\n",
        "Random variables - \n",
        "\n",
        "discrete random variables -\n",
        "\n",
        "continuos random varible -\n",
        "\n",
        "indicator function - "
      ],
      "metadata": {
        "id": "FugXG_Jc8iwA"
      }
    },
    {
      "cell_type": "code",
      "execution_count": null,
      "metadata": {
        "id": "ZOlWVDQU67Pj"
      },
      "outputs": [],
      "source": []
    }
  ]
}